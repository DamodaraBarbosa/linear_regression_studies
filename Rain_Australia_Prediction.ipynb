{
  "nbformat": 4,
  "nbformat_minor": 0,
  "metadata": {
    "colab": {
      "provenance": [],
      "mount_file_id": "1-tVU4X_XRtpWogfjkrc3U7OK1TZRqZik",
      "authorship_tag": "ABX9TyMMokH3ZWKtvXObjb1JTG/C",
      "include_colab_link": true
    },
    "kernelspec": {
      "name": "python3",
      "display_name": "Python 3"
    },
    "language_info": {
      "name": "python"
    }
  },
  "cells": [
    {
      "cell_type": "markdown",
      "metadata": {
        "id": "view-in-github",
        "colab_type": "text"
      },
      "source": [
        "<a href=\"https://colab.research.google.com/github/DamodaraBarbosa/machine_learning_studies/blob/main/Rain_Australia_Prediction.ipynb\" target=\"_parent\"><img src=\"https://colab.research.google.com/assets/colab-badge.svg\" alt=\"Open In Colab\"/></a>"
      ]
    },
    {
      "cell_type": "markdown",
      "source": [
        "Import libraries"
      ],
      "metadata": {
        "id": "Wo0pYc760L6S"
      }
    },
    {
      "cell_type": "code",
      "execution_count": 58,
      "metadata": {
        "id": "VoJB5c9Iz9vT"
      },
      "outputs": [],
      "source": [
        "import pandas as pd\n",
        "import numpy as np\n",
        "import matplotlib.pyplot as plt\n",
        "import seaborn as sns\n",
        "import plotly.express as px\n",
        "import plotly.graph_objects as go"
      ]
    },
    {
      "cell_type": "code",
      "source": [
        "sns.set()"
      ],
      "metadata": {
        "id": "6ho6Jcy46m03"
      },
      "execution_count": 20,
      "outputs": []
    },
    {
      "cell_type": "markdown",
      "source": [
        "# Rain in Australia dataset"
      ],
      "metadata": {
        "id": "Ncc4ZBFu00PV"
      }
    },
    {
      "cell_type": "code",
      "source": [
        "data = pd.read_csv('/content/drive/MyDrive/Kaggle/weatherAUS.csv')\n",
        "data.head()"
      ],
      "metadata": {
        "colab": {
          "base_uri": "https://localhost:8080/",
          "height": 386
        },
        "id": "8RxX0hFF0WJC",
        "outputId": "801f27b2-d80d-4193-9051-de3251106767"
      },
      "execution_count": 11,
      "outputs": [
        {
          "output_type": "execute_result",
          "data": {
            "text/plain": [
              "         Date Location  MinTemp  MaxTemp  Rainfall  Evaporation  Sunshine  \\\n",
              "0  2008-12-01   Albury     13.4     22.9       0.6          NaN       NaN   \n",
              "1  2008-12-02   Albury      7.4     25.1       0.0          NaN       NaN   \n",
              "2  2008-12-03   Albury     12.9     25.7       0.0          NaN       NaN   \n",
              "3  2008-12-04   Albury      9.2     28.0       0.0          NaN       NaN   \n",
              "4  2008-12-05   Albury     17.5     32.3       1.0          NaN       NaN   \n",
              "\n",
              "  WindGustDir  WindGustSpeed WindDir9am  ... Humidity9am  Humidity3pm  \\\n",
              "0           W           44.0          W  ...        71.0         22.0   \n",
              "1         WNW           44.0        NNW  ...        44.0         25.0   \n",
              "2         WSW           46.0          W  ...        38.0         30.0   \n",
              "3          NE           24.0         SE  ...        45.0         16.0   \n",
              "4           W           41.0        ENE  ...        82.0         33.0   \n",
              "\n",
              "   Pressure9am  Pressure3pm  Cloud9am  Cloud3pm  Temp9am  Temp3pm  RainToday  \\\n",
              "0       1007.7       1007.1       8.0       NaN     16.9     21.8         No   \n",
              "1       1010.6       1007.8       NaN       NaN     17.2     24.3         No   \n",
              "2       1007.6       1008.7       NaN       2.0     21.0     23.2         No   \n",
              "3       1017.6       1012.8       NaN       NaN     18.1     26.5         No   \n",
              "4       1010.8       1006.0       7.0       8.0     17.8     29.7         No   \n",
              "\n",
              "   RainTomorrow  \n",
              "0            No  \n",
              "1            No  \n",
              "2            No  \n",
              "3            No  \n",
              "4            No  \n",
              "\n",
              "[5 rows x 23 columns]"
            ],
            "text/html": [
              "\n",
              "  <div id=\"df-4b18580a-ca39-4f5b-8fab-5ae38f78055a\">\n",
              "    <div class=\"colab-df-container\">\n",
              "      <div>\n",
              "<style scoped>\n",
              "    .dataframe tbody tr th:only-of-type {\n",
              "        vertical-align: middle;\n",
              "    }\n",
              "\n",
              "    .dataframe tbody tr th {\n",
              "        vertical-align: top;\n",
              "    }\n",
              "\n",
              "    .dataframe thead th {\n",
              "        text-align: right;\n",
              "    }\n",
              "</style>\n",
              "<table border=\"1\" class=\"dataframe\">\n",
              "  <thead>\n",
              "    <tr style=\"text-align: right;\">\n",
              "      <th></th>\n",
              "      <th>Date</th>\n",
              "      <th>Location</th>\n",
              "      <th>MinTemp</th>\n",
              "      <th>MaxTemp</th>\n",
              "      <th>Rainfall</th>\n",
              "      <th>Evaporation</th>\n",
              "      <th>Sunshine</th>\n",
              "      <th>WindGustDir</th>\n",
              "      <th>WindGustSpeed</th>\n",
              "      <th>WindDir9am</th>\n",
              "      <th>...</th>\n",
              "      <th>Humidity9am</th>\n",
              "      <th>Humidity3pm</th>\n",
              "      <th>Pressure9am</th>\n",
              "      <th>Pressure3pm</th>\n",
              "      <th>Cloud9am</th>\n",
              "      <th>Cloud3pm</th>\n",
              "      <th>Temp9am</th>\n",
              "      <th>Temp3pm</th>\n",
              "      <th>RainToday</th>\n",
              "      <th>RainTomorrow</th>\n",
              "    </tr>\n",
              "  </thead>\n",
              "  <tbody>\n",
              "    <tr>\n",
              "      <th>0</th>\n",
              "      <td>2008-12-01</td>\n",
              "      <td>Albury</td>\n",
              "      <td>13.4</td>\n",
              "      <td>22.9</td>\n",
              "      <td>0.6</td>\n",
              "      <td>NaN</td>\n",
              "      <td>NaN</td>\n",
              "      <td>W</td>\n",
              "      <td>44.0</td>\n",
              "      <td>W</td>\n",
              "      <td>...</td>\n",
              "      <td>71.0</td>\n",
              "      <td>22.0</td>\n",
              "      <td>1007.7</td>\n",
              "      <td>1007.1</td>\n",
              "      <td>8.0</td>\n",
              "      <td>NaN</td>\n",
              "      <td>16.9</td>\n",
              "      <td>21.8</td>\n",
              "      <td>No</td>\n",
              "      <td>No</td>\n",
              "    </tr>\n",
              "    <tr>\n",
              "      <th>1</th>\n",
              "      <td>2008-12-02</td>\n",
              "      <td>Albury</td>\n",
              "      <td>7.4</td>\n",
              "      <td>25.1</td>\n",
              "      <td>0.0</td>\n",
              "      <td>NaN</td>\n",
              "      <td>NaN</td>\n",
              "      <td>WNW</td>\n",
              "      <td>44.0</td>\n",
              "      <td>NNW</td>\n",
              "      <td>...</td>\n",
              "      <td>44.0</td>\n",
              "      <td>25.0</td>\n",
              "      <td>1010.6</td>\n",
              "      <td>1007.8</td>\n",
              "      <td>NaN</td>\n",
              "      <td>NaN</td>\n",
              "      <td>17.2</td>\n",
              "      <td>24.3</td>\n",
              "      <td>No</td>\n",
              "      <td>No</td>\n",
              "    </tr>\n",
              "    <tr>\n",
              "      <th>2</th>\n",
              "      <td>2008-12-03</td>\n",
              "      <td>Albury</td>\n",
              "      <td>12.9</td>\n",
              "      <td>25.7</td>\n",
              "      <td>0.0</td>\n",
              "      <td>NaN</td>\n",
              "      <td>NaN</td>\n",
              "      <td>WSW</td>\n",
              "      <td>46.0</td>\n",
              "      <td>W</td>\n",
              "      <td>...</td>\n",
              "      <td>38.0</td>\n",
              "      <td>30.0</td>\n",
              "      <td>1007.6</td>\n",
              "      <td>1008.7</td>\n",
              "      <td>NaN</td>\n",
              "      <td>2.0</td>\n",
              "      <td>21.0</td>\n",
              "      <td>23.2</td>\n",
              "      <td>No</td>\n",
              "      <td>No</td>\n",
              "    </tr>\n",
              "    <tr>\n",
              "      <th>3</th>\n",
              "      <td>2008-12-04</td>\n",
              "      <td>Albury</td>\n",
              "      <td>9.2</td>\n",
              "      <td>28.0</td>\n",
              "      <td>0.0</td>\n",
              "      <td>NaN</td>\n",
              "      <td>NaN</td>\n",
              "      <td>NE</td>\n",
              "      <td>24.0</td>\n",
              "      <td>SE</td>\n",
              "      <td>...</td>\n",
              "      <td>45.0</td>\n",
              "      <td>16.0</td>\n",
              "      <td>1017.6</td>\n",
              "      <td>1012.8</td>\n",
              "      <td>NaN</td>\n",
              "      <td>NaN</td>\n",
              "      <td>18.1</td>\n",
              "      <td>26.5</td>\n",
              "      <td>No</td>\n",
              "      <td>No</td>\n",
              "    </tr>\n",
              "    <tr>\n",
              "      <th>4</th>\n",
              "      <td>2008-12-05</td>\n",
              "      <td>Albury</td>\n",
              "      <td>17.5</td>\n",
              "      <td>32.3</td>\n",
              "      <td>1.0</td>\n",
              "      <td>NaN</td>\n",
              "      <td>NaN</td>\n",
              "      <td>W</td>\n",
              "      <td>41.0</td>\n",
              "      <td>ENE</td>\n",
              "      <td>...</td>\n",
              "      <td>82.0</td>\n",
              "      <td>33.0</td>\n",
              "      <td>1010.8</td>\n",
              "      <td>1006.0</td>\n",
              "      <td>7.0</td>\n",
              "      <td>8.0</td>\n",
              "      <td>17.8</td>\n",
              "      <td>29.7</td>\n",
              "      <td>No</td>\n",
              "      <td>No</td>\n",
              "    </tr>\n",
              "  </tbody>\n",
              "</table>\n",
              "<p>5 rows × 23 columns</p>\n",
              "</div>\n",
              "      <button class=\"colab-df-convert\" onclick=\"convertToInteractive('df-4b18580a-ca39-4f5b-8fab-5ae38f78055a')\"\n",
              "              title=\"Convert this dataframe to an interactive table.\"\n",
              "              style=\"display:none;\">\n",
              "        \n",
              "  <svg xmlns=\"http://www.w3.org/2000/svg\" height=\"24px\"viewBox=\"0 0 24 24\"\n",
              "       width=\"24px\">\n",
              "    <path d=\"M0 0h24v24H0V0z\" fill=\"none\"/>\n",
              "    <path d=\"M18.56 5.44l.94 2.06.94-2.06 2.06-.94-2.06-.94-.94-2.06-.94 2.06-2.06.94zm-11 1L8.5 8.5l.94-2.06 2.06-.94-2.06-.94L8.5 2.5l-.94 2.06-2.06.94zm10 10l.94 2.06.94-2.06 2.06-.94-2.06-.94-.94-2.06-.94 2.06-2.06.94z\"/><path d=\"M17.41 7.96l-1.37-1.37c-.4-.4-.92-.59-1.43-.59-.52 0-1.04.2-1.43.59L10.3 9.45l-7.72 7.72c-.78.78-.78 2.05 0 2.83L4 21.41c.39.39.9.59 1.41.59.51 0 1.02-.2 1.41-.59l7.78-7.78 2.81-2.81c.8-.78.8-2.07 0-2.86zM5.41 20L4 18.59l7.72-7.72 1.47 1.35L5.41 20z\"/>\n",
              "  </svg>\n",
              "      </button>\n",
              "      \n",
              "  <style>\n",
              "    .colab-df-container {\n",
              "      display:flex;\n",
              "      flex-wrap:wrap;\n",
              "      gap: 12px;\n",
              "    }\n",
              "\n",
              "    .colab-df-convert {\n",
              "      background-color: #E8F0FE;\n",
              "      border: none;\n",
              "      border-radius: 50%;\n",
              "      cursor: pointer;\n",
              "      display: none;\n",
              "      fill: #1967D2;\n",
              "      height: 32px;\n",
              "      padding: 0 0 0 0;\n",
              "      width: 32px;\n",
              "    }\n",
              "\n",
              "    .colab-df-convert:hover {\n",
              "      background-color: #E2EBFA;\n",
              "      box-shadow: 0px 1px 2px rgba(60, 64, 67, 0.3), 0px 1px 3px 1px rgba(60, 64, 67, 0.15);\n",
              "      fill: #174EA6;\n",
              "    }\n",
              "\n",
              "    [theme=dark] .colab-df-convert {\n",
              "      background-color: #3B4455;\n",
              "      fill: #D2E3FC;\n",
              "    }\n",
              "\n",
              "    [theme=dark] .colab-df-convert:hover {\n",
              "      background-color: #434B5C;\n",
              "      box-shadow: 0px 1px 3px 1px rgba(0, 0, 0, 0.15);\n",
              "      filter: drop-shadow(0px 1px 2px rgba(0, 0, 0, 0.3));\n",
              "      fill: #FFFFFF;\n",
              "    }\n",
              "  </style>\n",
              "\n",
              "      <script>\n",
              "        const buttonEl =\n",
              "          document.querySelector('#df-4b18580a-ca39-4f5b-8fab-5ae38f78055a button.colab-df-convert');\n",
              "        buttonEl.style.display =\n",
              "          google.colab.kernel.accessAllowed ? 'block' : 'none';\n",
              "\n",
              "        async function convertToInteractive(key) {\n",
              "          const element = document.querySelector('#df-4b18580a-ca39-4f5b-8fab-5ae38f78055a');\n",
              "          const dataTable =\n",
              "            await google.colab.kernel.invokeFunction('convertToInteractive',\n",
              "                                                     [key], {});\n",
              "          if (!dataTable) return;\n",
              "\n",
              "          const docLinkHtml = 'Like what you see? Visit the ' +\n",
              "            '<a target=\"_blank\" href=https://colab.research.google.com/notebooks/data_table.ipynb>data table notebook</a>'\n",
              "            + ' to learn more about interactive tables.';\n",
              "          element.innerHTML = '';\n",
              "          dataTable['output_type'] = 'display_data';\n",
              "          await google.colab.output.renderOutput(dataTable, element);\n",
              "          const docLink = document.createElement('div');\n",
              "          docLink.innerHTML = docLinkHtml;\n",
              "          element.appendChild(docLink);\n",
              "        }\n",
              "      </script>\n",
              "    </div>\n",
              "  </div>\n",
              "  "
            ]
          },
          "metadata": {},
          "execution_count": 11
        }
      ]
    },
    {
      "cell_type": "markdown",
      "source": [
        "* Dataset's dimensions:"
      ],
      "metadata": {
        "id": "LK_xz8CK08eg"
      }
    },
    {
      "cell_type": "code",
      "source": [
        "f'Number of rows: {data.shape[0]}.'"
      ],
      "metadata": {
        "colab": {
          "base_uri": "https://localhost:8080/",
          "height": 35
        },
        "id": "QbXemB5s1CLg",
        "outputId": "01fa3af3-2f78-412a-f17d-be2489afcd23"
      },
      "execution_count": 5,
      "outputs": [
        {
          "output_type": "execute_result",
          "data": {
            "text/plain": [
              "'Number of rows: 145460.'"
            ],
            "application/vnd.google.colaboratory.intrinsic+json": {
              "type": "string"
            }
          },
          "metadata": {},
          "execution_count": 5
        }
      ]
    },
    {
      "cell_type": "code",
      "source": [
        "f'Number of columns: {data.shape[1]}.'"
      ],
      "metadata": {
        "colab": {
          "base_uri": "https://localhost:8080/",
          "height": 35
        },
        "id": "gLQQ83qW1G9h",
        "outputId": "01a3461c-b978-4ae6-d4dd-8dd3a3039971"
      },
      "execution_count": 6,
      "outputs": [
        {
          "output_type": "execute_result",
          "data": {
            "text/plain": [
              "'Number of columns: 23.'"
            ],
            "application/vnd.google.colaboratory.intrinsic+json": {
              "type": "string"
            }
          },
          "metadata": {},
          "execution_count": 6
        }
      ]
    },
    {
      "cell_type": "markdown",
      "source": [
        "* Dataset's infos:"
      ],
      "metadata": {
        "id": "P1YGB6Z01MSN"
      }
    },
    {
      "cell_type": "code",
      "source": [
        "data.info()"
      ],
      "metadata": {
        "colab": {
          "base_uri": "https://localhost:8080/"
        },
        "id": "uR5YLx5_0sy6",
        "outputId": "3c682105-1489-4e3e-d599-bee548bdaf9c"
      },
      "execution_count": 7,
      "outputs": [
        {
          "output_type": "stream",
          "name": "stdout",
          "text": [
            "<class 'pandas.core.frame.DataFrame'>\n",
            "RangeIndex: 145460 entries, 0 to 145459\n",
            "Data columns (total 23 columns):\n",
            " #   Column         Non-Null Count   Dtype  \n",
            "---  ------         --------------   -----  \n",
            " 0   Date           145460 non-null  object \n",
            " 1   Location       145460 non-null  object \n",
            " 2   MinTemp        143975 non-null  float64\n",
            " 3   MaxTemp        144199 non-null  float64\n",
            " 4   Rainfall       142199 non-null  float64\n",
            " 5   Evaporation    82670 non-null   float64\n",
            " 6   Sunshine       75625 non-null   float64\n",
            " 7   WindGustDir    135134 non-null  object \n",
            " 8   WindGustSpeed  135197 non-null  float64\n",
            " 9   WindDir9am     134894 non-null  object \n",
            " 10  WindDir3pm     141232 non-null  object \n",
            " 11  WindSpeed9am   143693 non-null  float64\n",
            " 12  WindSpeed3pm   142398 non-null  float64\n",
            " 13  Humidity9am    142806 non-null  float64\n",
            " 14  Humidity3pm    140953 non-null  float64\n",
            " 15  Pressure9am    130395 non-null  float64\n",
            " 16  Pressure3pm    130432 non-null  float64\n",
            " 17  Cloud9am       89572 non-null   float64\n",
            " 18  Cloud3pm       86102 non-null   float64\n",
            " 19  Temp9am        143693 non-null  float64\n",
            " 20  Temp3pm        141851 non-null  float64\n",
            " 21  RainToday      142199 non-null  object \n",
            " 22  RainTomorrow   142193 non-null  object \n",
            "dtypes: float64(16), object(7)\n",
            "memory usage: 25.5+ MB\n"
          ]
        }
      ]
    },
    {
      "cell_type": "markdown",
      "source": [
        "# Data's description"
      ],
      "metadata": {
        "id": "Rt-vFXdY1Tdm"
      }
    },
    {
      "cell_type": "markdown",
      "source": [
        "## From Kaggle"
      ],
      "metadata": {
        "id": "TDB3pWGA4W9c"
      }
    },
    {
      "cell_type": "markdown",
      "source": [
        "Link: https://www.kaggle.com/datasets/jsphyg/weather-dataset-rattle-package.\n",
        "\n",
        "Context\n",
        "\n",
        "Predict next-day rain by training classification models on the target variable RainTomorrow.\n",
        "\n",
        "Content\n",
        "\n",
        "This dataset contains about 10 years of daily weather observations from many locations across Australia.\n",
        "\n",
        "RainTomorrow is the target variable to predict. It means -- did it rain the next day, Yes or No? This column is Yes if the rain for that day was 1mm or more.\n",
        "\n",
        "Source & Acknowledgements\n",
        "\n",
        "Observations were drawn from numerous weather stations. The daily observations are available from http://www.bom.gov.au/climate/data.\n",
        "An example of latest weather observations in Canberra: http://www.bom.gov.au/climate/dwo/IDCJDW2801.latest.shtml\n",
        "\n",
        "Definitions adapted from http://www.bom.gov.au/climate/dwo/IDCJDW0000.shtml\n",
        "Data source: http://www.bom.gov.au/climate/dwo/ and http://www.bom.gov.au/climate/data.\n",
        "\n",
        "Copyright Commonwealth of Australia 2010, Bureau of Meteorology.\n",
        "\n"
      ],
      "metadata": {
        "id": "sv7JyRsl11Jw"
      }
    },
    {
      "cell_type": "markdown",
      "source": [
        "## Columns meanings"
      ],
      "metadata": {
        "id": "bAf3kWJE4dw7"
      }
    },
    {
      "cell_type": "markdown",
      "source": [
        "From: http://www.bom.gov.au/climate/dwo/IDCJDW0000.shtml"
      ],
      "metadata": {
        "id": "Rozwn-MP4gJ9"
      }
    },
    {
      "cell_type": "markdown",
      "source": [
        "![image.png](data:image/png;base64,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)"
      ],
      "metadata": {
        "id": "vPHXcbXN4j1j"
      }
    },
    {
      "cell_type": "markdown",
      "source": [
        "# Data analysis"
      ],
      "metadata": {
        "id": "eUlqu8uG2WTM"
      }
    },
    {
      "cell_type": "markdown",
      "source": [
        "## Missing values"
      ],
      "metadata": {
        "id": "IkmMN6Vo3d_z"
      }
    },
    {
      "cell_type": "code",
      "source": [
        "data.isnull().sum()"
      ],
      "metadata": {
        "colab": {
          "base_uri": "https://localhost:8080/"
        },
        "id": "zox86kZP1ATv",
        "outputId": "fe5c10bd-3155-4c41-cd55-17553d31c1cd"
      },
      "execution_count": 8,
      "outputs": [
        {
          "output_type": "execute_result",
          "data": {
            "text/plain": [
              "Date                 0\n",
              "Location             0\n",
              "MinTemp           1485\n",
              "MaxTemp           1261\n",
              "Rainfall          3261\n",
              "Evaporation      62790\n",
              "Sunshine         69835\n",
              "WindGustDir      10326\n",
              "WindGustSpeed    10263\n",
              "WindDir9am       10566\n",
              "WindDir3pm        4228\n",
              "WindSpeed9am      1767\n",
              "WindSpeed3pm      3062\n",
              "Humidity9am       2654\n",
              "Humidity3pm       4507\n",
              "Pressure9am      15065\n",
              "Pressure3pm      15028\n",
              "Cloud9am         55888\n",
              "Cloud3pm         59358\n",
              "Temp9am           1767\n",
              "Temp3pm           3609\n",
              "RainToday         3261\n",
              "RainTomorrow      3267\n",
              "dtype: int64"
            ]
          },
          "metadata": {},
          "execution_count": 8
        }
      ]
    },
    {
      "cell_type": "markdown",
      "source": [
        "## Column `Location`"
      ],
      "metadata": {
        "id": "MC3RDYYc5Yo7"
      }
    },
    {
      "cell_type": "code",
      "source": [
        "f'There are {data[\"Location\"].nunique()} different locations in dataset.'"
      ],
      "metadata": {
        "colab": {
          "base_uri": "https://localhost:8080/",
          "height": 35
        },
        "id": "nVSY5jYT5ncC",
        "outputId": "07e0d420-b128-4bc5-ab3a-d075d994e964"
      },
      "execution_count": 16,
      "outputs": [
        {
          "output_type": "execute_result",
          "data": {
            "text/plain": [
              "'There are 49 different locations in dataset.'"
            ],
            "application/vnd.google.colaboratory.intrinsic+json": {
              "type": "string"
            }
          },
          "metadata": {},
          "execution_count": 16
        }
      ]
    },
    {
      "cell_type": "markdown",
      "source": [
        "The most shown locations are:"
      ],
      "metadata": {
        "id": "xHpT23Cf6QcH"
      }
    },
    {
      "cell_type": "code",
      "source": [
        "most_locations = data['Location'].value_counts()[:20]"
      ],
      "metadata": {
        "id": "jNKeTUzh5cxR"
      },
      "execution_count": 18,
      "outputs": []
    },
    {
      "cell_type": "code",
      "source": [
        "fig = px.bar(\n",
        "    x= most_locations.keys(), \n",
        "    y= most_locations.values, \n",
        "    title= 'The 20 most shown locations',\n",
        "    labels= {'x': 'Locations', 'y': 'Count'}\n",
        ")\n",
        "fig.update_layout(width= 800, height= 800, title= {'x': 0.5})\n",
        "fig.show()"
      ],
      "metadata": {
        "colab": {
          "base_uri": "https://localhost:8080/",
          "height": 817
        },
        "id": "_Uz-8DQY6aV_",
        "outputId": "9d743428-008f-447b-c661-b4d56134d470"
      },
      "execution_count": 33,
      "outputs": [
        {
          "output_type": "display_data",
          "data": {
            "text/html": [
              "<html>\n",
              "<head><meta charset=\"utf-8\" /></head>\n",
              "<body>\n",
              "    <div>            <script src=\"https://cdnjs.cloudflare.com/ajax/libs/mathjax/2.7.5/MathJax.js?config=TeX-AMS-MML_SVG\"></script><script type=\"text/javascript\">if (window.MathJax) {MathJax.Hub.Config({SVG: {font: \"STIX-Web\"}});}</script>                <script type=\"text/javascript\">window.PlotlyConfig = {MathJaxConfig: 'local'};</script>\n",
              "        <script src=\"https://cdn.plot.ly/plotly-2.8.3.min.js\"></script>                <div id=\"378fa3e7-cca6-4c6d-a44b-63662c51b358\" class=\"plotly-graph-div\" style=\"height:800px; width:800px;\"></div>            <script type=\"text/javascript\">                                    window.PLOTLYENV=window.PLOTLYENV || {};                                    if (document.getElementById(\"378fa3e7-cca6-4c6d-a44b-63662c51b358\")) {                    Plotly.newPlot(                        \"378fa3e7-cca6-4c6d-a44b-63662c51b358\",                        [{\"alignmentgroup\":\"True\",\"hovertemplate\":\"Locations=%{x}<br>Count=%{y}<extra></extra>\",\"legendgroup\":\"\",\"marker\":{\"color\":\"#636efa\",\"pattern\":{\"shape\":\"\"}},\"name\":\"\",\"offsetgroup\":\"\",\"orientation\":\"v\",\"showlegend\":false,\"textposition\":\"auto\",\"x\":[\"Canberra\",\"Sydney\",\"Darwin\",\"Melbourne\",\"Brisbane\",\"Adelaide\",\"Perth\",\"Hobart\",\"Albany\",\"MountGambier\",\"Ballarat\",\"Townsville\",\"GoldCoast\",\"Cairns\",\"Launceston\",\"AliceSprings\",\"Bendigo\",\"Albury\",\"MountGinini\",\"Wollongong\"],\"xaxis\":\"x\",\"y\":[3436,3344,3193,3193,3193,3193,3193,3193,3040,3040,3040,3040,3040,3040,3040,3040,3040,3040,3040,3040],\"yaxis\":\"y\",\"type\":\"bar\"}],                        {\"template\":{\"data\":{\"bar\":[{\"error_x\":{\"color\":\"#2a3f5f\"},\"error_y\":{\"color\":\"#2a3f5f\"},\"marker\":{\"line\":{\"color\":\"#E5ECF6\",\"width\":0.5},\"pattern\":{\"fillmode\":\"overlay\",\"size\":10,\"solidity\":0.2}},\"type\":\"bar\"}],\"barpolar\":[{\"marker\":{\"line\":{\"color\":\"#E5ECF6\",\"width\":0.5},\"pattern\":{\"fillmode\":\"overlay\",\"size\":10,\"solidity\":0.2}},\"type\":\"barpolar\"}],\"carpet\":[{\"aaxis\":{\"endlinecolor\":\"#2a3f5f\",\"gridcolor\":\"white\",\"linecolor\":\"white\",\"minorgridcolor\":\"white\",\"startlinecolor\":\"#2a3f5f\"},\"baxis\":{\"endlinecolor\":\"#2a3f5f\",\"gridcolor\":\"white\",\"linecolor\":\"white\",\"minorgridcolor\":\"white\",\"startlinecolor\":\"#2a3f5f\"},\"type\":\"carpet\"}],\"choropleth\":[{\"colorbar\":{\"outlinewidth\":0,\"ticks\":\"\"},\"type\":\"choropleth\"}],\"contour\":[{\"colorbar\":{\"outlinewidth\":0,\"ticks\":\"\"},\"colorscale\":[[0.0,\"#0d0887\"],[0.1111111111111111,\"#46039f\"],[0.2222222222222222,\"#7201a8\"],[0.3333333333333333,\"#9c179e\"],[0.4444444444444444,\"#bd3786\"],[0.5555555555555556,\"#d8576b\"],[0.6666666666666666,\"#ed7953\"],[0.7777777777777778,\"#fb9f3a\"],[0.8888888888888888,\"#fdca26\"],[1.0,\"#f0f921\"]],\"type\":\"contour\"}],\"contourcarpet\":[{\"colorbar\":{\"outlinewidth\":0,\"ticks\":\"\"},\"type\":\"contourcarpet\"}],\"heatmap\":[{\"colorbar\":{\"outlinewidth\":0,\"ticks\":\"\"},\"colorscale\":[[0.0,\"#0d0887\"],[0.1111111111111111,\"#46039f\"],[0.2222222222222222,\"#7201a8\"],[0.3333333333333333,\"#9c179e\"],[0.4444444444444444,\"#bd3786\"],[0.5555555555555556,\"#d8576b\"],[0.6666666666666666,\"#ed7953\"],[0.7777777777777778,\"#fb9f3a\"],[0.8888888888888888,\"#fdca26\"],[1.0,\"#f0f921\"]],\"type\":\"heatmap\"}],\"heatmapgl\":[{\"colorbar\":{\"outlinewidth\":0,\"ticks\":\"\"},\"colorscale\":[[0.0,\"#0d0887\"],[0.1111111111111111,\"#46039f\"],[0.2222222222222222,\"#7201a8\"],[0.3333333333333333,\"#9c179e\"],[0.4444444444444444,\"#bd3786\"],[0.5555555555555556,\"#d8576b\"],[0.6666666666666666,\"#ed7953\"],[0.7777777777777778,\"#fb9f3a\"],[0.8888888888888888,\"#fdca26\"],[1.0,\"#f0f921\"]],\"type\":\"heatmapgl\"}],\"histogram\":[{\"marker\":{\"pattern\":{\"fillmode\":\"overlay\",\"size\":10,\"solidity\":0.2}},\"type\":\"histogram\"}],\"histogram2d\":[{\"colorbar\":{\"outlinewidth\":0,\"ticks\":\"\"},\"colorscale\":[[0.0,\"#0d0887\"],[0.1111111111111111,\"#46039f\"],[0.2222222222222222,\"#7201a8\"],[0.3333333333333333,\"#9c179e\"],[0.4444444444444444,\"#bd3786\"],[0.5555555555555556,\"#d8576b\"],[0.6666666666666666,\"#ed7953\"],[0.7777777777777778,\"#fb9f3a\"],[0.8888888888888888,\"#fdca26\"],[1.0,\"#f0f921\"]],\"type\":\"histogram2d\"}],\"histogram2dcontour\":[{\"colorbar\":{\"outlinewidth\":0,\"ticks\":\"\"},\"colorscale\":[[0.0,\"#0d0887\"],[0.1111111111111111,\"#46039f\"],[0.2222222222222222,\"#7201a8\"],[0.3333333333333333,\"#9c179e\"],[0.4444444444444444,\"#bd3786\"],[0.5555555555555556,\"#d8576b\"],[0.6666666666666666,\"#ed7953\"],[0.7777777777777778,\"#fb9f3a\"],[0.8888888888888888,\"#fdca26\"],[1.0,\"#f0f921\"]],\"type\":\"histogram2dcontour\"}],\"mesh3d\":[{\"colorbar\":{\"outlinewidth\":0,\"ticks\":\"\"},\"type\":\"mesh3d\"}],\"parcoords\":[{\"line\":{\"colorbar\":{\"outlinewidth\":0,\"ticks\":\"\"}},\"type\":\"parcoords\"}],\"pie\":[{\"automargin\":true,\"type\":\"pie\"}],\"scatter\":[{\"marker\":{\"colorbar\":{\"outlinewidth\":0,\"ticks\":\"\"}},\"type\":\"scatter\"}],\"scatter3d\":[{\"line\":{\"colorbar\":{\"outlinewidth\":0,\"ticks\":\"\"}},\"marker\":{\"colorbar\":{\"outlinewidth\":0,\"ticks\":\"\"}},\"type\":\"scatter3d\"}],\"scattercarpet\":[{\"marker\":{\"colorbar\":{\"outlinewidth\":0,\"ticks\":\"\"}},\"type\":\"scattercarpet\"}],\"scattergeo\":[{\"marker\":{\"colorbar\":{\"outlinewidth\":0,\"ticks\":\"\"}},\"type\":\"scattergeo\"}],\"scattergl\":[{\"marker\":{\"colorbar\":{\"outlinewidth\":0,\"ticks\":\"\"}},\"type\":\"scattergl\"}],\"scattermapbox\":[{\"marker\":{\"colorbar\":{\"outlinewidth\":0,\"ticks\":\"\"}},\"type\":\"scattermapbox\"}],\"scatterpolar\":[{\"marker\":{\"colorbar\":{\"outlinewidth\":0,\"ticks\":\"\"}},\"type\":\"scatterpolar\"}],\"scatterpolargl\":[{\"marker\":{\"colorbar\":{\"outlinewidth\":0,\"ticks\":\"\"}},\"type\":\"scatterpolargl\"}],\"scatterternary\":[{\"marker\":{\"colorbar\":{\"outlinewidth\":0,\"ticks\":\"\"}},\"type\":\"scatterternary\"}],\"surface\":[{\"colorbar\":{\"outlinewidth\":0,\"ticks\":\"\"},\"colorscale\":[[0.0,\"#0d0887\"],[0.1111111111111111,\"#46039f\"],[0.2222222222222222,\"#7201a8\"],[0.3333333333333333,\"#9c179e\"],[0.4444444444444444,\"#bd3786\"],[0.5555555555555556,\"#d8576b\"],[0.6666666666666666,\"#ed7953\"],[0.7777777777777778,\"#fb9f3a\"],[0.8888888888888888,\"#fdca26\"],[1.0,\"#f0f921\"]],\"type\":\"surface\"}],\"table\":[{\"cells\":{\"fill\":{\"color\":\"#EBF0F8\"},\"line\":{\"color\":\"white\"}},\"header\":{\"fill\":{\"color\":\"#C8D4E3\"},\"line\":{\"color\":\"white\"}},\"type\":\"table\"}]},\"layout\":{\"annotationdefaults\":{\"arrowcolor\":\"#2a3f5f\",\"arrowhead\":0,\"arrowwidth\":1},\"autotypenumbers\":\"strict\",\"coloraxis\":{\"colorbar\":{\"outlinewidth\":0,\"ticks\":\"\"}},\"colorscale\":{\"diverging\":[[0,\"#8e0152\"],[0.1,\"#c51b7d\"],[0.2,\"#de77ae\"],[0.3,\"#f1b6da\"],[0.4,\"#fde0ef\"],[0.5,\"#f7f7f7\"],[0.6,\"#e6f5d0\"],[0.7,\"#b8e186\"],[0.8,\"#7fbc41\"],[0.9,\"#4d9221\"],[1,\"#276419\"]],\"sequential\":[[0.0,\"#0d0887\"],[0.1111111111111111,\"#46039f\"],[0.2222222222222222,\"#7201a8\"],[0.3333333333333333,\"#9c179e\"],[0.4444444444444444,\"#bd3786\"],[0.5555555555555556,\"#d8576b\"],[0.6666666666666666,\"#ed7953\"],[0.7777777777777778,\"#fb9f3a\"],[0.8888888888888888,\"#fdca26\"],[1.0,\"#f0f921\"]],\"sequentialminus\":[[0.0,\"#0d0887\"],[0.1111111111111111,\"#46039f\"],[0.2222222222222222,\"#7201a8\"],[0.3333333333333333,\"#9c179e\"],[0.4444444444444444,\"#bd3786\"],[0.5555555555555556,\"#d8576b\"],[0.6666666666666666,\"#ed7953\"],[0.7777777777777778,\"#fb9f3a\"],[0.8888888888888888,\"#fdca26\"],[1.0,\"#f0f921\"]]},\"colorway\":[\"#636efa\",\"#EF553B\",\"#00cc96\",\"#ab63fa\",\"#FFA15A\",\"#19d3f3\",\"#FF6692\",\"#B6E880\",\"#FF97FF\",\"#FECB52\"],\"font\":{\"color\":\"#2a3f5f\"},\"geo\":{\"bgcolor\":\"white\",\"lakecolor\":\"white\",\"landcolor\":\"#E5ECF6\",\"showlakes\":true,\"showland\":true,\"subunitcolor\":\"white\"},\"hoverlabel\":{\"align\":\"left\"},\"hovermode\":\"closest\",\"mapbox\":{\"style\":\"light\"},\"paper_bgcolor\":\"white\",\"plot_bgcolor\":\"#E5ECF6\",\"polar\":{\"angularaxis\":{\"gridcolor\":\"white\",\"linecolor\":\"white\",\"ticks\":\"\"},\"bgcolor\":\"#E5ECF6\",\"radialaxis\":{\"gridcolor\":\"white\",\"linecolor\":\"white\",\"ticks\":\"\"}},\"scene\":{\"xaxis\":{\"backgroundcolor\":\"#E5ECF6\",\"gridcolor\":\"white\",\"gridwidth\":2,\"linecolor\":\"white\",\"showbackground\":true,\"ticks\":\"\",\"zerolinecolor\":\"white\"},\"yaxis\":{\"backgroundcolor\":\"#E5ECF6\",\"gridcolor\":\"white\",\"gridwidth\":2,\"linecolor\":\"white\",\"showbackground\":true,\"ticks\":\"\",\"zerolinecolor\":\"white\"},\"zaxis\":{\"backgroundcolor\":\"#E5ECF6\",\"gridcolor\":\"white\",\"gridwidth\":2,\"linecolor\":\"white\",\"showbackground\":true,\"ticks\":\"\",\"zerolinecolor\":\"white\"}},\"shapedefaults\":{\"line\":{\"color\":\"#2a3f5f\"}},\"ternary\":{\"aaxis\":{\"gridcolor\":\"white\",\"linecolor\":\"white\",\"ticks\":\"\"},\"baxis\":{\"gridcolor\":\"white\",\"linecolor\":\"white\",\"ticks\":\"\"},\"bgcolor\":\"#E5ECF6\",\"caxis\":{\"gridcolor\":\"white\",\"linecolor\":\"white\",\"ticks\":\"\"}},\"title\":{\"x\":0.05},\"xaxis\":{\"automargin\":true,\"gridcolor\":\"white\",\"linecolor\":\"white\",\"ticks\":\"\",\"title\":{\"standoff\":15},\"zerolinecolor\":\"white\",\"zerolinewidth\":2},\"yaxis\":{\"automargin\":true,\"gridcolor\":\"white\",\"linecolor\":\"white\",\"ticks\":\"\",\"title\":{\"standoff\":15},\"zerolinecolor\":\"white\",\"zerolinewidth\":2}}},\"xaxis\":{\"anchor\":\"y\",\"domain\":[0.0,1.0],\"title\":{\"text\":\"Locations\"}},\"yaxis\":{\"anchor\":\"x\",\"domain\":[0.0,1.0],\"title\":{\"text\":\"Count\"}},\"legend\":{\"tracegroupgap\":0},\"title\":{\"text\":\"The 20 most shown locations\",\"x\":0.5},\"barmode\":\"relative\",\"width\":800,\"height\":800},                        {\"responsive\": true}                    ).then(function(){\n",
              "                            \n",
              "var gd = document.getElementById('378fa3e7-cca6-4c6d-a44b-63662c51b358');\n",
              "var x = new MutationObserver(function (mutations, observer) {{\n",
              "        var display = window.getComputedStyle(gd).display;\n",
              "        if (!display || display === 'none') {{\n",
              "            console.log([gd, 'removed!']);\n",
              "            Plotly.purge(gd);\n",
              "            observer.disconnect();\n",
              "        }}\n",
              "}});\n",
              "\n",
              "// Listen for the removal of the full notebook cells\n",
              "var notebookContainer = gd.closest('#notebook-container');\n",
              "if (notebookContainer) {{\n",
              "    x.observe(notebookContainer, {childList: true});\n",
              "}}\n",
              "\n",
              "// Listen for the clearing of the current output cell\n",
              "var outputEl = gd.closest('.output');\n",
              "if (outputEl) {{\n",
              "    x.observe(outputEl, {childList: true});\n",
              "}}\n",
              "\n",
              "                        })                };                            </script>        </div>\n",
              "</body>\n",
              "</html>"
            ]
          },
          "metadata": {}
        }
      ]
    },
    {
      "cell_type": "markdown",
      "source": [
        "## Column `MinTemp`"
      ],
      "metadata": {
        "id": "ymjcCcCe9lC0"
      }
    },
    {
      "cell_type": "markdown",
      "source": [
        "Some descriptive statistics:"
      ],
      "metadata": {
        "id": "xswJlQC0917J"
      }
    },
    {
      "cell_type": "code",
      "source": [
        "data['MinTemp'].describe().round(2)"
      ],
      "metadata": {
        "colab": {
          "base_uri": "https://localhost:8080/"
        },
        "id": "VTE_2o0e9nWv",
        "outputId": "925c232c-6bd0-4ffd-c5e6-1872ec7c15c4"
      },
      "execution_count": 35,
      "outputs": [
        {
          "output_type": "execute_result",
          "data": {
            "text/plain": [
              "count    143975.00\n",
              "mean         12.19\n",
              "std           6.40\n",
              "min          -8.50\n",
              "25%           7.60\n",
              "50%          12.00\n",
              "75%          16.90\n",
              "max          33.90\n",
              "Name: MinTemp, dtype: float64"
            ]
          },
          "metadata": {},
          "execution_count": 35
        }
      ]
    },
    {
      "cell_type": "markdown",
      "source": [
        "* Average `MinTemp` related to `RainTomorrow`:"
      ],
      "metadata": {
        "id": "7EB3QipRDQI8"
      }
    },
    {
      "cell_type": "code",
      "source": [
        "data.groupby('RainTomorrow')['MinTemp'].mean().round(2)"
      ],
      "metadata": {
        "colab": {
          "base_uri": "https://localhost:8080/"
        },
        "id": "3AHMXG80DHAu",
        "outputId": "062bbb8c-4373-4744-dda8-249040b67f46"
      },
      "execution_count": 41,
      "outputs": [
        {
          "output_type": "execute_result",
          "data": {
            "text/plain": [
              "RainTomorrow\n",
              "No     11.90\n",
              "Yes    13.19\n",
              "Name: MinTemp, dtype: float64"
            ]
          },
          "metadata": {},
          "execution_count": 41
        }
      ]
    },
    {
      "cell_type": "code",
      "source": [
        "most_min_locations = data.groupby('Location')['MinTemp'].mean().round(2).sort_values()"
      ],
      "metadata": {
        "id": "D9o_ltNYP1X9"
      },
      "execution_count": 82,
      "outputs": []
    },
    {
      "cell_type": "code",
      "source": [
        "fig = make_subplots(rows= 1, cols= 2, subplot_titles= ['Locations with lower MinTemp', 'Locations with higher MinTemp'])\n",
        "\n",
        "fig.add_trace(\n",
        "    go.Bar(x= most_min_locations.keys()[:10], y= most_min_locations.values[:10]),\n",
        "    row= 1, col= 1\n",
        ")\n",
        "fig.add_trace(\n",
        "    go.Bar(x= most_min_locations.keys()[-10:], y= most_min_locations.values[-10:]),\n",
        "    row= 1, col= 2\n",
        ")\n",
        "fig.update_layout(showlegend= False)\n",
        "fig.update_yaxes(title_text= 'MinTemp (°C)', range= [0, 25], row= 1, col= 1)\n",
        "fig.update_yaxes(title_text= 'MinTemp (°C)', row= 1, col= 2)"
      ],
      "metadata": {
        "colab": {
          "base_uri": "https://localhost:8080/",
          "height": 542
        },
        "id": "E13fhtYxP7RH",
        "outputId": "2af56008-e27e-4652-af3c-80eee3853417"
      },
      "execution_count": 85,
      "outputs": [
        {
          "output_type": "display_data",
          "data": {
            "text/html": [
              "<html>\n",
              "<head><meta charset=\"utf-8\" /></head>\n",
              "<body>\n",
              "    <div>            <script src=\"https://cdnjs.cloudflare.com/ajax/libs/mathjax/2.7.5/MathJax.js?config=TeX-AMS-MML_SVG\"></script><script type=\"text/javascript\">if (window.MathJax) {MathJax.Hub.Config({SVG: {font: \"STIX-Web\"}});}</script>                <script type=\"text/javascript\">window.PlotlyConfig = {MathJaxConfig: 'local'};</script>\n",
              "        <script src=\"https://cdn.plot.ly/plotly-2.8.3.min.js\"></script>                <div id=\"9fcd4a2d-90d7-4853-8d75-d43ccf1d1e32\" class=\"plotly-graph-div\" style=\"height:525px; width:100%;\"></div>            <script type=\"text/javascript\">                                    window.PLOTLYENV=window.PLOTLYENV || {};                                    if (document.getElementById(\"9fcd4a2d-90d7-4853-8d75-d43ccf1d1e32\")) {                    Plotly.newPlot(                        \"9fcd4a2d-90d7-4853-8d75-d43ccf1d1e32\",                        [{\"x\":[\"MountGinini\",\"Canberra\",\"Tuggeranong\",\"Ballarat\",\"Launceston\",\"Sale\",\"Bendigo\",\"Dartmoor\",\"MountGambier\",\"Nhil\"],\"y\":[3.58,6.82,7.24,7.37,7.84,8.57,8.59,8.62,8.83,9.0],\"type\":\"bar\",\"xaxis\":\"x\",\"yaxis\":\"y\"},{\"x\":[\"SydneyAirport\",\"Wollongong\",\"NorahHead\",\"Brisbane\",\"NorfolkIsland\",\"GoldCoast\",\"Townsville\",\"Katherine\",\"Cairns\",\"Darwin\"],\"y\":[14.9,14.94,15.36,16.42,16.87,17.36,20.42,20.55,21.22,23.21],\"type\":\"bar\",\"xaxis\":\"x2\",\"yaxis\":\"y2\"}],                        {\"template\":{\"data\":{\"bar\":[{\"error_x\":{\"color\":\"#2a3f5f\"},\"error_y\":{\"color\":\"#2a3f5f\"},\"marker\":{\"line\":{\"color\":\"#E5ECF6\",\"width\":0.5},\"pattern\":{\"fillmode\":\"overlay\",\"size\":10,\"solidity\":0.2}},\"type\":\"bar\"}],\"barpolar\":[{\"marker\":{\"line\":{\"color\":\"#E5ECF6\",\"width\":0.5},\"pattern\":{\"fillmode\":\"overlay\",\"size\":10,\"solidity\":0.2}},\"type\":\"barpolar\"}],\"carpet\":[{\"aaxis\":{\"endlinecolor\":\"#2a3f5f\",\"gridcolor\":\"white\",\"linecolor\":\"white\",\"minorgridcolor\":\"white\",\"startlinecolor\":\"#2a3f5f\"},\"baxis\":{\"endlinecolor\":\"#2a3f5f\",\"gridcolor\":\"white\",\"linecolor\":\"white\",\"minorgridcolor\":\"white\",\"startlinecolor\":\"#2a3f5f\"},\"type\":\"carpet\"}],\"choropleth\":[{\"colorbar\":{\"outlinewidth\":0,\"ticks\":\"\"},\"type\":\"choropleth\"}],\"contour\":[{\"colorbar\":{\"outlinewidth\":0,\"ticks\":\"\"},\"colorscale\":[[0.0,\"#0d0887\"],[0.1111111111111111,\"#46039f\"],[0.2222222222222222,\"#7201a8\"],[0.3333333333333333,\"#9c179e\"],[0.4444444444444444,\"#bd3786\"],[0.5555555555555556,\"#d8576b\"],[0.6666666666666666,\"#ed7953\"],[0.7777777777777778,\"#fb9f3a\"],[0.8888888888888888,\"#fdca26\"],[1.0,\"#f0f921\"]],\"type\":\"contour\"}],\"contourcarpet\":[{\"colorbar\":{\"outlinewidth\":0,\"ticks\":\"\"},\"type\":\"contourcarpet\"}],\"heatmap\":[{\"colorbar\":{\"outlinewidth\":0,\"ticks\":\"\"},\"colorscale\":[[0.0,\"#0d0887\"],[0.1111111111111111,\"#46039f\"],[0.2222222222222222,\"#7201a8\"],[0.3333333333333333,\"#9c179e\"],[0.4444444444444444,\"#bd3786\"],[0.5555555555555556,\"#d8576b\"],[0.6666666666666666,\"#ed7953\"],[0.7777777777777778,\"#fb9f3a\"],[0.8888888888888888,\"#fdca26\"],[1.0,\"#f0f921\"]],\"type\":\"heatmap\"}],\"heatmapgl\":[{\"colorbar\":{\"outlinewidth\":0,\"ticks\":\"\"},\"colorscale\":[[0.0,\"#0d0887\"],[0.1111111111111111,\"#46039f\"],[0.2222222222222222,\"#7201a8\"],[0.3333333333333333,\"#9c179e\"],[0.4444444444444444,\"#bd3786\"],[0.5555555555555556,\"#d8576b\"],[0.6666666666666666,\"#ed7953\"],[0.7777777777777778,\"#fb9f3a\"],[0.8888888888888888,\"#fdca26\"],[1.0,\"#f0f921\"]],\"type\":\"heatmapgl\"}],\"histogram\":[{\"marker\":{\"pattern\":{\"fillmode\":\"overlay\",\"size\":10,\"solidity\":0.2}},\"type\":\"histogram\"}],\"histogram2d\":[{\"colorbar\":{\"outlinewidth\":0,\"ticks\":\"\"},\"colorscale\":[[0.0,\"#0d0887\"],[0.1111111111111111,\"#46039f\"],[0.2222222222222222,\"#7201a8\"],[0.3333333333333333,\"#9c179e\"],[0.4444444444444444,\"#bd3786\"],[0.5555555555555556,\"#d8576b\"],[0.6666666666666666,\"#ed7953\"],[0.7777777777777778,\"#fb9f3a\"],[0.8888888888888888,\"#fdca26\"],[1.0,\"#f0f921\"]],\"type\":\"histogram2d\"}],\"histogram2dcontour\":[{\"colorbar\":{\"outlinewidth\":0,\"ticks\":\"\"},\"colorscale\":[[0.0,\"#0d0887\"],[0.1111111111111111,\"#46039f\"],[0.2222222222222222,\"#7201a8\"],[0.3333333333333333,\"#9c179e\"],[0.4444444444444444,\"#bd3786\"],[0.5555555555555556,\"#d8576b\"],[0.6666666666666666,\"#ed7953\"],[0.7777777777777778,\"#fb9f3a\"],[0.8888888888888888,\"#fdca26\"],[1.0,\"#f0f921\"]],\"type\":\"histogram2dcontour\"}],\"mesh3d\":[{\"colorbar\":{\"outlinewidth\":0,\"ticks\":\"\"},\"type\":\"mesh3d\"}],\"parcoords\":[{\"line\":{\"colorbar\":{\"outlinewidth\":0,\"ticks\":\"\"}},\"type\":\"parcoords\"}],\"pie\":[{\"automargin\":true,\"type\":\"pie\"}],\"scatter\":[{\"marker\":{\"colorbar\":{\"outlinewidth\":0,\"ticks\":\"\"}},\"type\":\"scatter\"}],\"scatter3d\":[{\"line\":{\"colorbar\":{\"outlinewidth\":0,\"ticks\":\"\"}},\"marker\":{\"colorbar\":{\"outlinewidth\":0,\"ticks\":\"\"}},\"type\":\"scatter3d\"}],\"scattercarpet\":[{\"marker\":{\"colorbar\":{\"outlinewidth\":0,\"ticks\":\"\"}},\"type\":\"scattercarpet\"}],\"scattergeo\":[{\"marker\":{\"colorbar\":{\"outlinewidth\":0,\"ticks\":\"\"}},\"type\":\"scattergeo\"}],\"scattergl\":[{\"marker\":{\"colorbar\":{\"outlinewidth\":0,\"ticks\":\"\"}},\"type\":\"scattergl\"}],\"scattermapbox\":[{\"marker\":{\"colorbar\":{\"outlinewidth\":0,\"ticks\":\"\"}},\"type\":\"scattermapbox\"}],\"scatterpolar\":[{\"marker\":{\"colorbar\":{\"outlinewidth\":0,\"ticks\":\"\"}},\"type\":\"scatterpolar\"}],\"scatterpolargl\":[{\"marker\":{\"colorbar\":{\"outlinewidth\":0,\"ticks\":\"\"}},\"type\":\"scatterpolargl\"}],\"scatterternary\":[{\"marker\":{\"colorbar\":{\"outlinewidth\":0,\"ticks\":\"\"}},\"type\":\"scatterternary\"}],\"surface\":[{\"colorbar\":{\"outlinewidth\":0,\"ticks\":\"\"},\"colorscale\":[[0.0,\"#0d0887\"],[0.1111111111111111,\"#46039f\"],[0.2222222222222222,\"#7201a8\"],[0.3333333333333333,\"#9c179e\"],[0.4444444444444444,\"#bd3786\"],[0.5555555555555556,\"#d8576b\"],[0.6666666666666666,\"#ed7953\"],[0.7777777777777778,\"#fb9f3a\"],[0.8888888888888888,\"#fdca26\"],[1.0,\"#f0f921\"]],\"type\":\"surface\"}],\"table\":[{\"cells\":{\"fill\":{\"color\":\"#EBF0F8\"},\"line\":{\"color\":\"white\"}},\"header\":{\"fill\":{\"color\":\"#C8D4E3\"},\"line\":{\"color\":\"white\"}},\"type\":\"table\"}]},\"layout\":{\"annotationdefaults\":{\"arrowcolor\":\"#2a3f5f\",\"arrowhead\":0,\"arrowwidth\":1},\"autotypenumbers\":\"strict\",\"coloraxis\":{\"colorbar\":{\"outlinewidth\":0,\"ticks\":\"\"}},\"colorscale\":{\"diverging\":[[0,\"#8e0152\"],[0.1,\"#c51b7d\"],[0.2,\"#de77ae\"],[0.3,\"#f1b6da\"],[0.4,\"#fde0ef\"],[0.5,\"#f7f7f7\"],[0.6,\"#e6f5d0\"],[0.7,\"#b8e186\"],[0.8,\"#7fbc41\"],[0.9,\"#4d9221\"],[1,\"#276419\"]],\"sequential\":[[0.0,\"#0d0887\"],[0.1111111111111111,\"#46039f\"],[0.2222222222222222,\"#7201a8\"],[0.3333333333333333,\"#9c179e\"],[0.4444444444444444,\"#bd3786\"],[0.5555555555555556,\"#d8576b\"],[0.6666666666666666,\"#ed7953\"],[0.7777777777777778,\"#fb9f3a\"],[0.8888888888888888,\"#fdca26\"],[1.0,\"#f0f921\"]],\"sequentialminus\":[[0.0,\"#0d0887\"],[0.1111111111111111,\"#46039f\"],[0.2222222222222222,\"#7201a8\"],[0.3333333333333333,\"#9c179e\"],[0.4444444444444444,\"#bd3786\"],[0.5555555555555556,\"#d8576b\"],[0.6666666666666666,\"#ed7953\"],[0.7777777777777778,\"#fb9f3a\"],[0.8888888888888888,\"#fdca26\"],[1.0,\"#f0f921\"]]},\"colorway\":[\"#636efa\",\"#EF553B\",\"#00cc96\",\"#ab63fa\",\"#FFA15A\",\"#19d3f3\",\"#FF6692\",\"#B6E880\",\"#FF97FF\",\"#FECB52\"],\"font\":{\"color\":\"#2a3f5f\"},\"geo\":{\"bgcolor\":\"white\",\"lakecolor\":\"white\",\"landcolor\":\"#E5ECF6\",\"showlakes\":true,\"showland\":true,\"subunitcolor\":\"white\"},\"hoverlabel\":{\"align\":\"left\"},\"hovermode\":\"closest\",\"mapbox\":{\"style\":\"light\"},\"paper_bgcolor\":\"white\",\"plot_bgcolor\":\"#E5ECF6\",\"polar\":{\"angularaxis\":{\"gridcolor\":\"white\",\"linecolor\":\"white\",\"ticks\":\"\"},\"bgcolor\":\"#E5ECF6\",\"radialaxis\":{\"gridcolor\":\"white\",\"linecolor\":\"white\",\"ticks\":\"\"}},\"scene\":{\"xaxis\":{\"backgroundcolor\":\"#E5ECF6\",\"gridcolor\":\"white\",\"gridwidth\":2,\"linecolor\":\"white\",\"showbackground\":true,\"ticks\":\"\",\"zerolinecolor\":\"white\"},\"yaxis\":{\"backgroundcolor\":\"#E5ECF6\",\"gridcolor\":\"white\",\"gridwidth\":2,\"linecolor\":\"white\",\"showbackground\":true,\"ticks\":\"\",\"zerolinecolor\":\"white\"},\"zaxis\":{\"backgroundcolor\":\"#E5ECF6\",\"gridcolor\":\"white\",\"gridwidth\":2,\"linecolor\":\"white\",\"showbackground\":true,\"ticks\":\"\",\"zerolinecolor\":\"white\"}},\"shapedefaults\":{\"line\":{\"color\":\"#2a3f5f\"}},\"ternary\":{\"aaxis\":{\"gridcolor\":\"white\",\"linecolor\":\"white\",\"ticks\":\"\"},\"baxis\":{\"gridcolor\":\"white\",\"linecolor\":\"white\",\"ticks\":\"\"},\"bgcolor\":\"#E5ECF6\",\"caxis\":{\"gridcolor\":\"white\",\"linecolor\":\"white\",\"ticks\":\"\"}},\"title\":{\"x\":0.05},\"xaxis\":{\"automargin\":true,\"gridcolor\":\"white\",\"linecolor\":\"white\",\"ticks\":\"\",\"title\":{\"standoff\":15},\"zerolinecolor\":\"white\",\"zerolinewidth\":2},\"yaxis\":{\"automargin\":true,\"gridcolor\":\"white\",\"linecolor\":\"white\",\"ticks\":\"\",\"title\":{\"standoff\":15},\"zerolinecolor\":\"white\",\"zerolinewidth\":2}}},\"xaxis\":{\"anchor\":\"y\",\"domain\":[0.0,0.45]},\"yaxis\":{\"anchor\":\"x\",\"domain\":[0.0,1.0],\"title\":{\"text\":\"MinTemp (\\u00b0C)\"},\"range\":[0,25]},\"xaxis2\":{\"anchor\":\"y2\",\"domain\":[0.55,1.0]},\"yaxis2\":{\"anchor\":\"x2\",\"domain\":[0.0,1.0],\"title\":{\"text\":\"MinTemp (\\u00b0C)\"}},\"annotations\":[{\"font\":{\"size\":16},\"showarrow\":false,\"text\":\"Locations with lower MinTemp\",\"x\":0.225,\"xanchor\":\"center\",\"xref\":\"paper\",\"y\":1.0,\"yanchor\":\"bottom\",\"yref\":\"paper\"},{\"font\":{\"size\":16},\"showarrow\":false,\"text\":\"Locations with higher MinTemp\",\"x\":0.775,\"xanchor\":\"center\",\"xref\":\"paper\",\"y\":1.0,\"yanchor\":\"bottom\",\"yref\":\"paper\"}],\"showlegend\":false},                        {\"responsive\": true}                    ).then(function(){\n",
              "                            \n",
              "var gd = document.getElementById('9fcd4a2d-90d7-4853-8d75-d43ccf1d1e32');\n",
              "var x = new MutationObserver(function (mutations, observer) {{\n",
              "        var display = window.getComputedStyle(gd).display;\n",
              "        if (!display || display === 'none') {{\n",
              "            console.log([gd, 'removed!']);\n",
              "            Plotly.purge(gd);\n",
              "            observer.disconnect();\n",
              "        }}\n",
              "}});\n",
              "\n",
              "// Listen for the removal of the full notebook cells\n",
              "var notebookContainer = gd.closest('#notebook-container');\n",
              "if (notebookContainer) {{\n",
              "    x.observe(notebookContainer, {childList: true});\n",
              "}}\n",
              "\n",
              "// Listen for the clearing of the current output cell\n",
              "var outputEl = gd.closest('.output');\n",
              "if (outputEl) {{\n",
              "    x.observe(outputEl, {childList: true});\n",
              "}}\n",
              "\n",
              "                        })                };                            </script>        </div>\n",
              "</body>\n",
              "</html>"
            ]
          },
          "metadata": {}
        }
      ]
    },
    {
      "cell_type": "markdown",
      "source": [
        "It's possible to observe that the minimum temperature on days with rain tends to be higher."
      ],
      "metadata": {
        "id": "KZzDEbUKDZdA"
      }
    },
    {
      "cell_type": "markdown",
      "source": [
        "* Graph analysis:"
      ],
      "metadata": {
        "id": "CG1R-FixD-wA"
      }
    },
    {
      "cell_type": "code",
      "source": [
        "fig, axes = plt.subplots(1, 2, figsize= (10, 8))\n",
        "ax1 = sns.boxplot(data= data, y= 'MinTemp', ax= axes[0])\n",
        "ax1.set_title('MinTemp boxplot')\n",
        "ax2 = sns.boxplot(data= data, x= 'RainTomorrow', y= 'MinTemp', ax= axes[1])\n",
        "ax2.set_title('MinTemp boxplot related to RainTomorrow')\n",
        "plt.show()"
      ],
      "metadata": {
        "colab": {
          "base_uri": "https://localhost:8080/",
          "height": 518
        },
        "id": "GIgfuIOmBzUT",
        "outputId": "fc8259a8-e328-4904-8170-8df6439b9f81"
      },
      "execution_count": 40,
      "outputs": [
        {
          "output_type": "display_data",
          "data": {
            "text/plain": [
              "<Figure size 720x576 with 2 Axes>"
            ],
            "image/png": "[encoded data removed]"
          },
          "metadata": {}
        }
      ]
    },
    {
      "cell_type": "markdown",
      "source": [
        "## Column `MaxTemp`"
      ],
      "metadata": {
        "id": "VzbEC-NG98-f"
      }
    },
    {
      "cell_type": "markdown",
      "source": [
        "Some descriptive statistics:"
      ],
      "metadata": {
        "id": "uN9RidbT-Bpf"
      }
    },
    {
      "cell_type": "code",
      "source": [
        "data['MaxTemp'].describe()"
      ],
      "metadata": {
        "colab": {
          "base_uri": "https://localhost:8080/"
        },
        "id": "Ybr6d0uG-Ahi",
        "outputId": "b06c27d7-c402-4215-c169-a2155d8572ba"
      },
      "execution_count": 44,
      "outputs": [
        {
          "output_type": "execute_result",
          "data": {
            "text/plain": [
              "count    144199.000000\n",
              "mean         23.221348\n",
              "std           7.119049\n",
              "min          -4.800000\n",
              "25%          17.900000\n",
              "50%          22.600000\n",
              "75%          28.200000\n",
              "max          48.100000\n",
              "Name: MaxTemp, dtype: float64"
            ]
          },
          "metadata": {},
          "execution_count": 44
        }
      ]
    },
    {
      "cell_type": "markdown",
      "source": [
        "* Average `MaxTemp` related to `RainTomorrow`:"
      ],
      "metadata": {
        "id": "QR17EWXbEH8g"
      }
    },
    {
      "cell_type": "code",
      "source": [
        "data.groupby('RainTomorrow')['MaxTemp'].mean().round(2)"
      ],
      "metadata": {
        "colab": {
          "base_uri": "https://localhost:8080/"
        },
        "id": "T5KQQhSHEGhB",
        "outputId": "14e0bc33-3dde-4620-8bd3-cefc9545c918"
      },
      "execution_count": 43,
      "outputs": [
        {
          "output_type": "execute_result",
          "data": {
            "text/plain": [
              "RainTomorrow\n",
              "No     23.84\n",
              "Yes    21.12\n",
              "Name: MaxTemp, dtype: float64"
            ]
          },
          "metadata": {},
          "execution_count": 43
        }
      ]
    },
    {
      "cell_type": "code",
      "source": [
        "most_max_locations = data.groupby('Location')['MaxTemp'].mean().round(2).sort_values(ascending= False)"
      ],
      "metadata": {
        "id": "eiQpdnr5Ns5A"
      },
      "execution_count": 78,
      "outputs": []
    },
    {
      "cell_type": "code",
      "source": [
        "fig = make_subplots(rows= 1, cols= 2, subplot_titles= ['Locations with higher MaxTemp', 'Locations with lower MaxTemp'])\n",
        "\n",
        "fig.add_trace(\n",
        "    go.Bar(x= most_max_locations.keys()[:10], y= most_max_locations.values[:10]),\n",
        "    row= 1, col= 1\n",
        ")\n",
        "fig.add_trace(\n",
        "    go.Bar(x= most_max_locations.keys()[-10:], y= most_max_locations.values[-10:]),\n",
        "    row= 1, col= 2\n",
        ")\n",
        "fig.update_layout(showlegend= False)\n",
        "fig.update_yaxes(title_text= 'MaxTemp (°C)', row= 1, col= 1)\n",
        "fig.update_yaxes(title_text= 'MaxTemp (°C)', range= [0, 35], row= 1, col= 2)"
      ],
      "metadata": {
        "colab": {
          "base_uri": "https://localhost:8080/",
          "height": 542
        },
        "id": "6LOJ5_sjNqU8",
        "outputId": "ad4d3a27-6b71-4aab-83d8-4297805e42a0"
      },
      "execution_count": 81,
      "outputs": [
        {
          "output_type": "display_data",
          "data": {
            "text/html": [
              "<html>\n",
              "<head><meta charset=\"utf-8\" /></head>\n",
              "<body>\n",
              "    <div>            <script src=\"https://cdnjs.cloudflare.com/ajax/libs/mathjax/2.7.5/MathJax.js?config=TeX-AMS-MML_SVG\"></script><script type=\"text/javascript\">if (window.MathJax) {MathJax.Hub.Config({SVG: {font: \"STIX-Web\"}});}</script>                <script type=\"text/javascript\">window.PlotlyConfig = {MathJaxConfig: 'local'};</script>\n",
              "        <script src=\"https://cdn.plot.ly/plotly-2.8.3.min.js\"></script>                <div id=\"a80d2257-2504-42d7-a249-665b9dd235fd\" class=\"plotly-graph-div\" style=\"height:525px; width:100%;\"></div>            <script type=\"text/javascript\">                                    window.PLOTLYENV=window.PLOTLYENV || {};                                    if (document.getElementById(\"a80d2257-2504-42d7-a249-665b9dd235fd\")) {                    Plotly.newPlot(                        \"a80d2257-2504-42d7-a249-665b9dd235fd\",                        [{\"x\":[\"Katherine\",\"Darwin\",\"Uluru\",\"Cairns\",\"Townsville\",\"AliceSprings\",\"Moree\",\"Woomera\",\"Brisbane\",\"PearceRAAF\"],\"y\":[34.94,32.54,30.38,29.56,29.37,29.25,26.95,26.6,26.45,26.05],\"type\":\"bar\",\"xaxis\":\"x\",\"yaxis\":\"y\"},{\"x\":[\"Walpole\",\"Sale\",\"Albany\",\"MountGambier\",\"Dartmoor\",\"Launceston\",\"Ballarat\",\"Portland\",\"Hobart\",\"MountGinini\"],\"y\":[20.46,20.28,20.07,19.83,19.7,18.95,18.29,18.06,17.87,11.66],\"type\":\"bar\",\"xaxis\":\"x2\",\"yaxis\":\"y2\"}],                        {\"template\":{\"data\":{\"bar\":[{\"error_x\":{\"color\":\"#2a3f5f\"},\"error_y\":{\"color\":\"#2a3f5f\"},\"marker\":{\"line\":{\"color\":\"#E5ECF6\",\"width\":0.5},\"pattern\":{\"fillmode\":\"overlay\",\"size\":10,\"solidity\":0.2}},\"type\":\"bar\"}],\"barpolar\":[{\"marker\":{\"line\":{\"color\":\"#E5ECF6\",\"width\":0.5},\"pattern\":{\"fillmode\":\"overlay\",\"size\":10,\"solidity\":0.2}},\"type\":\"barpolar\"}],\"carpet\":[{\"aaxis\":{\"endlinecolor\":\"#2a3f5f\",\"gridcolor\":\"white\",\"linecolor\":\"white\",\"minorgridcolor\":\"white\",\"startlinecolor\":\"#2a3f5f\"},\"baxis\":{\"endlinecolor\":\"#2a3f5f\",\"gridcolor\":\"white\",\"linecolor\":\"white\",\"minorgridcolor\":\"white\",\"startlinecolor\":\"#2a3f5f\"},\"type\":\"carpet\"}],\"choropleth\":[{\"colorbar\":{\"outlinewidth\":0,\"ticks\":\"\"},\"type\":\"choropleth\"}],\"contour\":[{\"colorbar\":{\"outlinewidth\":0,\"ticks\":\"\"},\"colorscale\":[[0.0,\"#0d0887\"],[0.1111111111111111,\"#46039f\"],[0.2222222222222222,\"#7201a8\"],[0.3333333333333333,\"#9c179e\"],[0.4444444444444444,\"#bd3786\"],[0.5555555555555556,\"#d8576b\"],[0.6666666666666666,\"#ed7953\"],[0.7777777777777778,\"#fb9f3a\"],[0.8888888888888888,\"#fdca26\"],[1.0,\"#f0f921\"]],\"type\":\"contour\"}],\"contourcarpet\":[{\"colorbar\":{\"outlinewidth\":0,\"ticks\":\"\"},\"type\":\"contourcarpet\"}],\"heatmap\":[{\"colorbar\":{\"outlinewidth\":0,\"ticks\":\"\"},\"colorscale\":[[0.0,\"#0d0887\"],[0.1111111111111111,\"#46039f\"],[0.2222222222222222,\"#7201a8\"],[0.3333333333333333,\"#9c179e\"],[0.4444444444444444,\"#bd3786\"],[0.5555555555555556,\"#d8576b\"],[0.6666666666666666,\"#ed7953\"],[0.7777777777777778,\"#fb9f3a\"],[0.8888888888888888,\"#fdca26\"],[1.0,\"#f0f921\"]],\"type\":\"heatmap\"}],\"heatmapgl\":[{\"colorbar\":{\"outlinewidth\":0,\"ticks\":\"\"},\"colorscale\":[[0.0,\"#0d0887\"],[0.1111111111111111,\"#46039f\"],[0.2222222222222222,\"#7201a8\"],[0.3333333333333333,\"#9c179e\"],[0.4444444444444444,\"#bd3786\"],[0.5555555555555556,\"#d8576b\"],[0.6666666666666666,\"#ed7953\"],[0.7777777777777778,\"#fb9f3a\"],[0.8888888888888888,\"#fdca26\"],[1.0,\"#f0f921\"]],\"type\":\"heatmapgl\"}],\"histogram\":[{\"marker\":{\"pattern\":{\"fillmode\":\"overlay\",\"size\":10,\"solidity\":0.2}},\"type\":\"histogram\"}],\"histogram2d\":[{\"colorbar\":{\"outlinewidth\":0,\"ticks\":\"\"},\"colorscale\":[[0.0,\"#0d0887\"],[0.1111111111111111,\"#46039f\"],[0.2222222222222222,\"#7201a8\"],[0.3333333333333333,\"#9c179e\"],[0.4444444444444444,\"#bd3786\"],[0.5555555555555556,\"#d8576b\"],[0.6666666666666666,\"#ed7953\"],[0.7777777777777778,\"#fb9f3a\"],[0.8888888888888888,\"#fdca26\"],[1.0,\"#f0f921\"]],\"type\":\"histogram2d\"}],\"histogram2dcontour\":[{\"colorbar\":{\"outlinewidth\":0,\"ticks\":\"\"},\"colorscale\":[[0.0,\"#0d0887\"],[0.1111111111111111,\"#46039f\"],[0.2222222222222222,\"#7201a8\"],[0.3333333333333333,\"#9c179e\"],[0.4444444444444444,\"#bd3786\"],[0.5555555555555556,\"#d8576b\"],[0.6666666666666666,\"#ed7953\"],[0.7777777777777778,\"#fb9f3a\"],[0.8888888888888888,\"#fdca26\"],[1.0,\"#f0f921\"]],\"type\":\"histogram2dcontour\"}],\"mesh3d\":[{\"colorbar\":{\"outlinewidth\":0,\"ticks\":\"\"},\"type\":\"mesh3d\"}],\"parcoords\":[{\"line\":{\"colorbar\":{\"outlinewidth\":0,\"ticks\":\"\"}},\"type\":\"parcoords\"}],\"pie\":[{\"automargin\":true,\"type\":\"pie\"}],\"scatter\":[{\"marker\":{\"colorbar\":{\"outlinewidth\":0,\"ticks\":\"\"}},\"type\":\"scatter\"}],\"scatter3d\":[{\"line\":{\"colorbar\":{\"outlinewidth\":0,\"ticks\":\"\"}},\"marker\":{\"colorbar\":{\"outlinewidth\":0,\"ticks\":\"\"}},\"type\":\"scatter3d\"}],\"scattercarpet\":[{\"marker\":{\"colorbar\":{\"outlinewidth\":0,\"ticks\":\"\"}},\"type\":\"scattercarpet\"}],\"scattergeo\":[{\"marker\":{\"colorbar\":{\"outlinewidth\":0,\"ticks\":\"\"}},\"type\":\"scattergeo\"}],\"scattergl\":[{\"marker\":{\"colorbar\":{\"outlinewidth\":0,\"ticks\":\"\"}},\"type\":\"scattergl\"}],\"scattermapbox\":[{\"marker\":{\"colorbar\":{\"outlinewidth\":0,\"ticks\":\"\"}},\"type\":\"scattermapbox\"}],\"scatterpolar\":[{\"marker\":{\"colorbar\":{\"outlinewidth\":0,\"ticks\":\"\"}},\"type\":\"scatterpolar\"}],\"scatterpolargl\":[{\"marker\":{\"colorbar\":{\"outlinewidth\":0,\"ticks\":\"\"}},\"type\":\"scatterpolargl\"}],\"scatterternary\":[{\"marker\":{\"colorbar\":{\"outlinewidth\":0,\"ticks\":\"\"}},\"type\":\"scatterternary\"}],\"surface\":[{\"colorbar\":{\"outlinewidth\":0,\"ticks\":\"\"},\"colorscale\":[[0.0,\"#0d0887\"],[0.1111111111111111,\"#46039f\"],[0.2222222222222222,\"#7201a8\"],[0.3333333333333333,\"#9c179e\"],[0.4444444444444444,\"#bd3786\"],[0.5555555555555556,\"#d8576b\"],[0.6666666666666666,\"#ed7953\"],[0.7777777777777778,\"#fb9f3a\"],[0.8888888888888888,\"#fdca26\"],[1.0,\"#f0f921\"]],\"type\":\"surface\"}],\"table\":[{\"cells\":{\"fill\":{\"color\":\"#EBF0F8\"},\"line\":{\"color\":\"white\"}},\"header\":{\"fill\":{\"color\":\"#C8D4E3\"},\"line\":{\"color\":\"white\"}},\"type\":\"table\"}]},\"layout\":{\"annotationdefaults\":{\"arrowcolor\":\"#2a3f5f\",\"arrowhead\":0,\"arrowwidth\":1},\"autotypenumbers\":\"strict\",\"coloraxis\":{\"colorbar\":{\"outlinewidth\":0,\"ticks\":\"\"}},\"colorscale\":{\"diverging\":[[0,\"#8e0152\"],[0.1,\"#c51b7d\"],[0.2,\"#de77ae\"],[0.3,\"#f1b6da\"],[0.4,\"#fde0ef\"],[0.5,\"#f7f7f7\"],[0.6,\"#e6f5d0\"],[0.7,\"#b8e186\"],[0.8,\"#7fbc41\"],[0.9,\"#4d9221\"],[1,\"#276419\"]],\"sequential\":[[0.0,\"#0d0887\"],[0.1111111111111111,\"#46039f\"],[0.2222222222222222,\"#7201a8\"],[0.3333333333333333,\"#9c179e\"],[0.4444444444444444,\"#bd3786\"],[0.5555555555555556,\"#d8576b\"],[0.6666666666666666,\"#ed7953\"],[0.7777777777777778,\"#fb9f3a\"],[0.8888888888888888,\"#fdca26\"],[1.0,\"#f0f921\"]],\"sequentialminus\":[[0.0,\"#0d0887\"],[0.1111111111111111,\"#46039f\"],[0.2222222222222222,\"#7201a8\"],[0.3333333333333333,\"#9c179e\"],[0.4444444444444444,\"#bd3786\"],[0.5555555555555556,\"#d8576b\"],[0.6666666666666666,\"#ed7953\"],[0.7777777777777778,\"#fb9f3a\"],[0.8888888888888888,\"#fdca26\"],[1.0,\"#f0f921\"]]},\"colorway\":[\"#636efa\",\"#EF553B\",\"#00cc96\",\"#ab63fa\",\"#FFA15A\",\"#19d3f3\",\"#FF6692\",\"#B6E880\",\"#FF97FF\",\"#FECB52\"],\"font\":{\"color\":\"#2a3f5f\"},\"geo\":{\"bgcolor\":\"white\",\"lakecolor\":\"white\",\"landcolor\":\"#E5ECF6\",\"showlakes\":true,\"showland\":true,\"subunitcolor\":\"white\"},\"hoverlabel\":{\"align\":\"left\"},\"hovermode\":\"closest\",\"mapbox\":{\"style\":\"light\"},\"paper_bgcolor\":\"white\",\"plot_bgcolor\":\"#E5ECF6\",\"polar\":{\"angularaxis\":{\"gridcolor\":\"white\",\"linecolor\":\"white\",\"ticks\":\"\"},\"bgcolor\":\"#E5ECF6\",\"radialaxis\":{\"gridcolor\":\"white\",\"linecolor\":\"white\",\"ticks\":\"\"}},\"scene\":{\"xaxis\":{\"backgroundcolor\":\"#E5ECF6\",\"gridcolor\":\"white\",\"gridwidth\":2,\"linecolor\":\"white\",\"showbackground\":true,\"ticks\":\"\",\"zerolinecolor\":\"white\"},\"yaxis\":{\"backgroundcolor\":\"#E5ECF6\",\"gridcolor\":\"white\",\"gridwidth\":2,\"linecolor\":\"white\",\"showbackground\":true,\"ticks\":\"\",\"zerolinecolor\":\"white\"},\"zaxis\":{\"backgroundcolor\":\"#E5ECF6\",\"gridcolor\":\"white\",\"gridwidth\":2,\"linecolor\":\"white\",\"showbackground\":true,\"ticks\":\"\",\"zerolinecolor\":\"white\"}},\"shapedefaults\":{\"line\":{\"color\":\"#2a3f5f\"}},\"ternary\":{\"aaxis\":{\"gridcolor\":\"white\",\"linecolor\":\"white\",\"ticks\":\"\"},\"baxis\":{\"gridcolor\":\"white\",\"linecolor\":\"white\",\"ticks\":\"\"},\"bgcolor\":\"#E5ECF6\",\"caxis\":{\"gridcolor\":\"white\",\"linecolor\":\"white\",\"ticks\":\"\"}},\"title\":{\"x\":0.05},\"xaxis\":{\"automargin\":true,\"gridcolor\":\"white\",\"linecolor\":\"white\",\"ticks\":\"\",\"title\":{\"standoff\":15},\"zerolinecolor\":\"white\",\"zerolinewidth\":2},\"yaxis\":{\"automargin\":true,\"gridcolor\":\"white\",\"linecolor\":\"white\",\"ticks\":\"\",\"title\":{\"standoff\":15},\"zerolinecolor\":\"white\",\"zerolinewidth\":2}}},\"xaxis\":{\"anchor\":\"y\",\"domain\":[0.0,0.45]},\"yaxis\":{\"anchor\":\"x\",\"domain\":[0.0,1.0],\"title\":{\"text\":\"MaxTemp (\\u00b0C)\"}},\"xaxis2\":{\"anchor\":\"y2\",\"domain\":[0.55,1.0]},\"yaxis2\":{\"anchor\":\"x2\",\"domain\":[0.0,1.0],\"title\":{\"text\":\"MaxTemp (\\u00b0C)\"},\"range\":[0,35]},\"annotations\":[{\"font\":{\"size\":16},\"showarrow\":false,\"text\":\"Locations with higher MaxTemp\",\"x\":0.225,\"xanchor\":\"center\",\"xref\":\"paper\",\"y\":1.0,\"yanchor\":\"bottom\",\"yref\":\"paper\"},{\"font\":{\"size\":16},\"showarrow\":false,\"text\":\"Locations with lower MaxTemp\",\"x\":0.775,\"xanchor\":\"center\",\"xref\":\"paper\",\"y\":1.0,\"yanchor\":\"bottom\",\"yref\":\"paper\"}],\"showlegend\":false},                        {\"responsive\": true}                    ).then(function(){\n",
              "                            \n",
              "var gd = document.getElementById('a80d2257-2504-42d7-a249-665b9dd235fd');\n",
              "var x = new MutationObserver(function (mutations, observer) {{\n",
              "        var display = window.getComputedStyle(gd).display;\n",
              "        if (!display || display === 'none') {{\n",
              "            console.log([gd, 'removed!']);\n",
              "            Plotly.purge(gd);\n",
              "            observer.disconnect();\n",
              "        }}\n",
              "}});\n",
              "\n",
              "// Listen for the removal of the full notebook cells\n",
              "var notebookContainer = gd.closest('#notebook-container');\n",
              "if (notebookContainer) {{\n",
              "    x.observe(notebookContainer, {childList: true});\n",
              "}}\n",
              "\n",
              "// Listen for the clearing of the current output cell\n",
              "var outputEl = gd.closest('.output');\n",
              "if (outputEl) {{\n",
              "    x.observe(outputEl, {childList: true});\n",
              "}}\n",
              "\n",
              "                        })                };                            </script>        </div>\n",
              "</body>\n",
              "</html>"
            ]
          },
          "metadata": {}
        }
      ]
    },
    {
      "cell_type": "markdown",
      "source": [
        "Days with rain tend to have less maximum temperature."
      ],
      "metadata": {
        "id": "BOoQPtM-EVDJ"
      }
    },
    {
      "cell_type": "markdown",
      "source": [
        "* Graph analysis"
      ],
      "metadata": {
        "id": "YqsJMywNM0as"
      }
    },
    {
      "cell_type": "code",
      "source": [
        "fig, axes = plt.subplots(1, 2, figsize= (10, 8))\n",
        "ax1 = sns.boxplot(data= data, y= 'MaxTemp', ax= axes[0])\n",
        "ax1.set_title('MaxTemp boxplot')\n",
        "ax2 = sns.boxplot(data= data, x= 'RainTomorrow', y= 'MaxTemp', ax= axes[1])\n",
        "ax2.set_title('MaxTemp boxplot related to RainTomorrow')\n",
        "plt.show()"
      ],
      "metadata": {
        "colab": {
          "base_uri": "https://localhost:8080/",
          "height": 518
        },
        "id": "dBHRGvPyEGPX",
        "outputId": "50acd898-965d-4c3f-a70d-2fcdcb94cf9e"
      },
      "execution_count": 45,
      "outputs": [
        {
          "output_type": "display_data",
          "data": {
            "text/plain": [
              "<Figure size 720x576 with 2 Axes>"
            ],
            "image/png": "[encoded data removed]"
          },
          "metadata": {}
        }
      ]
    },
    {
      "cell_type": "markdown",
      "source": [
        "## Column `Rainfall`"
      ],
      "metadata": {
        "id": "9ncuG-KRFEAy"
      }
    },
    {
      "cell_type": "markdown",
      "source": [
        "Some descriptive statistics:"
      ],
      "metadata": {
        "id": "ly2mifKXFeef"
      }
    },
    {
      "cell_type": "code",
      "source": [
        "data['Rainfall'].describe()"
      ],
      "metadata": {
        "colab": {
          "base_uri": "https://localhost:8080/"
        },
        "id": "najBWjK-FeCu",
        "outputId": "4c098f6c-f06a-4f29-e37f-98d3924a0c89"
      },
      "execution_count": 46,
      "outputs": [
        {
          "output_type": "execute_result",
          "data": {
            "text/plain": [
              "count    142199.000000\n",
              "mean          2.360918\n",
              "std           8.478060\n",
              "min           0.000000\n",
              "25%           0.000000\n",
              "50%           0.000000\n",
              "75%           0.800000\n",
              "max         371.000000\n",
              "Name: Rainfall, dtype: float64"
            ]
          },
          "metadata": {},
          "execution_count": 46
        }
      ]
    },
    {
      "cell_type": "markdown",
      "source": [
        "* Most and less rainfall locations:"
      ],
      "metadata": {
        "id": "ZspXvmraGOvw"
      }
    },
    {
      "cell_type": "code",
      "source": [
        "most_rain_locations = data.groupby('Location')['Rainfall'].mean().round(2).sort_values(ascending= False)"
      ],
      "metadata": {
        "id": "Evq8lCVJFtBE"
      },
      "execution_count": 73,
      "outputs": []
    },
    {
      "cell_type": "code",
      "source": [
        "from plotly.subplots import make_subplots"
      ],
      "metadata": {
        "id": "6C883ATDHoaK"
      },
      "execution_count": 54,
      "outputs": []
    },
    {
      "cell_type": "code",
      "source": [
        "fig = make_subplots(rows= 1, cols= 2, subplot_titles= ['Most rainfall locations', 'Less rainfall locations'])\n",
        "\n",
        "fig.add_trace(\n",
        "    go.Bar(x= most_rain_locations.keys()[:10], y= most_rain_locations.values[:10]),\n",
        "    row= 1, col= 1\n",
        ")\n",
        "fig.add_trace(\n",
        "    go.Bar(x= most_rain_locations.keys()[-10:], y= most_rain_locations.values[-10:]),\n",
        "    row= 1, col= 2\n",
        ")\n",
        "fig.update_layout(showlegend= False)\n",
        "fig.update_yaxes(title_text= 'Rainfall (mm)', row= 1, col= 1)\n",
        "fig.update_yaxes(title_text= 'Rainfall (mm)', range= [0, 6], row= 1, col= 2)"
      ],
      "metadata": {
        "colab": {
          "base_uri": "https://localhost:8080/",
          "height": 542
        },
        "id": "frbat-ufHacx",
        "outputId": "7c5fee23-fc26-437f-b262-eb8afaa4153b"
      },
      "execution_count": 71,
      "outputs": [
        {
          "output_type": "display_data",
          "data": {
            "text/html": [
              "<html>\n",
              "<head><meta charset=\"utf-8\" /></head>\n",
              "<body>\n",
              "    <div>            <script src=\"https://cdnjs.cloudflare.com/ajax/libs/mathjax/2.7.5/MathJax.js?config=TeX-AMS-MML_SVG\"></script><script type=\"text/javascript\">if (window.MathJax) {MathJax.Hub.Config({SVG: {font: \"STIX-Web\"}});}</script>                <script type=\"text/javascript\">window.PlotlyConfig = {MathJaxConfig: 'local'};</script>\n",
              "        <script src=\"https://cdn.plot.ly/plotly-2.8.3.min.js\"></script>                <div id=\"8002e048-d22d-4fee-8c09-362745f4afac\" class=\"plotly-graph-div\" style=\"height:525px; width:100%;\"></div>            <script type=\"text/javascript\">                                    window.PLOTLYENV=window.PLOTLYENV || {};                                    if (document.getElementById(\"8002e048-d22d-4fee-8c09-362745f4afac\")) {                    Plotly.newPlot(                        \"8002e048-d22d-4fee-8c09-362745f4afac\",                        [{\"x\":[\"Cairns\",\"Darwin\",\"CoffsHarbour\",\"GoldCoast\",\"Williamtown\",\"Wollongong\",\"Townsville\",\"NorahHead\",\"Sydney\",\"MountGinini\"],\"y\":[5.74,5.09,5.06,3.77,3.59,3.59,3.49,3.39,3.32,3.29],\"type\":\"bar\",\"xaxis\":\"x\",\"yaxis\":\"y\"},{\"x\":[\"Sale\",\"MelbourneAirport\",\"Nuriootpa\",\"Cobar\",\"SalmonGums\",\"Mildura\",\"Nhil\",\"AliceSprings\",\"Uluru\",\"Woomera\"],\"y\":[1.51,1.45,1.39,1.13,1.03,0.95,0.93,0.88,0.78,0.49],\"type\":\"bar\",\"xaxis\":\"x2\",\"yaxis\":\"y2\"}],                        {\"template\":{\"data\":{\"bar\":[{\"error_x\":{\"color\":\"#2a3f5f\"},\"error_y\":{\"color\":\"#2a3f5f\"},\"marker\":{\"line\":{\"color\":\"#E5ECF6\",\"width\":0.5},\"pattern\":{\"fillmode\":\"overlay\",\"size\":10,\"solidity\":0.2}},\"type\":\"bar\"}],\"barpolar\":[{\"marker\":{\"line\":{\"color\":\"#E5ECF6\",\"width\":0.5},\"pattern\":{\"fillmode\":\"overlay\",\"size\":10,\"solidity\":0.2}},\"type\":\"barpolar\"}],\"carpet\":[{\"aaxis\":{\"endlinecolor\":\"#2a3f5f\",\"gridcolor\":\"white\",\"linecolor\":\"white\",\"minorgridcolor\":\"white\",\"startlinecolor\":\"#2a3f5f\"},\"baxis\":{\"endlinecolor\":\"#2a3f5f\",\"gridcolor\":\"white\",\"linecolor\":\"white\",\"minorgridcolor\":\"white\",\"startlinecolor\":\"#2a3f5f\"},\"type\":\"carpet\"}],\"choropleth\":[{\"colorbar\":{\"outlinewidth\":0,\"ticks\":\"\"},\"type\":\"choropleth\"}],\"contour\":[{\"colorbar\":{\"outlinewidth\":0,\"ticks\":\"\"},\"colorscale\":[[0.0,\"#0d0887\"],[0.1111111111111111,\"#46039f\"],[0.2222222222222222,\"#7201a8\"],[0.3333333333333333,\"#9c179e\"],[0.4444444444444444,\"#bd3786\"],[0.5555555555555556,\"#d8576b\"],[0.6666666666666666,\"#ed7953\"],[0.7777777777777778,\"#fb9f3a\"],[0.8888888888888888,\"#fdca26\"],[1.0,\"#f0f921\"]],\"type\":\"contour\"}],\"contourcarpet\":[{\"colorbar\":{\"outlinewidth\":0,\"ticks\":\"\"},\"type\":\"contourcarpet\"}],\"heatmap\":[{\"colorbar\":{\"outlinewidth\":0,\"ticks\":\"\"},\"colorscale\":[[0.0,\"#0d0887\"],[0.1111111111111111,\"#46039f\"],[0.2222222222222222,\"#7201a8\"],[0.3333333333333333,\"#9c179e\"],[0.4444444444444444,\"#bd3786\"],[0.5555555555555556,\"#d8576b\"],[0.6666666666666666,\"#ed7953\"],[0.7777777777777778,\"#fb9f3a\"],[0.8888888888888888,\"#fdca26\"],[1.0,\"#f0f921\"]],\"type\":\"heatmap\"}],\"heatmapgl\":[{\"colorbar\":{\"outlinewidth\":0,\"ticks\":\"\"},\"colorscale\":[[0.0,\"#0d0887\"],[0.1111111111111111,\"#46039f\"],[0.2222222222222222,\"#7201a8\"],[0.3333333333333333,\"#9c179e\"],[0.4444444444444444,\"#bd3786\"],[0.5555555555555556,\"#d8576b\"],[0.6666666666666666,\"#ed7953\"],[0.7777777777777778,\"#fb9f3a\"],[0.8888888888888888,\"#fdca26\"],[1.0,\"#f0f921\"]],\"type\":\"heatmapgl\"}],\"histogram\":[{\"marker\":{\"pattern\":{\"fillmode\":\"overlay\",\"size\":10,\"solidity\":0.2}},\"type\":\"histogram\"}],\"histogram2d\":[{\"colorbar\":{\"outlinewidth\":0,\"ticks\":\"\"},\"colorscale\":[[0.0,\"#0d0887\"],[0.1111111111111111,\"#46039f\"],[0.2222222222222222,\"#7201a8\"],[0.3333333333333333,\"#9c179e\"],[0.4444444444444444,\"#bd3786\"],[0.5555555555555556,\"#d8576b\"],[0.6666666666666666,\"#ed7953\"],[0.7777777777777778,\"#fb9f3a\"],[0.8888888888888888,\"#fdca26\"],[1.0,\"#f0f921\"]],\"type\":\"histogram2d\"}],\"histogram2dcontour\":[{\"colorbar\":{\"outlinewidth\":0,\"ticks\":\"\"},\"colorscale\":[[0.0,\"#0d0887\"],[0.1111111111111111,\"#46039f\"],[0.2222222222222222,\"#7201a8\"],[0.3333333333333333,\"#9c179e\"],[0.4444444444444444,\"#bd3786\"],[0.5555555555555556,\"#d8576b\"],[0.6666666666666666,\"#ed7953\"],[0.7777777777777778,\"#fb9f3a\"],[0.8888888888888888,\"#fdca26\"],[1.0,\"#f0f921\"]],\"type\":\"histogram2dcontour\"}],\"mesh3d\":[{\"colorbar\":{\"outlinewidth\":0,\"ticks\":\"\"},\"type\":\"mesh3d\"}],\"parcoords\":[{\"line\":{\"colorbar\":{\"outlinewidth\":0,\"ticks\":\"\"}},\"type\":\"parcoords\"}],\"pie\":[{\"automargin\":true,\"type\":\"pie\"}],\"scatter\":[{\"marker\":{\"colorbar\":{\"outlinewidth\":0,\"ticks\":\"\"}},\"type\":\"scatter\"}],\"scatter3d\":[{\"line\":{\"colorbar\":{\"outlinewidth\":0,\"ticks\":\"\"}},\"marker\":{\"colorbar\":{\"outlinewidth\":0,\"ticks\":\"\"}},\"type\":\"scatter3d\"}],\"scattercarpet\":[{\"marker\":{\"colorbar\":{\"outlinewidth\":0,\"ticks\":\"\"}},\"type\":\"scattercarpet\"}],\"scattergeo\":[{\"marker\":{\"colorbar\":{\"outlinewidth\":0,\"ticks\":\"\"}},\"type\":\"scattergeo\"}],\"scattergl\":[{\"marker\":{\"colorbar\":{\"outlinewidth\":0,\"ticks\":\"\"}},\"type\":\"scattergl\"}],\"scattermapbox\":[{\"marker\":{\"colorbar\":{\"outlinewidth\":0,\"ticks\":\"\"}},\"type\":\"scattermapbox\"}],\"scatterpolar\":[{\"marker\":{\"colorbar\":{\"outlinewidth\":0,\"ticks\":\"\"}},\"type\":\"scatterpolar\"}],\"scatterpolargl\":[{\"marker\":{\"colorbar\":{\"outlinewidth\":0,\"ticks\":\"\"}},\"type\":\"scatterpolargl\"}],\"scatterternary\":[{\"marker\":{\"colorbar\":{\"outlinewidth\":0,\"ticks\":\"\"}},\"type\":\"scatterternary\"}],\"surface\":[{\"colorbar\":{\"outlinewidth\":0,\"ticks\":\"\"},\"colorscale\":[[0.0,\"#0d0887\"],[0.1111111111111111,\"#46039f\"],[0.2222222222222222,\"#7201a8\"],[0.3333333333333333,\"#9c179e\"],[0.4444444444444444,\"#bd3786\"],[0.5555555555555556,\"#d8576b\"],[0.6666666666666666,\"#ed7953\"],[0.7777777777777778,\"#fb9f3a\"],[0.8888888888888888,\"#fdca26\"],[1.0,\"#f0f921\"]],\"type\":\"surface\"}],\"table\":[{\"cells\":{\"fill\":{\"color\":\"#EBF0F8\"},\"line\":{\"color\":\"white\"}},\"header\":{\"fill\":{\"color\":\"#C8D4E3\"},\"line\":{\"color\":\"white\"}},\"type\":\"table\"}]},\"layout\":{\"annotationdefaults\":{\"arrowcolor\":\"#2a3f5f\",\"arrowhead\":0,\"arrowwidth\":1},\"autotypenumbers\":\"strict\",\"coloraxis\":{\"colorbar\":{\"outlinewidth\":0,\"ticks\":\"\"}},\"colorscale\":{\"diverging\":[[0,\"#8e0152\"],[0.1,\"#c51b7d\"],[0.2,\"#de77ae\"],[0.3,\"#f1b6da\"],[0.4,\"#fde0ef\"],[0.5,\"#f7f7f7\"],[0.6,\"#e6f5d0\"],[0.7,\"#b8e186\"],[0.8,\"#7fbc41\"],[0.9,\"#4d9221\"],[1,\"#276419\"]],\"sequential\":[[0.0,\"#0d0887\"],[0.1111111111111111,\"#46039f\"],[0.2222222222222222,\"#7201a8\"],[0.3333333333333333,\"#9c179e\"],[0.4444444444444444,\"#bd3786\"],[0.5555555555555556,\"#d8576b\"],[0.6666666666666666,\"#ed7953\"],[0.7777777777777778,\"#fb9f3a\"],[0.8888888888888888,\"#fdca26\"],[1.0,\"#f0f921\"]],\"sequentialminus\":[[0.0,\"#0d0887\"],[0.1111111111111111,\"#46039f\"],[0.2222222222222222,\"#7201a8\"],[0.3333333333333333,\"#9c179e\"],[0.4444444444444444,\"#bd3786\"],[0.5555555555555556,\"#d8576b\"],[0.6666666666666666,\"#ed7953\"],[0.7777777777777778,\"#fb9f3a\"],[0.8888888888888888,\"#fdca26\"],[1.0,\"#f0f921\"]]},\"colorway\":[\"#636efa\",\"#EF553B\",\"#00cc96\",\"#ab63fa\",\"#FFA15A\",\"#19d3f3\",\"#FF6692\",\"#B6E880\",\"#FF97FF\",\"#FECB52\"],\"font\":{\"color\":\"#2a3f5f\"},\"geo\":{\"bgcolor\":\"white\",\"lakecolor\":\"white\",\"landcolor\":\"#E5ECF6\",\"showlakes\":true,\"showland\":true,\"subunitcolor\":\"white\"},\"hoverlabel\":{\"align\":\"left\"},\"hovermode\":\"closest\",\"mapbox\":{\"style\":\"light\"},\"paper_bgcolor\":\"white\",\"plot_bgcolor\":\"#E5ECF6\",\"polar\":{\"angularaxis\":{\"gridcolor\":\"white\",\"linecolor\":\"white\",\"ticks\":\"\"},\"bgcolor\":\"#E5ECF6\",\"radialaxis\":{\"gridcolor\":\"white\",\"linecolor\":\"white\",\"ticks\":\"\"}},\"scene\":{\"xaxis\":{\"backgroundcolor\":\"#E5ECF6\",\"gridcolor\":\"white\",\"gridwidth\":2,\"linecolor\":\"white\",\"showbackground\":true,\"ticks\":\"\",\"zerolinecolor\":\"white\"},\"yaxis\":{\"backgroundcolor\":\"#E5ECF6\",\"gridcolor\":\"white\",\"gridwidth\":2,\"linecolor\":\"white\",\"showbackground\":true,\"ticks\":\"\",\"zerolinecolor\":\"white\"},\"zaxis\":{\"backgroundcolor\":\"#E5ECF6\",\"gridcolor\":\"white\",\"gridwidth\":2,\"linecolor\":\"white\",\"showbackground\":true,\"ticks\":\"\",\"zerolinecolor\":\"white\"}},\"shapedefaults\":{\"line\":{\"color\":\"#2a3f5f\"}},\"ternary\":{\"aaxis\":{\"gridcolor\":\"white\",\"linecolor\":\"white\",\"ticks\":\"\"},\"baxis\":{\"gridcolor\":\"white\",\"linecolor\":\"white\",\"ticks\":\"\"},\"bgcolor\":\"#E5ECF6\",\"caxis\":{\"gridcolor\":\"white\",\"linecolor\":\"white\",\"ticks\":\"\"}},\"title\":{\"x\":0.05},\"xaxis\":{\"automargin\":true,\"gridcolor\":\"white\",\"linecolor\":\"white\",\"ticks\":\"\",\"title\":{\"standoff\":15},\"zerolinecolor\":\"white\",\"zerolinewidth\":2},\"yaxis\":{\"automargin\":true,\"gridcolor\":\"white\",\"linecolor\":\"white\",\"ticks\":\"\",\"title\":{\"standoff\":15},\"zerolinecolor\":\"white\",\"zerolinewidth\":2}}},\"xaxis\":{\"anchor\":\"y\",\"domain\":[0.0,0.45]},\"yaxis\":{\"anchor\":\"x\",\"domain\":[0.0,1.0],\"title\":{\"text\":\"Rainfall (mm)\"}},\"xaxis2\":{\"anchor\":\"y2\",\"domain\":[0.55,1.0]},\"yaxis2\":{\"anchor\":\"x2\",\"domain\":[0.0,1.0],\"title\":{\"text\":\"Rainfall (mm)\"},\"range\":[0,6]},\"annotations\":[{\"font\":{\"size\":16},\"showarrow\":false,\"text\":\"Most rainfall locations\",\"x\":0.225,\"xanchor\":\"center\",\"xref\":\"paper\",\"y\":1.0,\"yanchor\":\"bottom\",\"yref\":\"paper\"},{\"font\":{\"size\":16},\"showarrow\":false,\"text\":\"Less rainfall locations\",\"x\":0.775,\"xanchor\":\"center\",\"xref\":\"paper\",\"y\":1.0,\"yanchor\":\"bottom\",\"yref\":\"paper\"}],\"showlegend\":false},                        {\"responsive\": true}                    ).then(function(){\n",
              "                            \n",
              "var gd = document.getElementById('8002e048-d22d-4fee-8c09-362745f4afac');\n",
              "var x = new MutationObserver(function (mutations, observer) {{\n",
              "        var display = window.getComputedStyle(gd).display;\n",
              "        if (!display || display === 'none') {{\n",
              "            console.log([gd, 'removed!']);\n",
              "            Plotly.purge(gd);\n",
              "            observer.disconnect();\n",
              "        }}\n",
              "}});\n",
              "\n",
              "// Listen for the removal of the full notebook cells\n",
              "var notebookContainer = gd.closest('#notebook-container');\n",
              "if (notebookContainer) {{\n",
              "    x.observe(notebookContainer, {childList: true});\n",
              "}}\n",
              "\n",
              "// Listen for the clearing of the current output cell\n",
              "var outputEl = gd.closest('.output');\n",
              "if (outputEl) {{\n",
              "    x.observe(outputEl, {childList: true});\n",
              "}}\n",
              "\n",
              "                        })                };                            </script>        </div>\n",
              "</body>\n",
              "</html>"
            ]
          },
          "metadata": {}
        }
      ]
    },
    {
      "cell_type": "markdown",
      "source": [
        "* Graph analysis"
      ],
      "metadata": {
        "id": "i2TAFJYCM7DD"
      }
    },
    {
      "cell_type": "code",
      "source": [
        "fig, axes = plt.subplots(1, 2, figsize= (10, 8))\n",
        "ax1 = sns.boxplot(data= data, y= 'Rainfall', ax= axes[0])\n",
        "ax1.set_title('Rainfall boxplot')\n",
        "ax2 = sns.boxplot(data= data, x= 'RainTomorrow', y= 'Rainfall', ax= axes[1])\n",
        "ax2.set_title('Rainfall boxplot related to RainTomorrow')\n",
        "plt.show()"
      ],
      "metadata": {
        "colab": {
          "base_uri": "https://localhost:8080/",
          "height": 518
        },
        "id": "Zqc6Mx1aM_c9",
        "outputId": "ffbb6bcb-93da-4fb7-fe35-dad1c9715bd6"
      },
      "execution_count": 74,
      "outputs": [
        {
          "output_type": "display_data",
          "data": {
            "text/plain": [
              "<Figure size 720x576 with 2 Axes>"
            ],
            "image/png": "[encoded data removed]"
          },
          "metadata": {}
        }
      ]
    },
    {
      "cell_type": "code",
      "source": [
        "data.columns"
      ],
      "metadata": {
        "colab": {
          "base_uri": "https://localhost:8080/"
        },
        "id": "6A6TcZSE3hxr",
        "outputId": "3440e0f1-7b88-4218-8aff-b033f6d3a03f"
      },
      "execution_count": 12,
      "outputs": [
        {
          "output_type": "execute_result",
          "data": {
            "text/plain": [
              "Index(['Date', 'Location', 'MinTemp', 'MaxTemp', 'Rainfall', 'Evaporation',\n",
              "       'Sunshine', 'WindGustDir', 'WindGustSpeed', 'WindDir9am', 'WindDir3pm',\n",
              "       'WindSpeed9am', 'WindSpeed3pm', 'Humidity9am', 'Humidity3pm',\n",
              "       'Pressure9am', 'Pressure3pm', 'Cloud9am', 'Cloud3pm', 'Temp9am',\n",
              "       'Temp3pm', 'RainToday', 'RainTomorrow'],\n",
              "      dtype='object')"
            ]
          },
          "metadata": {},
          "execution_count": 12
        }
      ]
    }
  ]
}