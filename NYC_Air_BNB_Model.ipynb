{
  "nbformat": 4,
  "nbformat_minor": 0,
  "metadata": {
    "colab": {
      "provenance": []
    },
    "kernelspec": {
      "name": "python3",
      "display_name": "Python 3"
    },
    "language_info": {
      "name": "python"
    }
  },
  "cells": [
    {
      "cell_type": "markdown",
      "source": [
        "Importando as bibliotecas"
      ],
      "metadata": {
        "id": "7BDW2uSIftwF"
      }
    },
    {
      "cell_type": "code",
      "execution_count": 1,
      "metadata": {
        "id": "EL24CUJNfpI0"
      },
      "outputs": [],
      "source": [
        "import numpy as np\n",
        "import pandas as pd\n",
        "import matplotlib.pyplot as plt\n",
        "import seaborn as sns"
      ]
    },
    {
      "cell_type": "code",
      "source": [
        "sns.set()"
      ],
      "metadata": {
        "id": "ui40rKoNKPq_"
      },
      "execution_count": 2,
      "outputs": []
    },
    {
      "cell_type": "markdown",
      "source": [
        "# Carregando os dados em um dataframe"
      ],
      "metadata": {
        "id": "j6KTIUJOf3D-"
      }
    },
    {
      "cell_type": "code",
      "source": [
        "airbnb = pd.read_csv('/content/drive/MyDrive/Airbnb_NYC.csv')\n",
        "airbnb.head()"
      ],
      "metadata": {
        "colab": {
          "base_uri": "https://localhost:8080/",
          "height": 206
        },
        "id": "thlneDbrf2PM",
        "outputId": "ef1f5d22-4382-4cfc-a1be-89530a264143"
      },
      "execution_count": 3,
      "outputs": [
        {
          "output_type": "execute_result",
          "data": {
            "text/plain": [
              "  Boroughs  Latitude  Longitude    Prop_Type  Min_Nights  Host_Listing_Cnt  \\\n",
              "0    Bronx  40.80011  -73.91330  PrivateRoom        21.0               2.0   \n",
              "1    Bronx  40.80024  -73.91422  PrivateRoom         3.0               1.0   \n",
              "2    Bronx  40.80074  -73.91574  PrivateRoom         3.0               1.0   \n",
              "3    Bronx  40.80091  -73.91449  PrivateRoom        21.0               2.0   \n",
              "4    Bronx  40.80143  -73.91353   EntireHome         2.0               3.0   \n",
              "\n",
              "   Days_Available  Review_Cnt  Reviews30d  Price  \n",
              "0             291          19        0.27   60.0  \n",
              "1               0          59        2.93   49.0  \n",
              "2             354           3        0.87   50.0  \n",
              "3             117          18        0.36   71.0  \n",
              "4               0          12        3.50  115.0  "
            ],
            "text/html": [
              "\n",
              "  <div id=\"df-15ab77ac-b8d0-45c8-90af-34f9a2553fda\">\n",
              "    <div class=\"colab-df-container\">\n",
              "      <div>\n",
              "<style scoped>\n",
              "    .dataframe tbody tr th:only-of-type {\n",
              "        vertical-align: middle;\n",
              "    }\n",
              "\n",
              "    .dataframe tbody tr th {\n",
              "        vertical-align: top;\n",
              "    }\n",
              "\n",
              "    .dataframe thead th {\n",
              "        text-align: right;\n",
              "    }\n",
              "</style>\n",
              "<table border=\"1\" class=\"dataframe\">\n",
              "  <thead>\n",
              "    <tr style=\"text-align: right;\">\n",
              "      <th></th>\n",
              "      <th>Boroughs</th>\n",
              "      <th>Latitude</th>\n",
              "      <th>Longitude</th>\n",
              "      <th>Prop_Type</th>\n",
              "      <th>Min_Nights</th>\n",
              "      <th>Host_Listing_Cnt</th>\n",
              "      <th>Days_Available</th>\n",
              "      <th>Review_Cnt</th>\n",
              "      <th>Reviews30d</th>\n",
              "      <th>Price</th>\n",
              "    </tr>\n",
              "  </thead>\n",
              "  <tbody>\n",
              "    <tr>\n",
              "      <th>0</th>\n",
              "      <td>Bronx</td>\n",
              "      <td>40.80011</td>\n",
              "      <td>-73.91330</td>\n",
              "      <td>PrivateRoom</td>\n",
              "      <td>21.0</td>\n",
              "      <td>2.0</td>\n",
              "      <td>291</td>\n",
              "      <td>19</td>\n",
              "      <td>0.27</td>\n",
              "      <td>60.0</td>\n",
              "    </tr>\n",
              "    <tr>\n",
              "      <th>1</th>\n",
              "      <td>Bronx</td>\n",
              "      <td>40.80024</td>\n",
              "      <td>-73.91422</td>\n",
              "      <td>PrivateRoom</td>\n",
              "      <td>3.0</td>\n",
              "      <td>1.0</td>\n",
              "      <td>0</td>\n",
              "      <td>59</td>\n",
              "      <td>2.93</td>\n",
              "      <td>49.0</td>\n",
              "    </tr>\n",
              "    <tr>\n",
              "      <th>2</th>\n",
              "      <td>Bronx</td>\n",
              "      <td>40.80074</td>\n",
              "      <td>-73.91574</td>\n",
              "      <td>PrivateRoom</td>\n",
              "      <td>3.0</td>\n",
              "      <td>1.0</td>\n",
              "      <td>354</td>\n",
              "      <td>3</td>\n",
              "      <td>0.87</td>\n",
              "      <td>50.0</td>\n",
              "    </tr>\n",
              "    <tr>\n",
              "      <th>3</th>\n",
              "      <td>Bronx</td>\n",
              "      <td>40.80091</td>\n",
              "      <td>-73.91449</td>\n",
              "      <td>PrivateRoom</td>\n",
              "      <td>21.0</td>\n",
              "      <td>2.0</td>\n",
              "      <td>117</td>\n",
              "      <td>18</td>\n",
              "      <td>0.36</td>\n",
              "      <td>71.0</td>\n",
              "    </tr>\n",
              "    <tr>\n",
              "      <th>4</th>\n",
              "      <td>Bronx</td>\n",
              "      <td>40.80143</td>\n",
              "      <td>-73.91353</td>\n",
              "      <td>EntireHome</td>\n",
              "      <td>2.0</td>\n",
              "      <td>3.0</td>\n",
              "      <td>0</td>\n",
              "      <td>12</td>\n",
              "      <td>3.50</td>\n",
              "      <td>115.0</td>\n",
              "    </tr>\n",
              "  </tbody>\n",
              "</table>\n",
              "</div>\n",
              "      <button class=\"colab-df-convert\" onclick=\"convertToInteractive('df-15ab77ac-b8d0-45c8-90af-34f9a2553fda')\"\n",
              "              title=\"Convert this dataframe to an interactive table.\"\n",
              "              style=\"display:none;\">\n",
              "        \n",
              "  <svg xmlns=\"http://www.w3.org/2000/svg\" height=\"24px\"viewBox=\"0 0 24 24\"\n",
              "       width=\"24px\">\n",
              "    <path d=\"M0 0h24v24H0V0z\" fill=\"none\"/>\n",
              "    <path d=\"M18.56 5.44l.94 2.06.94-2.06 2.06-.94-2.06-.94-.94-2.06-.94 2.06-2.06.94zm-11 1L8.5 8.5l.94-2.06 2.06-.94-2.06-.94L8.5 2.5l-.94 2.06-2.06.94zm10 10l.94 2.06.94-2.06 2.06-.94-2.06-.94-.94-2.06-.94 2.06-2.06.94z\"/><path d=\"M17.41 7.96l-1.37-1.37c-.4-.4-.92-.59-1.43-.59-.52 0-1.04.2-1.43.59L10.3 9.45l-7.72 7.72c-.78.78-.78 2.05 0 2.83L4 21.41c.39.39.9.59 1.41.59.51 0 1.02-.2 1.41-.59l7.78-7.78 2.81-2.81c.8-.78.8-2.07 0-2.86zM5.41 20L4 18.59l7.72-7.72 1.47 1.35L5.41 20z\"/>\n",
              "  </svg>\n",
              "      </button>\n",
              "      \n",
              "  <style>\n",
              "    .colab-df-container {\n",
              "      display:flex;\n",
              "      flex-wrap:wrap;\n",
              "      gap: 12px;\n",
              "    }\n",
              "\n",
              "    .colab-df-convert {\n",
              "      background-color: #E8F0FE;\n",
              "      border: none;\n",
              "      border-radius: 50%;\n",
              "      cursor: pointer;\n",
              "      display: none;\n",
              "      fill: #1967D2;\n",
              "      height: 32px;\n",
              "      padding: 0 0 0 0;\n",
              "      width: 32px;\n",
              "    }\n",
              "\n",
              "    .colab-df-convert:hover {\n",
              "      background-color: #E2EBFA;\n",
              "      box-shadow: 0px 1px 2px rgba(60, 64, 67, 0.3), 0px 1px 3px 1px rgba(60, 64, 67, 0.15);\n",
              "      fill: #174EA6;\n",
              "    }\n",
              "\n",
              "    [theme=dark] .colab-df-convert {\n",
              "      background-color: #3B4455;\n",
              "      fill: #D2E3FC;\n",
              "    }\n",
              "\n",
              "    [theme=dark] .colab-df-convert:hover {\n",
              "      background-color: #434B5C;\n",
              "      box-shadow: 0px 1px 3px 1px rgba(0, 0, 0, 0.15);\n",
              "      filter: drop-shadow(0px 1px 2px rgba(0, 0, 0, 0.3));\n",
              "      fill: #FFFFFF;\n",
              "    }\n",
              "  </style>\n",
              "\n",
              "      <script>\n",
              "        const buttonEl =\n",
              "          document.querySelector('#df-15ab77ac-b8d0-45c8-90af-34f9a2553fda button.colab-df-convert');\n",
              "        buttonEl.style.display =\n",
              "          google.colab.kernel.accessAllowed ? 'block' : 'none';\n",
              "\n",
              "        async function convertToInteractive(key) {\n",
              "          const element = document.querySelector('#df-15ab77ac-b8d0-45c8-90af-34f9a2553fda');\n",
              "          const dataTable =\n",
              "            await google.colab.kernel.invokeFunction('convertToInteractive',\n",
              "                                                     [key], {});\n",
              "          if (!dataTable) return;\n",
              "\n",
              "          const docLinkHtml = 'Like what you see? Visit the ' +\n",
              "            '<a target=\"_blank\" href=https://colab.research.google.com/notebooks/data_table.ipynb>data table notebook</a>'\n",
              "            + ' to learn more about interactive tables.';\n",
              "          element.innerHTML = '';\n",
              "          dataTable['output_type'] = 'display_data';\n",
              "          await google.colab.output.renderOutput(dataTable, element);\n",
              "          const docLink = document.createElement('div');\n",
              "          docLink.innerHTML = docLinkHtml;\n",
              "          element.appendChild(docLink);\n",
              "        }\n",
              "      </script>\n",
              "    </div>\n",
              "  </div>\n",
              "  "
            ]
          },
          "metadata": {},
          "execution_count": 3
        }
      ]
    },
    {
      "cell_type": "markdown",
      "source": [
        "* Algumas informações sobre o dataframe:"
      ],
      "metadata": {
        "id": "fRKAlVmmhZni"
      }
    },
    {
      "cell_type": "code",
      "source": [
        "airbnb.info()"
      ],
      "metadata": {
        "colab": {
          "base_uri": "https://localhost:8080/"
        },
        "id": "fMoeVxfpgw6g",
        "outputId": "2e62a82d-da0d-4129-daa5-424803e16311"
      },
      "execution_count": 4,
      "outputs": [
        {
          "output_type": "stream",
          "name": "stdout",
          "text": [
            "<class 'pandas.core.frame.DataFrame'>\n",
            "RangeIndex: 38733 entries, 0 to 38732\n",
            "Data columns (total 10 columns):\n",
            " #   Column            Non-Null Count  Dtype  \n",
            "---  ------            --------------  -----  \n",
            " 0   Boroughs          38733 non-null  object \n",
            " 1   Latitude          38733 non-null  float64\n",
            " 2   Longitude         38733 non-null  float64\n",
            " 3   Prop_Type         38733 non-null  object \n",
            " 4   Min_Nights        38695 non-null  float64\n",
            " 5   Host_Listing_Cnt  38378 non-null  float64\n",
            " 6   Days_Available    38733 non-null  int64  \n",
            " 7   Review_Cnt        38733 non-null  int64  \n",
            " 8   Reviews30d        38733 non-null  float64\n",
            " 9   Price             38724 non-null  float64\n",
            "dtypes: float64(6), int64(2), object(2)\n",
            "memory usage: 3.0+ MB\n"
          ]
        }
      ]
    },
    {
      "cell_type": "markdown",
      "source": [
        "# Estatísticas descritivas"
      ],
      "metadata": {
        "id": "6ehGxkAwg7kL"
      }
    },
    {
      "cell_type": "code",
      "source": [
        "airbnb.describe()"
      ],
      "metadata": {
        "colab": {
          "base_uri": "https://localhost:8080/",
          "height": 300
        },
        "id": "pZZHB6wrg1-R",
        "outputId": "87cda518-636c-4d55-b1aa-4985bba51fb5"
      },
      "execution_count": 5,
      "outputs": [
        {
          "output_type": "execute_result",
          "data": {
            "text/plain": [
              "           Latitude     Longitude    Min_Nights  Host_Listing_Cnt  \\\n",
              "count  38733.000000  38733.000000  38695.000000      38378.000000   \n",
              "mean      40.727848    -73.950735      5.523659          2.987545   \n",
              "std        0.055274      0.047167     10.817380          8.413190   \n",
              "min       40.506410    -74.244420      1.000000          1.000000   \n",
              "25%       40.688450    -73.982290      1.000000          1.000000   \n",
              "50%       40.721490    -73.954600      2.000000          1.000000   \n",
              "75%       40.762810    -73.934460      4.000000          2.000000   \n",
              "max       40.912400    -73.712990    300.000000         96.000000   \n",
              "\n",
              "       Days_Available    Review_Cnt    Reviews30d         Price  \n",
              "count    38733.000000  38733.000000  38733.000000  38724.000000  \n",
              "mean       114.234890     29.510650      1.365694    140.879248  \n",
              "std        130.182077     48.654548      1.692891    194.490892  \n",
              "min          0.000000      1.000000      0.010000     10.000000  \n",
              "25%          0.000000      3.000000      0.190000     68.000000  \n",
              "50%         50.000000     10.000000      0.710000    100.000000  \n",
              "75%        234.000000     33.000000      2.000000    169.000000  \n",
              "max        365.000000    639.000000     66.610000  10000.000000  "
            ],
            "text/html": [
              "\n",
              "  <div id=\"df-ffc2e076-7e06-48a9-95ac-45555cafe635\">\n",
              "    <div class=\"colab-df-container\">\n",
              "      <div>\n",
              "<style scoped>\n",
              "    .dataframe tbody tr th:only-of-type {\n",
              "        vertical-align: middle;\n",
              "    }\n",
              "\n",
              "    .dataframe tbody tr th {\n",
              "        vertical-align: top;\n",
              "    }\n",
              "\n",
              "    .dataframe thead th {\n",
              "        text-align: right;\n",
              "    }\n",
              "</style>\n",
              "<table border=\"1\" class=\"dataframe\">\n",
              "  <thead>\n",
              "    <tr style=\"text-align: right;\">\n",
              "      <th></th>\n",
              "      <th>Latitude</th>\n",
              "      <th>Longitude</th>\n",
              "      <th>Min_Nights</th>\n",
              "      <th>Host_Listing_Cnt</th>\n",
              "      <th>Days_Available</th>\n",
              "      <th>Review_Cnt</th>\n",
              "      <th>Reviews30d</th>\n",
              "      <th>Price</th>\n",
              "    </tr>\n",
              "  </thead>\n",
              "  <tbody>\n",
              "    <tr>\n",
              "      <th>count</th>\n",
              "      <td>38733.000000</td>\n",
              "      <td>38733.000000</td>\n",
              "      <td>38695.000000</td>\n",
              "      <td>38378.000000</td>\n",
              "      <td>38733.000000</td>\n",
              "      <td>38733.000000</td>\n",
              "      <td>38733.000000</td>\n",
              "      <td>38724.000000</td>\n",
              "    </tr>\n",
              "    <tr>\n",
              "      <th>mean</th>\n",
              "      <td>40.727848</td>\n",
              "      <td>-73.950735</td>\n",
              "      <td>5.523659</td>\n",
              "      <td>2.987545</td>\n",
              "      <td>114.234890</td>\n",
              "      <td>29.510650</td>\n",
              "      <td>1.365694</td>\n",
              "      <td>140.879248</td>\n",
              "    </tr>\n",
              "    <tr>\n",
              "      <th>std</th>\n",
              "      <td>0.055274</td>\n",
              "      <td>0.047167</td>\n",
              "      <td>10.817380</td>\n",
              "      <td>8.413190</td>\n",
              "      <td>130.182077</td>\n",
              "      <td>48.654548</td>\n",
              "      <td>1.692891</td>\n",
              "      <td>194.490892</td>\n",
              "    </tr>\n",
              "    <tr>\n",
              "      <th>min</th>\n",
              "      <td>40.506410</td>\n",
              "      <td>-74.244420</td>\n",
              "      <td>1.000000</td>\n",
              "      <td>1.000000</td>\n",
              "      <td>0.000000</td>\n",
              "      <td>1.000000</td>\n",
              "      <td>0.010000</td>\n",
              "      <td>10.000000</td>\n",
              "    </tr>\n",
              "    <tr>\n",
              "      <th>25%</th>\n",
              "      <td>40.688450</td>\n",
              "      <td>-73.982290</td>\n",
              "      <td>1.000000</td>\n",
              "      <td>1.000000</td>\n",
              "      <td>0.000000</td>\n",
              "      <td>3.000000</td>\n",
              "      <td>0.190000</td>\n",
              "      <td>68.000000</td>\n",
              "    </tr>\n",
              "    <tr>\n",
              "      <th>50%</th>\n",
              "      <td>40.721490</td>\n",
              "      <td>-73.954600</td>\n",
              "      <td>2.000000</td>\n",
              "      <td>1.000000</td>\n",
              "      <td>50.000000</td>\n",
              "      <td>10.000000</td>\n",
              "      <td>0.710000</td>\n",
              "      <td>100.000000</td>\n",
              "    </tr>\n",
              "    <tr>\n",
              "      <th>75%</th>\n",
              "      <td>40.762810</td>\n",
              "      <td>-73.934460</td>\n",
              "      <td>4.000000</td>\n",
              "      <td>2.000000</td>\n",
              "      <td>234.000000</td>\n",
              "      <td>33.000000</td>\n",
              "      <td>2.000000</td>\n",
              "      <td>169.000000</td>\n",
              "    </tr>\n",
              "    <tr>\n",
              "      <th>max</th>\n",
              "      <td>40.912400</td>\n",
              "      <td>-73.712990</td>\n",
              "      <td>300.000000</td>\n",
              "      <td>96.000000</td>\n",
              "      <td>365.000000</td>\n",
              "      <td>639.000000</td>\n",
              "      <td>66.610000</td>\n",
              "      <td>10000.000000</td>\n",
              "    </tr>\n",
              "  </tbody>\n",
              "</table>\n",
              "</div>\n",
              "      <button class=\"colab-df-convert\" onclick=\"convertToInteractive('df-ffc2e076-7e06-48a9-95ac-45555cafe635')\"\n",
              "              title=\"Convert this dataframe to an interactive table.\"\n",
              "              style=\"display:none;\">\n",
              "        \n",
              "  <svg xmlns=\"http://www.w3.org/2000/svg\" height=\"24px\"viewBox=\"0 0 24 24\"\n",
              "       width=\"24px\">\n",
              "    <path d=\"M0 0h24v24H0V0z\" fill=\"none\"/>\n",
              "    <path d=\"M18.56 5.44l.94 2.06.94-2.06 2.06-.94-2.06-.94-.94-2.06-.94 2.06-2.06.94zm-11 1L8.5 8.5l.94-2.06 2.06-.94-2.06-.94L8.5 2.5l-.94 2.06-2.06.94zm10 10l.94 2.06.94-2.06 2.06-.94-2.06-.94-.94-2.06-.94 2.06-2.06.94z\"/><path d=\"M17.41 7.96l-1.37-1.37c-.4-.4-.92-.59-1.43-.59-.52 0-1.04.2-1.43.59L10.3 9.45l-7.72 7.72c-.78.78-.78 2.05 0 2.83L4 21.41c.39.39.9.59 1.41.59.51 0 1.02-.2 1.41-.59l7.78-7.78 2.81-2.81c.8-.78.8-2.07 0-2.86zM5.41 20L4 18.59l7.72-7.72 1.47 1.35L5.41 20z\"/>\n",
              "  </svg>\n",
              "      </button>\n",
              "      \n",
              "  <style>\n",
              "    .colab-df-container {\n",
              "      display:flex;\n",
              "      flex-wrap:wrap;\n",
              "      gap: 12px;\n",
              "    }\n",
              "\n",
              "    .colab-df-convert {\n",
              "      background-color: #E8F0FE;\n",
              "      border: none;\n",
              "      border-radius: 50%;\n",
              "      cursor: pointer;\n",
              "      display: none;\n",
              "      fill: #1967D2;\n",
              "      height: 32px;\n",
              "      padding: 0 0 0 0;\n",
              "      width: 32px;\n",
              "    }\n",
              "\n",
              "    .colab-df-convert:hover {\n",
              "      background-color: #E2EBFA;\n",
              "      box-shadow: 0px 1px 2px rgba(60, 64, 67, 0.3), 0px 1px 3px 1px rgba(60, 64, 67, 0.15);\n",
              "      fill: #174EA6;\n",
              "    }\n",
              "\n",
              "    [theme=dark] .colab-df-convert {\n",
              "      background-color: #3B4455;\n",
              "      fill: #D2E3FC;\n",
              "    }\n",
              "\n",
              "    [theme=dark] .colab-df-convert:hover {\n",
              "      background-color: #434B5C;\n",
              "      box-shadow: 0px 1px 3px 1px rgba(0, 0, 0, 0.15);\n",
              "      filter: drop-shadow(0px 1px 2px rgba(0, 0, 0, 0.3));\n",
              "      fill: #FFFFFF;\n",
              "    }\n",
              "  </style>\n",
              "\n",
              "      <script>\n",
              "        const buttonEl =\n",
              "          document.querySelector('#df-ffc2e076-7e06-48a9-95ac-45555cafe635 button.colab-df-convert');\n",
              "        buttonEl.style.display =\n",
              "          google.colab.kernel.accessAllowed ? 'block' : 'none';\n",
              "\n",
              "        async function convertToInteractive(key) {\n",
              "          const element = document.querySelector('#df-ffc2e076-7e06-48a9-95ac-45555cafe635');\n",
              "          const dataTable =\n",
              "            await google.colab.kernel.invokeFunction('convertToInteractive',\n",
              "                                                     [key], {});\n",
              "          if (!dataTable) return;\n",
              "\n",
              "          const docLinkHtml = 'Like what you see? Visit the ' +\n",
              "            '<a target=\"_blank\" href=https://colab.research.google.com/notebooks/data_table.ipynb>data table notebook</a>'\n",
              "            + ' to learn more about interactive tables.';\n",
              "          element.innerHTML = '';\n",
              "          dataTable['output_type'] = 'display_data';\n",
              "          await google.colab.output.renderOutput(dataTable, element);\n",
              "          const docLink = document.createElement('div');\n",
              "          docLink.innerHTML = docLinkHtml;\n",
              "          element.appendChild(docLink);\n",
              "        }\n",
              "      </script>\n",
              "    </div>\n",
              "  </div>\n",
              "  "
            ]
          },
          "metadata": {},
          "execution_count": 5
        }
      ]
    },
    {
      "cell_type": "markdown",
      "source": [
        "# Tratamento dos dados faltantes"
      ],
      "metadata": {
        "id": "ZmhP_X1HiR7n"
      }
    },
    {
      "cell_type": "markdown",
      "source": [
        "Algumas colunas possuem dados faltantes e é importante analisar esses dados."
      ],
      "metadata": {
        "id": "zOMhAxkQiUmq"
      }
    },
    {
      "cell_type": "code",
      "source": [
        "airbnb.isna().sum()"
      ],
      "metadata": {
        "colab": {
          "base_uri": "https://localhost:8080/"
        },
        "id": "mO-OULfQhSWd",
        "outputId": "88e42706-a281-4639-b82e-a96814d9c21b"
      },
      "execution_count": 6,
      "outputs": [
        {
          "output_type": "execute_result",
          "data": {
            "text/plain": [
              "Boroughs              0\n",
              "Latitude              0\n",
              "Longitude             0\n",
              "Prop_Type             0\n",
              "Min_Nights           38\n",
              "Host_Listing_Cnt    355\n",
              "Days_Available        0\n",
              "Review_Cnt            0\n",
              "Reviews30d            0\n",
              "Price                 9\n",
              "dtype: int64"
            ]
          },
          "metadata": {},
          "execution_count": 6
        }
      ]
    },
    {
      "cell_type": "code",
      "source": [
        "f'O número de dados no dataframe é {airbnb.shape}'"
      ],
      "metadata": {
        "colab": {
          "base_uri": "https://localhost:8080/",
          "height": 35
        },
        "id": "xJEKfX4QivB9",
        "outputId": "03a892c1-65c5-4258-f6bd-ddfee5e48c82"
      },
      "execution_count": 7,
      "outputs": [
        {
          "output_type": "execute_result",
          "data": {
            "text/plain": [
              "'O número de dados no dataframe é (38733, 10)'"
            ],
            "application/vnd.google.colaboratory.intrinsic+json": {
              "type": "string"
            }
          },
          "metadata": {},
          "execution_count": 7
        }
      ]
    },
    {
      "cell_type": "markdown",
      "source": [
        "Como a quantidade de dados faltantes é muito pequena quando comparado a quantidade total de dados, opta-se por eliminá-los do dataframe."
      ],
      "metadata": {
        "id": "a1_FD4RLjZ1g"
      }
    },
    {
      "cell_type": "code",
      "source": [
        "airbnb.dropna(inplace= True)"
      ],
      "metadata": {
        "id": "xPblKuL3jXmd"
      },
      "execution_count": 8,
      "outputs": []
    },
    {
      "cell_type": "markdown",
      "source": [
        "Verificando se os dados faltantes foram retirados:"
      ],
      "metadata": {
        "id": "TnpOGxlqjqG_"
      }
    },
    {
      "cell_type": "code",
      "source": [
        "airbnb.isna().sum()"
      ],
      "metadata": {
        "colab": {
          "base_uri": "https://localhost:8080/"
        },
        "id": "352ERbsRjoWE",
        "outputId": "c46dc146-c5c3-4da8-9ac2-a42de087dd1c"
      },
      "execution_count": 9,
      "outputs": [
        {
          "output_type": "execute_result",
          "data": {
            "text/plain": [
              "Boroughs            0\n",
              "Latitude            0\n",
              "Longitude           0\n",
              "Prop_Type           0\n",
              "Min_Nights          0\n",
              "Host_Listing_Cnt    0\n",
              "Days_Available      0\n",
              "Review_Cnt          0\n",
              "Reviews30d          0\n",
              "Price               0\n",
              "dtype: int64"
            ]
          },
          "metadata": {},
          "execution_count": 9
        }
      ]
    },
    {
      "cell_type": "markdown",
      "source": [
        "# Tratamento das variáveis categóricas"
      ],
      "metadata": {
        "id": "osDaLK6HkcHG"
      }
    },
    {
      "cell_type": "code",
      "source": [
        "airbnb.head(2)"
      ],
      "metadata": {
        "colab": {
          "base_uri": "https://localhost:8080/",
          "height": 112
        },
        "id": "VLh00jaIkjzP",
        "outputId": "fc1064b0-8dc0-4859-af27-d7143dbfe548"
      },
      "execution_count": 10,
      "outputs": [
        {
          "output_type": "execute_result",
          "data": {
            "text/plain": [
              "  Boroughs  Latitude  Longitude    Prop_Type  Min_Nights  Host_Listing_Cnt  \\\n",
              "0    Bronx  40.80011  -73.91330  PrivateRoom        21.0               2.0   \n",
              "1    Bronx  40.80024  -73.91422  PrivateRoom         3.0               1.0   \n",
              "\n",
              "   Days_Available  Review_Cnt  Reviews30d  Price  \n",
              "0             291          19        0.27   60.0  \n",
              "1               0          59        2.93   49.0  "
            ],
            "text/html": [
              "\n",
              "  <div id=\"df-47bab6f2-8eda-4d16-9162-14cab47cf45f\">\n",
              "    <div class=\"colab-df-container\">\n",
              "      <div>\n",
              "<style scoped>\n",
              "    .dataframe tbody tr th:only-of-type {\n",
              "        vertical-align: middle;\n",
              "    }\n",
              "\n",
              "    .dataframe tbody tr th {\n",
              "        vertical-align: top;\n",
              "    }\n",
              "\n",
              "    .dataframe thead th {\n",
              "        text-align: right;\n",
              "    }\n",
              "</style>\n",
              "<table border=\"1\" class=\"dataframe\">\n",
              "  <thead>\n",
              "    <tr style=\"text-align: right;\">\n",
              "      <th></th>\n",
              "      <th>Boroughs</th>\n",
              "      <th>Latitude</th>\n",
              "      <th>Longitude</th>\n",
              "      <th>Prop_Type</th>\n",
              "      <th>Min_Nights</th>\n",
              "      <th>Host_Listing_Cnt</th>\n",
              "      <th>Days_Available</th>\n",
              "      <th>Review_Cnt</th>\n",
              "      <th>Reviews30d</th>\n",
              "      <th>Price</th>\n",
              "    </tr>\n",
              "  </thead>\n",
              "  <tbody>\n",
              "    <tr>\n",
              "      <th>0</th>\n",
              "      <td>Bronx</td>\n",
              "      <td>40.80011</td>\n",
              "      <td>-73.91330</td>\n",
              "      <td>PrivateRoom</td>\n",
              "      <td>21.0</td>\n",
              "      <td>2.0</td>\n",
              "      <td>291</td>\n",
              "      <td>19</td>\n",
              "      <td>0.27</td>\n",
              "      <td>60.0</td>\n",
              "    </tr>\n",
              "    <tr>\n",
              "      <th>1</th>\n",
              "      <td>Bronx</td>\n",
              "      <td>40.80024</td>\n",
              "      <td>-73.91422</td>\n",
              "      <td>PrivateRoom</td>\n",
              "      <td>3.0</td>\n",
              "      <td>1.0</td>\n",
              "      <td>0</td>\n",
              "      <td>59</td>\n",
              "      <td>2.93</td>\n",
              "      <td>49.0</td>\n",
              "    </tr>\n",
              "  </tbody>\n",
              "</table>\n",
              "</div>\n",
              "      <button class=\"colab-df-convert\" onclick=\"convertToInteractive('df-47bab6f2-8eda-4d16-9162-14cab47cf45f')\"\n",
              "              title=\"Convert this dataframe to an interactive table.\"\n",
              "              style=\"display:none;\">\n",
              "        \n",
              "  <svg xmlns=\"http://www.w3.org/2000/svg\" height=\"24px\"viewBox=\"0 0 24 24\"\n",
              "       width=\"24px\">\n",
              "    <path d=\"M0 0h24v24H0V0z\" fill=\"none\"/>\n",
              "    <path d=\"M18.56 5.44l.94 2.06.94-2.06 2.06-.94-2.06-.94-.94-2.06-.94 2.06-2.06.94zm-11 1L8.5 8.5l.94-2.06 2.06-.94-2.06-.94L8.5 2.5l-.94 2.06-2.06.94zm10 10l.94 2.06.94-2.06 2.06-.94-2.06-.94-.94-2.06-.94 2.06-2.06.94z\"/><path d=\"M17.41 7.96l-1.37-1.37c-.4-.4-.92-.59-1.43-.59-.52 0-1.04.2-1.43.59L10.3 9.45l-7.72 7.72c-.78.78-.78 2.05 0 2.83L4 21.41c.39.39.9.59 1.41.59.51 0 1.02-.2 1.41-.59l7.78-7.78 2.81-2.81c.8-.78.8-2.07 0-2.86zM5.41 20L4 18.59l7.72-7.72 1.47 1.35L5.41 20z\"/>\n",
              "  </svg>\n",
              "      </button>\n",
              "      \n",
              "  <style>\n",
              "    .colab-df-container {\n",
              "      display:flex;\n",
              "      flex-wrap:wrap;\n",
              "      gap: 12px;\n",
              "    }\n",
              "\n",
              "    .colab-df-convert {\n",
              "      background-color: #E8F0FE;\n",
              "      border: none;\n",
              "      border-radius: 50%;\n",
              "      cursor: pointer;\n",
              "      display: none;\n",
              "      fill: #1967D2;\n",
              "      height: 32px;\n",
              "      padding: 0 0 0 0;\n",
              "      width: 32px;\n",
              "    }\n",
              "\n",
              "    .colab-df-convert:hover {\n",
              "      background-color: #E2EBFA;\n",
              "      box-shadow: 0px 1px 2px rgba(60, 64, 67, 0.3), 0px 1px 3px 1px rgba(60, 64, 67, 0.15);\n",
              "      fill: #174EA6;\n",
              "    }\n",
              "\n",
              "    [theme=dark] .colab-df-convert {\n",
              "      background-color: #3B4455;\n",
              "      fill: #D2E3FC;\n",
              "    }\n",
              "\n",
              "    [theme=dark] .colab-df-convert:hover {\n",
              "      background-color: #434B5C;\n",
              "      box-shadow: 0px 1px 3px 1px rgba(0, 0, 0, 0.15);\n",
              "      filter: drop-shadow(0px 1px 2px rgba(0, 0, 0, 0.3));\n",
              "      fill: #FFFFFF;\n",
              "    }\n",
              "  </style>\n",
              "\n",
              "      <script>\n",
              "        const buttonEl =\n",
              "          document.querySelector('#df-47bab6f2-8eda-4d16-9162-14cab47cf45f button.colab-df-convert');\n",
              "        buttonEl.style.display =\n",
              "          google.colab.kernel.accessAllowed ? 'block' : 'none';\n",
              "\n",
              "        async function convertToInteractive(key) {\n",
              "          const element = document.querySelector('#df-47bab6f2-8eda-4d16-9162-14cab47cf45f');\n",
              "          const dataTable =\n",
              "            await google.colab.kernel.invokeFunction('convertToInteractive',\n",
              "                                                     [key], {});\n",
              "          if (!dataTable) return;\n",
              "\n",
              "          const docLinkHtml = 'Like what you see? Visit the ' +\n",
              "            '<a target=\"_blank\" href=https://colab.research.google.com/notebooks/data_table.ipynb>data table notebook</a>'\n",
              "            + ' to learn more about interactive tables.';\n",
              "          element.innerHTML = '';\n",
              "          dataTable['output_type'] = 'display_data';\n",
              "          await google.colab.output.renderOutput(dataTable, element);\n",
              "          const docLink = document.createElement('div');\n",
              "          docLink.innerHTML = docLinkHtml;\n",
              "          element.appendChild(docLink);\n",
              "        }\n",
              "      </script>\n",
              "    </div>\n",
              "  </div>\n",
              "  "
            ]
          },
          "metadata": {},
          "execution_count": 10
        }
      ]
    },
    {
      "cell_type": "markdown",
      "source": [
        "Algumas colunas contêm variáveis categóricas, é o caso das colunas **Boroughs** e **Prop_Type**. Então, é necessário fazer um tratamento tornando em variáveis dummies."
      ],
      "metadata": {
        "id": "gAHHLwHKkfGn"
      }
    },
    {
      "cell_type": "code",
      "source": [
        "categorical_dummies = pd.get_dummies(airbnb[['Boroughs', 'Prop_Type']])"
      ],
      "metadata": {
        "id": "-idFdswLk1jq"
      },
      "execution_count": 11,
      "outputs": []
    },
    {
      "cell_type": "code",
      "source": [
        "categorical_dummies.head()"
      ],
      "metadata": {
        "colab": {
          "base_uri": "https://localhost:8080/",
          "height": 268
        },
        "id": "ESYTZwVnkeom",
        "outputId": "2696d0a8-02a1-4bad-ed12-67b2abe3bf33"
      },
      "execution_count": 12,
      "outputs": [
        {
          "output_type": "execute_result",
          "data": {
            "text/plain": [
              "   Boroughs_Bronx  Boroughs_Brooklyn  Boroughs_Manhattan  Boroughs_Queens  \\\n",
              "0               1                  0                   0                0   \n",
              "1               1                  0                   0                0   \n",
              "2               1                  0                   0                0   \n",
              "3               1                  0                   0                0   \n",
              "4               1                  0                   0                0   \n",
              "\n",
              "   Boroughs_Staten Island  Prop_Type_EntireHome  Prop_Type_PrivateRoom  \\\n",
              "0                       0                     0                      1   \n",
              "1                       0                     0                      1   \n",
              "2                       0                     0                      1   \n",
              "3                       0                     0                      1   \n",
              "4                       0                     1                      0   \n",
              "\n",
              "   Prop_Type_SharedRoom  \n",
              "0                     0  \n",
              "1                     0  \n",
              "2                     0  \n",
              "3                     0  \n",
              "4                     0  "
            ],
            "text/html": [
              "\n",
              "  <div id=\"df-d991f093-28de-43c7-ad39-c119dc1a1a1b\">\n",
              "    <div class=\"colab-df-container\">\n",
              "      <div>\n",
              "<style scoped>\n",
              "    .dataframe tbody tr th:only-of-type {\n",
              "        vertical-align: middle;\n",
              "    }\n",
              "\n",
              "    .dataframe tbody tr th {\n",
              "        vertical-align: top;\n",
              "    }\n",
              "\n",
              "    .dataframe thead th {\n",
              "        text-align: right;\n",
              "    }\n",
              "</style>\n",
              "<table border=\"1\" class=\"dataframe\">\n",
              "  <thead>\n",
              "    <tr style=\"text-align: right;\">\n",
              "      <th></th>\n",
              "      <th>Boroughs_Bronx</th>\n",
              "      <th>Boroughs_Brooklyn</th>\n",
              "      <th>Boroughs_Manhattan</th>\n",
              "      <th>Boroughs_Queens</th>\n",
              "      <th>Boroughs_Staten Island</th>\n",
              "      <th>Prop_Type_EntireHome</th>\n",
              "      <th>Prop_Type_PrivateRoom</th>\n",
              "      <th>Prop_Type_SharedRoom</th>\n",
              "    </tr>\n",
              "  </thead>\n",
              "  <tbody>\n",
              "    <tr>\n",
              "      <th>0</th>\n",
              "      <td>1</td>\n",
              "      <td>0</td>\n",
              "      <td>0</td>\n",
              "      <td>0</td>\n",
              "      <td>0</td>\n",
              "      <td>0</td>\n",
              "      <td>1</td>\n",
              "      <td>0</td>\n",
              "    </tr>\n",
              "    <tr>\n",
              "      <th>1</th>\n",
              "      <td>1</td>\n",
              "      <td>0</td>\n",
              "      <td>0</td>\n",
              "      <td>0</td>\n",
              "      <td>0</td>\n",
              "      <td>0</td>\n",
              "      <td>1</td>\n",
              "      <td>0</td>\n",
              "    </tr>\n",
              "    <tr>\n",
              "      <th>2</th>\n",
              "      <td>1</td>\n",
              "      <td>0</td>\n",
              "      <td>0</td>\n",
              "      <td>0</td>\n",
              "      <td>0</td>\n",
              "      <td>0</td>\n",
              "      <td>1</td>\n",
              "      <td>0</td>\n",
              "    </tr>\n",
              "    <tr>\n",
              "      <th>3</th>\n",
              "      <td>1</td>\n",
              "      <td>0</td>\n",
              "      <td>0</td>\n",
              "      <td>0</td>\n",
              "      <td>0</td>\n",
              "      <td>0</td>\n",
              "      <td>1</td>\n",
              "      <td>0</td>\n",
              "    </tr>\n",
              "    <tr>\n",
              "      <th>4</th>\n",
              "      <td>1</td>\n",
              "      <td>0</td>\n",
              "      <td>0</td>\n",
              "      <td>0</td>\n",
              "      <td>0</td>\n",
              "      <td>1</td>\n",
              "      <td>0</td>\n",
              "      <td>0</td>\n",
              "    </tr>\n",
              "  </tbody>\n",
              "</table>\n",
              "</div>\n",
              "      <button class=\"colab-df-convert\" onclick=\"convertToInteractive('df-d991f093-28de-43c7-ad39-c119dc1a1a1b')\"\n",
              "              title=\"Convert this dataframe to an interactive table.\"\n",
              "              style=\"display:none;\">\n",
              "        \n",
              "  <svg xmlns=\"http://www.w3.org/2000/svg\" height=\"24px\"viewBox=\"0 0 24 24\"\n",
              "       width=\"24px\">\n",
              "    <path d=\"M0 0h24v24H0V0z\" fill=\"none\"/>\n",
              "    <path d=\"M18.56 5.44l.94 2.06.94-2.06 2.06-.94-2.06-.94-.94-2.06-.94 2.06-2.06.94zm-11 1L8.5 8.5l.94-2.06 2.06-.94-2.06-.94L8.5 2.5l-.94 2.06-2.06.94zm10 10l.94 2.06.94-2.06 2.06-.94-2.06-.94-.94-2.06-.94 2.06-2.06.94z\"/><path d=\"M17.41 7.96l-1.37-1.37c-.4-.4-.92-.59-1.43-.59-.52 0-1.04.2-1.43.59L10.3 9.45l-7.72 7.72c-.78.78-.78 2.05 0 2.83L4 21.41c.39.39.9.59 1.41.59.51 0 1.02-.2 1.41-.59l7.78-7.78 2.81-2.81c.8-.78.8-2.07 0-2.86zM5.41 20L4 18.59l7.72-7.72 1.47 1.35L5.41 20z\"/>\n",
              "  </svg>\n",
              "      </button>\n",
              "      \n",
              "  <style>\n",
              "    .colab-df-container {\n",
              "      display:flex;\n",
              "      flex-wrap:wrap;\n",
              "      gap: 12px;\n",
              "    }\n",
              "\n",
              "    .colab-df-convert {\n",
              "      background-color: #E8F0FE;\n",
              "      border: none;\n",
              "      border-radius: 50%;\n",
              "      cursor: pointer;\n",
              "      display: none;\n",
              "      fill: #1967D2;\n",
              "      height: 32px;\n",
              "      padding: 0 0 0 0;\n",
              "      width: 32px;\n",
              "    }\n",
              "\n",
              "    .colab-df-convert:hover {\n",
              "      background-color: #E2EBFA;\n",
              "      box-shadow: 0px 1px 2px rgba(60, 64, 67, 0.3), 0px 1px 3px 1px rgba(60, 64, 67, 0.15);\n",
              "      fill: #174EA6;\n",
              "    }\n",
              "\n",
              "    [theme=dark] .colab-df-convert {\n",
              "      background-color: #3B4455;\n",
              "      fill: #D2E3FC;\n",
              "    }\n",
              "\n",
              "    [theme=dark] .colab-df-convert:hover {\n",
              "      background-color: #434B5C;\n",
              "      box-shadow: 0px 1px 3px 1px rgba(0, 0, 0, 0.15);\n",
              "      filter: drop-shadow(0px 1px 2px rgba(0, 0, 0, 0.3));\n",
              "      fill: #FFFFFF;\n",
              "    }\n",
              "  </style>\n",
              "\n",
              "      <script>\n",
              "        const buttonEl =\n",
              "          document.querySelector('#df-d991f093-28de-43c7-ad39-c119dc1a1a1b button.colab-df-convert');\n",
              "        buttonEl.style.display =\n",
              "          google.colab.kernel.accessAllowed ? 'block' : 'none';\n",
              "\n",
              "        async function convertToInteractive(key) {\n",
              "          const element = document.querySelector('#df-d991f093-28de-43c7-ad39-c119dc1a1a1b');\n",
              "          const dataTable =\n",
              "            await google.colab.kernel.invokeFunction('convertToInteractive',\n",
              "                                                     [key], {});\n",
              "          if (!dataTable) return;\n",
              "\n",
              "          const docLinkHtml = 'Like what you see? Visit the ' +\n",
              "            '<a target=\"_blank\" href=https://colab.research.google.com/notebooks/data_table.ipynb>data table notebook</a>'\n",
              "            + ' to learn more about interactive tables.';\n",
              "          element.innerHTML = '';\n",
              "          dataTable['output_type'] = 'display_data';\n",
              "          await google.colab.output.renderOutput(dataTable, element);\n",
              "          const docLink = document.createElement('div');\n",
              "          docLink.innerHTML = docLinkHtml;\n",
              "          element.appendChild(docLink);\n",
              "        }\n",
              "      </script>\n",
              "    </div>\n",
              "  </div>\n",
              "  "
            ]
          },
          "metadata": {},
          "execution_count": 12
        }
      ]
    },
    {
      "cell_type": "markdown",
      "source": [
        "Unem-se os dois dataframes:"
      ],
      "metadata": {
        "id": "jkJvb1fwm7zw"
      }
    },
    {
      "cell_type": "code",
      "source": [
        "# a variável contendo os dados do AirBNB é subscrita:\n",
        "\n",
        "air_bnb = pd.concat([categorical_dummies, airbnb], axis= 1)"
      ],
      "metadata": {
        "id": "cpl3uiQVnA_-"
      },
      "execution_count": 13,
      "outputs": []
    },
    {
      "cell_type": "code",
      "source": [
        "air_bnb.head()"
      ],
      "metadata": {
        "colab": {
          "base_uri": "https://localhost:8080/",
          "height": 288
        },
        "id": "5sY1Xorkn5tC",
        "outputId": "9f97ce5e-b183-4ece-d98f-5d18cc936206"
      },
      "execution_count": 14,
      "outputs": [
        {
          "output_type": "execute_result",
          "data": {
            "text/plain": [
              "   Boroughs_Bronx  Boroughs_Brooklyn  Boroughs_Manhattan  Boroughs_Queens  \\\n",
              "0               1                  0                   0                0   \n",
              "1               1                  0                   0                0   \n",
              "2               1                  0                   0                0   \n",
              "3               1                  0                   0                0   \n",
              "4               1                  0                   0                0   \n",
              "\n",
              "   Boroughs_Staten Island  Prop_Type_EntireHome  Prop_Type_PrivateRoom  \\\n",
              "0                       0                     0                      1   \n",
              "1                       0                     0                      1   \n",
              "2                       0                     0                      1   \n",
              "3                       0                     0                      1   \n",
              "4                       0                     1                      0   \n",
              "\n",
              "   Prop_Type_SharedRoom Boroughs  Latitude  Longitude    Prop_Type  \\\n",
              "0                     0    Bronx  40.80011  -73.91330  PrivateRoom   \n",
              "1                     0    Bronx  40.80024  -73.91422  PrivateRoom   \n",
              "2                     0    Bronx  40.80074  -73.91574  PrivateRoom   \n",
              "3                     0    Bronx  40.80091  -73.91449  PrivateRoom   \n",
              "4                     0    Bronx  40.80143  -73.91353   EntireHome   \n",
              "\n",
              "   Min_Nights  Host_Listing_Cnt  Days_Available  Review_Cnt  Reviews30d  Price  \n",
              "0        21.0               2.0             291          19        0.27   60.0  \n",
              "1         3.0               1.0               0          59        2.93   49.0  \n",
              "2         3.0               1.0             354           3        0.87   50.0  \n",
              "3        21.0               2.0             117          18        0.36   71.0  \n",
              "4         2.0               3.0               0          12        3.50  115.0  "
            ],
            "text/html": [
              "\n",
              "  <div id=\"df-76a7bd74-1533-46cb-969f-65cb7768db0d\">\n",
              "    <div class=\"colab-df-container\">\n",
              "      <div>\n",
              "<style scoped>\n",
              "    .dataframe tbody tr th:only-of-type {\n",
              "        vertical-align: middle;\n",
              "    }\n",
              "\n",
              "    .dataframe tbody tr th {\n",
              "        vertical-align: top;\n",
              "    }\n",
              "\n",
              "    .dataframe thead th {\n",
              "        text-align: right;\n",
              "    }\n",
              "</style>\n",
              "<table border=\"1\" class=\"dataframe\">\n",
              "  <thead>\n",
              "    <tr style=\"text-align: right;\">\n",
              "      <th></th>\n",
              "      <th>Boroughs_Bronx</th>\n",
              "      <th>Boroughs_Brooklyn</th>\n",
              "      <th>Boroughs_Manhattan</th>\n",
              "      <th>Boroughs_Queens</th>\n",
              "      <th>Boroughs_Staten Island</th>\n",
              "      <th>Prop_Type_EntireHome</th>\n",
              "      <th>Prop_Type_PrivateRoom</th>\n",
              "      <th>Prop_Type_SharedRoom</th>\n",
              "      <th>Boroughs</th>\n",
              "      <th>Latitude</th>\n",
              "      <th>Longitude</th>\n",
              "      <th>Prop_Type</th>\n",
              "      <th>Min_Nights</th>\n",
              "      <th>Host_Listing_Cnt</th>\n",
              "      <th>Days_Available</th>\n",
              "      <th>Review_Cnt</th>\n",
              "      <th>Reviews30d</th>\n",
              "      <th>Price</th>\n",
              "    </tr>\n",
              "  </thead>\n",
              "  <tbody>\n",
              "    <tr>\n",
              "      <th>0</th>\n",
              "      <td>1</td>\n",
              "      <td>0</td>\n",
              "      <td>0</td>\n",
              "      <td>0</td>\n",
              "      <td>0</td>\n",
              "      <td>0</td>\n",
              "      <td>1</td>\n",
              "      <td>0</td>\n",
              "      <td>Bronx</td>\n",
              "      <td>40.80011</td>\n",
              "      <td>-73.91330</td>\n",
              "      <td>PrivateRoom</td>\n",
              "      <td>21.0</td>\n",
              "      <td>2.0</td>\n",
              "      <td>291</td>\n",
              "      <td>19</td>\n",
              "      <td>0.27</td>\n",
              "      <td>60.0</td>\n",
              "    </tr>\n",
              "    <tr>\n",
              "      <th>1</th>\n",
              "      <td>1</td>\n",
              "      <td>0</td>\n",
              "      <td>0</td>\n",
              "      <td>0</td>\n",
              "      <td>0</td>\n",
              "      <td>0</td>\n",
              "      <td>1</td>\n",
              "      <td>0</td>\n",
              "      <td>Bronx</td>\n",
              "      <td>40.80024</td>\n",
              "      <td>-73.91422</td>\n",
              "      <td>PrivateRoom</td>\n",
              "      <td>3.0</td>\n",
              "      <td>1.0</td>\n",
              "      <td>0</td>\n",
              "      <td>59</td>\n",
              "      <td>2.93</td>\n",
              "      <td>49.0</td>\n",
              "    </tr>\n",
              "    <tr>\n",
              "      <th>2</th>\n",
              "      <td>1</td>\n",
              "      <td>0</td>\n",
              "      <td>0</td>\n",
              "      <td>0</td>\n",
              "      <td>0</td>\n",
              "      <td>0</td>\n",
              "      <td>1</td>\n",
              "      <td>0</td>\n",
              "      <td>Bronx</td>\n",
              "      <td>40.80074</td>\n",
              "      <td>-73.91574</td>\n",
              "      <td>PrivateRoom</td>\n",
              "      <td>3.0</td>\n",
              "      <td>1.0</td>\n",
              "      <td>354</td>\n",
              "      <td>3</td>\n",
              "      <td>0.87</td>\n",
              "      <td>50.0</td>\n",
              "    </tr>\n",
              "    <tr>\n",
              "      <th>3</th>\n",
              "      <td>1</td>\n",
              "      <td>0</td>\n",
              "      <td>0</td>\n",
              "      <td>0</td>\n",
              "      <td>0</td>\n",
              "      <td>0</td>\n",
              "      <td>1</td>\n",
              "      <td>0</td>\n",
              "      <td>Bronx</td>\n",
              "      <td>40.80091</td>\n",
              "      <td>-73.91449</td>\n",
              "      <td>PrivateRoom</td>\n",
              "      <td>21.0</td>\n",
              "      <td>2.0</td>\n",
              "      <td>117</td>\n",
              "      <td>18</td>\n",
              "      <td>0.36</td>\n",
              "      <td>71.0</td>\n",
              "    </tr>\n",
              "    <tr>\n",
              "      <th>4</th>\n",
              "      <td>1</td>\n",
              "      <td>0</td>\n",
              "      <td>0</td>\n",
              "      <td>0</td>\n",
              "      <td>0</td>\n",
              "      <td>1</td>\n",
              "      <td>0</td>\n",
              "      <td>0</td>\n",
              "      <td>Bronx</td>\n",
              "      <td>40.80143</td>\n",
              "      <td>-73.91353</td>\n",
              "      <td>EntireHome</td>\n",
              "      <td>2.0</td>\n",
              "      <td>3.0</td>\n",
              "      <td>0</td>\n",
              "      <td>12</td>\n",
              "      <td>3.50</td>\n",
              "      <td>115.0</td>\n",
              "    </tr>\n",
              "  </tbody>\n",
              "</table>\n",
              "</div>\n",
              "      <button class=\"colab-df-convert\" onclick=\"convertToInteractive('df-76a7bd74-1533-46cb-969f-65cb7768db0d')\"\n",
              "              title=\"Convert this dataframe to an interactive table.\"\n",
              "              style=\"display:none;\">\n",
              "        \n",
              "  <svg xmlns=\"http://www.w3.org/2000/svg\" height=\"24px\"viewBox=\"0 0 24 24\"\n",
              "       width=\"24px\">\n",
              "    <path d=\"M0 0h24v24H0V0z\" fill=\"none\"/>\n",
              "    <path d=\"M18.56 5.44l.94 2.06.94-2.06 2.06-.94-2.06-.94-.94-2.06-.94 2.06-2.06.94zm-11 1L8.5 8.5l.94-2.06 2.06-.94-2.06-.94L8.5 2.5l-.94 2.06-2.06.94zm10 10l.94 2.06.94-2.06 2.06-.94-2.06-.94-.94-2.06-.94 2.06-2.06.94z\"/><path d=\"M17.41 7.96l-1.37-1.37c-.4-.4-.92-.59-1.43-.59-.52 0-1.04.2-1.43.59L10.3 9.45l-7.72 7.72c-.78.78-.78 2.05 0 2.83L4 21.41c.39.39.9.59 1.41.59.51 0 1.02-.2 1.41-.59l7.78-7.78 2.81-2.81c.8-.78.8-2.07 0-2.86zM5.41 20L4 18.59l7.72-7.72 1.47 1.35L5.41 20z\"/>\n",
              "  </svg>\n",
              "      </button>\n",
              "      \n",
              "  <style>\n",
              "    .colab-df-container {\n",
              "      display:flex;\n",
              "      flex-wrap:wrap;\n",
              "      gap: 12px;\n",
              "    }\n",
              "\n",
              "    .colab-df-convert {\n",
              "      background-color: #E8F0FE;\n",
              "      border: none;\n",
              "      border-radius: 50%;\n",
              "      cursor: pointer;\n",
              "      display: none;\n",
              "      fill: #1967D2;\n",
              "      height: 32px;\n",
              "      padding: 0 0 0 0;\n",
              "      width: 32px;\n",
              "    }\n",
              "\n",
              "    .colab-df-convert:hover {\n",
              "      background-color: #E2EBFA;\n",
              "      box-shadow: 0px 1px 2px rgba(60, 64, 67, 0.3), 0px 1px 3px 1px rgba(60, 64, 67, 0.15);\n",
              "      fill: #174EA6;\n",
              "    }\n",
              "\n",
              "    [theme=dark] .colab-df-convert {\n",
              "      background-color: #3B4455;\n",
              "      fill: #D2E3FC;\n",
              "    }\n",
              "\n",
              "    [theme=dark] .colab-df-convert:hover {\n",
              "      background-color: #434B5C;\n",
              "      box-shadow: 0px 1px 3px 1px rgba(0, 0, 0, 0.15);\n",
              "      filter: drop-shadow(0px 1px 2px rgba(0, 0, 0, 0.3));\n",
              "      fill: #FFFFFF;\n",
              "    }\n",
              "  </style>\n",
              "\n",
              "      <script>\n",
              "        const buttonEl =\n",
              "          document.querySelector('#df-76a7bd74-1533-46cb-969f-65cb7768db0d button.colab-df-convert');\n",
              "        buttonEl.style.display =\n",
              "          google.colab.kernel.accessAllowed ? 'block' : 'none';\n",
              "\n",
              "        async function convertToInteractive(key) {\n",
              "          const element = document.querySelector('#df-76a7bd74-1533-46cb-969f-65cb7768db0d');\n",
              "          const dataTable =\n",
              "            await google.colab.kernel.invokeFunction('convertToInteractive',\n",
              "                                                     [key], {});\n",
              "          if (!dataTable) return;\n",
              "\n",
              "          const docLinkHtml = 'Like what you see? Visit the ' +\n",
              "            '<a target=\"_blank\" href=https://colab.research.google.com/notebooks/data_table.ipynb>data table notebook</a>'\n",
              "            + ' to learn more about interactive tables.';\n",
              "          element.innerHTML = '';\n",
              "          dataTable['output_type'] = 'display_data';\n",
              "          await google.colab.output.renderOutput(dataTable, element);\n",
              "          const docLink = document.createElement('div');\n",
              "          docLink.innerHTML = docLinkHtml;\n",
              "          element.appendChild(docLink);\n",
              "        }\n",
              "      </script>\n",
              "    </div>\n",
              "  </div>\n",
              "  "
            ]
          },
          "metadata": {},
          "execution_count": 14
        }
      ]
    },
    {
      "cell_type": "markdown",
      "source": [
        "As colunas **Boroughs** e **Prop_Type** originais são removidas do dataframe, além das colunas de **Latitude** e **Longitude**."
      ],
      "metadata": {
        "id": "3mQcVOCwoLUO"
      }
    },
    {
      "cell_type": "code",
      "source": [
        "# air_bnb.drop(['Boroughs', 'Prop_Type', 'Latitude', 'Longitude'], axis= 1, inplace= True)\n",
        "air_bnb.drop(['Boroughs', 'Prop_Type'], axis= 1, inplace= True)"
      ],
      "metadata": {
        "id": "Co-VBcMHoVaS"
      },
      "execution_count": 15,
      "outputs": []
    },
    {
      "cell_type": "markdown",
      "source": [
        "# Análise de correlação"
      ],
      "metadata": {
        "id": "0vG3elVHj19P"
      }
    },
    {
      "cell_type": "code",
      "source": [
        "air_bnb.corr()"
      ],
      "metadata": {
        "colab": {
          "base_uri": "https://localhost:8080/",
          "height": 632
        },
        "id": "W2VFkM_mj4Ax",
        "outputId": "9eeed86d-2cb0-490e-acad-a9e7ae813680"
      },
      "execution_count": 16,
      "outputs": [
        {
          "output_type": "execute_result",
          "data": {
            "text/plain": [
              "                        Boroughs_Bronx  Boroughs_Brooklyn  Boroughs_Manhattan  \\\n",
              "Boroughs_Bronx                1.000000          -0.133473           -0.131015   \n",
              "Boroughs_Brooklyn            -0.133473           1.000000           -0.734807   \n",
              "Boroughs_Manhattan           -0.131015          -0.734807            1.000000   \n",
              "Boroughs_Queens              -0.057250          -0.321090           -0.315175   \n",
              "Boroughs_Staten Island       -0.014332          -0.080381           -0.078900   \n",
              "Prop_Type_EntireHome         -0.053287          -0.037237            0.122378   \n",
              "Prop_Type_PrivateRoom         0.042474           0.045771           -0.122464   \n",
              "Prop_Type_SharedRoom          0.037320          -0.028757           -0.000778   \n",
              "Latitude                      0.335282          -0.672552            0.597610   \n",
              "Longitude                     0.217558          -0.012797           -0.413461   \n",
              "Min_Nights                   -0.030946          -0.041289            0.088125   \n",
              "Host_Listing_Cnt             -0.014473          -0.080360            0.097128   \n",
              "Days_Available                0.071283          -0.056271           -0.049467   \n",
              "Review_Cnt                    0.009990           0.000181           -0.031302   \n",
              "Reviews30d                    0.040278          -0.040126           -0.065982   \n",
              "Price                        -0.046793          -0.083735            0.158574   \n",
              "\n",
              "                        Boroughs_Queens  Boroughs_Staten Island  \\\n",
              "Boroughs_Bronx                -0.057250               -0.014332   \n",
              "Boroughs_Brooklyn             -0.321090               -0.080381   \n",
              "Boroughs_Manhattan            -0.315175               -0.078900   \n",
              "Boroughs_Queens                1.000000               -0.034477   \n",
              "Boroughs_Staten Island        -0.034477                1.000000   \n",
              "Prop_Type_EntireHome          -0.101771               -0.007933   \n",
              "Prop_Type_PrivateRoom          0.093758                0.008618   \n",
              "Prop_Type_SharedRoom           0.028200               -0.002268   \n",
              "Latitude                       0.016509               -0.195252   \n",
              "Longitude                      0.629884               -0.302985   \n",
              "Min_Nights                    -0.052819               -0.012591   \n",
              "Host_Listing_Cnt              -0.016458               -0.006635   \n",
              "Days_Available                 0.107925                0.068460   \n",
              "Review_Cnt                     0.038217                0.015022   \n",
              "Reviews30d                     0.133921                0.028858   \n",
              "Price                         -0.084382               -0.024241   \n",
              "\n",
              "                        Prop_Type_EntireHome  Prop_Type_PrivateRoom  \\\n",
              "Boroughs_Bronx                     -0.053287               0.042474   \n",
              "Boroughs_Brooklyn                  -0.037237               0.045771   \n",
              "Boroughs_Manhattan                  0.122378              -0.122464   \n",
              "Boroughs_Queens                    -0.101771               0.093758   \n",
              "Boroughs_Staten Island             -0.007933               0.008618   \n",
              "Prop_Type_EntireHome                1.000000              -0.957068   \n",
              "Prop_Type_PrivateRoom              -0.957068               1.000000   \n",
              "Prop_Type_SharedRoom               -0.155070              -0.137946   \n",
              "Latitude                           -0.027632               0.022597   \n",
              "Longitude                          -0.168100               0.161342   \n",
              "Min_Nights                          0.104950              -0.099936   \n",
              "Host_Listing_Cnt                    0.031805              -0.041537   \n",
              "Days_Available                     -0.033653               0.014580   \n",
              "Review_Cnt                         -0.015065               0.020725   \n",
              "Reviews30d                         -0.040839               0.037728   \n",
              "Price                               0.281882              -0.265290   \n",
              "\n",
              "                        Prop_Type_SharedRoom  Latitude  Longitude  Min_Nights  \\\n",
              "Boroughs_Bronx                      0.037320  0.335282   0.217558   -0.030946   \n",
              "Boroughs_Brooklyn                  -0.028757 -0.672552  -0.012797   -0.041289   \n",
              "Boroughs_Manhattan                 -0.000778  0.597610  -0.413461    0.088125   \n",
              "Boroughs_Queens                     0.028200  0.016509   0.629884   -0.052819   \n",
              "Boroughs_Staten Island             -0.002268 -0.195252  -0.302985   -0.012591   \n",
              "Prop_Type_EntireHome               -0.155070 -0.027632  -0.168100    0.104950   \n",
              "Prop_Type_PrivateRoom              -0.137946  0.022597   0.161342   -0.099936   \n",
              "Prop_Type_SharedRoom                1.000000  0.017403   0.024502   -0.018005   \n",
              "Latitude                            0.017403  1.000000   0.085304    0.036295   \n",
              "Longitude                           0.024502  0.085304   1.000000   -0.080927   \n",
              "Min_Nights                         -0.018005  0.036295  -0.080927    1.000000   \n",
              "Host_Listing_Cnt                    0.032888  0.042976  -0.037452    0.290019   \n",
              "Days_Available                      0.065296 -0.020068   0.112270    0.145113   \n",
              "Review_Cnt                         -0.019160 -0.007500   0.051610   -0.103869   \n",
              "Reviews30d                          0.010958 -0.018449   0.159286   -0.174619   \n",
              "Price                              -0.059014  0.030502  -0.148285    0.039057   \n",
              "\n",
              "                        Host_Listing_Cnt  Days_Available  Review_Cnt  \\\n",
              "Boroughs_Bronx                 -0.014473        0.071283    0.009990   \n",
              "Boroughs_Brooklyn              -0.080360       -0.056271    0.000181   \n",
              "Boroughs_Manhattan              0.097128       -0.049467   -0.031302   \n",
              "Boroughs_Queens                -0.016458        0.107925    0.038217   \n",
              "Boroughs_Staten Island         -0.006635        0.068460    0.015022   \n",
              "Prop_Type_EntireHome            0.031805       -0.033653   -0.015065   \n",
              "Prop_Type_PrivateRoom          -0.041537        0.014580    0.020725   \n",
              "Prop_Type_SharedRoom            0.032888        0.065296   -0.019160   \n",
              "Latitude                        0.042976       -0.020068   -0.007500   \n",
              "Longitude                      -0.037452        0.112270    0.051610   \n",
              "Min_Nights                      0.290019        0.145113   -0.103869   \n",
              "Host_Listing_Cnt                1.000000        0.243086   -0.057381   \n",
              "Days_Available                  0.243086        1.000000    0.211686   \n",
              "Review_Cnt                     -0.057381        0.211686    1.000000   \n",
              "Reviews30d                     -0.060093        0.187735    0.551385   \n",
              "Price                           0.009522        0.063643   -0.031455   \n",
              "\n",
              "                        Reviews30d     Price  \n",
              "Boroughs_Bronx            0.040278 -0.046793  \n",
              "Boroughs_Brooklyn        -0.040126 -0.083735  \n",
              "Boroughs_Manhattan       -0.065982  0.158574  \n",
              "Boroughs_Queens           0.133921 -0.084382  \n",
              "Boroughs_Staten Island    0.028858 -0.024241  \n",
              "Prop_Type_EntireHome     -0.040839  0.281882  \n",
              "Prop_Type_PrivateRoom     0.037728 -0.265290  \n",
              "Prop_Type_SharedRoom      0.010958 -0.059014  \n",
              "Latitude                 -0.018449  0.030502  \n",
              "Longitude                 0.159286 -0.148285  \n",
              "Min_Nights               -0.174619  0.039057  \n",
              "Host_Listing_Cnt         -0.060093  0.009522  \n",
              "Days_Available            0.187735  0.063643  \n",
              "Review_Cnt                0.551385 -0.031455  \n",
              "Reviews30d                1.000000 -0.033185  \n",
              "Price                    -0.033185  1.000000  "
            ],
            "text/html": [
              "\n",
              "  <div id=\"df-ede8bb70-932a-46bc-97f8-5b739db27f27\">\n",
              "    <div class=\"colab-df-container\">\n",
              "      <div>\n",
              "<style scoped>\n",
              "    .dataframe tbody tr th:only-of-type {\n",
              "        vertical-align: middle;\n",
              "    }\n",
              "\n",
              "    .dataframe tbody tr th {\n",
              "        vertical-align: top;\n",
              "    }\n",
              "\n",
              "    .dataframe thead th {\n",
              "        text-align: right;\n",
              "    }\n",
              "</style>\n",
              "<table border=\"1\" class=\"dataframe\">\n",
              "  <thead>\n",
              "    <tr style=\"text-align: right;\">\n",
              "      <th></th>\n",
              "      <th>Boroughs_Bronx</th>\n",
              "      <th>Boroughs_Brooklyn</th>\n",
              "      <th>Boroughs_Manhattan</th>\n",
              "      <th>Boroughs_Queens</th>\n",
              "      <th>Boroughs_Staten Island</th>\n",
              "      <th>Prop_Type_EntireHome</th>\n",
              "      <th>Prop_Type_PrivateRoom</th>\n",
              "      <th>Prop_Type_SharedRoom</th>\n",
              "      <th>Latitude</th>\n",
              "      <th>Longitude</th>\n",
              "      <th>Min_Nights</th>\n",
              "      <th>Host_Listing_Cnt</th>\n",
              "      <th>Days_Available</th>\n",
              "      <th>Review_Cnt</th>\n",
              "      <th>Reviews30d</th>\n",
              "      <th>Price</th>\n",
              "    </tr>\n",
              "  </thead>\n",
              "  <tbody>\n",
              "    <tr>\n",
              "      <th>Boroughs_Bronx</th>\n",
              "      <td>1.000000</td>\n",
              "      <td>-0.133473</td>\n",
              "      <td>-0.131015</td>\n",
              "      <td>-0.057250</td>\n",
              "      <td>-0.014332</td>\n",
              "      <td>-0.053287</td>\n",
              "      <td>0.042474</td>\n",
              "      <td>0.037320</td>\n",
              "      <td>0.335282</td>\n",
              "      <td>0.217558</td>\n",
              "      <td>-0.030946</td>\n",
              "      <td>-0.014473</td>\n",
              "      <td>0.071283</td>\n",
              "      <td>0.009990</td>\n",
              "      <td>0.040278</td>\n",
              "      <td>-0.046793</td>\n",
              "    </tr>\n",
              "    <tr>\n",
              "      <th>Boroughs_Brooklyn</th>\n",
              "      <td>-0.133473</td>\n",
              "      <td>1.000000</td>\n",
              "      <td>-0.734807</td>\n",
              "      <td>-0.321090</td>\n",
              "      <td>-0.080381</td>\n",
              "      <td>-0.037237</td>\n",
              "      <td>0.045771</td>\n",
              "      <td>-0.028757</td>\n",
              "      <td>-0.672552</td>\n",
              "      <td>-0.012797</td>\n",
              "      <td>-0.041289</td>\n",
              "      <td>-0.080360</td>\n",
              "      <td>-0.056271</td>\n",
              "      <td>0.000181</td>\n",
              "      <td>-0.040126</td>\n",
              "      <td>-0.083735</td>\n",
              "    </tr>\n",
              "    <tr>\n",
              "      <th>Boroughs_Manhattan</th>\n",
              "      <td>-0.131015</td>\n",
              "      <td>-0.734807</td>\n",
              "      <td>1.000000</td>\n",
              "      <td>-0.315175</td>\n",
              "      <td>-0.078900</td>\n",
              "      <td>0.122378</td>\n",
              "      <td>-0.122464</td>\n",
              "      <td>-0.000778</td>\n",
              "      <td>0.597610</td>\n",
              "      <td>-0.413461</td>\n",
              "      <td>0.088125</td>\n",
              "      <td>0.097128</td>\n",
              "      <td>-0.049467</td>\n",
              "      <td>-0.031302</td>\n",
              "      <td>-0.065982</td>\n",
              "      <td>0.158574</td>\n",
              "    </tr>\n",
              "    <tr>\n",
              "      <th>Boroughs_Queens</th>\n",
              "      <td>-0.057250</td>\n",
              "      <td>-0.321090</td>\n",
              "      <td>-0.315175</td>\n",
              "      <td>1.000000</td>\n",
              "      <td>-0.034477</td>\n",
              "      <td>-0.101771</td>\n",
              "      <td>0.093758</td>\n",
              "      <td>0.028200</td>\n",
              "      <td>0.016509</td>\n",
              "      <td>0.629884</td>\n",
              "      <td>-0.052819</td>\n",
              "      <td>-0.016458</td>\n",
              "      <td>0.107925</td>\n",
              "      <td>0.038217</td>\n",
              "      <td>0.133921</td>\n",
              "      <td>-0.084382</td>\n",
              "    </tr>\n",
              "    <tr>\n",
              "      <th>Boroughs_Staten Island</th>\n",
              "      <td>-0.014332</td>\n",
              "      <td>-0.080381</td>\n",
              "      <td>-0.078900</td>\n",
              "      <td>-0.034477</td>\n",
              "      <td>1.000000</td>\n",
              "      <td>-0.007933</td>\n",
              "      <td>0.008618</td>\n",
              "      <td>-0.002268</td>\n",
              "      <td>-0.195252</td>\n",
              "      <td>-0.302985</td>\n",
              "      <td>-0.012591</td>\n",
              "      <td>-0.006635</td>\n",
              "      <td>0.068460</td>\n",
              "      <td>0.015022</td>\n",
              "      <td>0.028858</td>\n",
              "      <td>-0.024241</td>\n",
              "    </tr>\n",
              "    <tr>\n",
              "      <th>Prop_Type_EntireHome</th>\n",
              "      <td>-0.053287</td>\n",
              "      <td>-0.037237</td>\n",
              "      <td>0.122378</td>\n",
              "      <td>-0.101771</td>\n",
              "      <td>-0.007933</td>\n",
              "      <td>1.000000</td>\n",
              "      <td>-0.957068</td>\n",
              "      <td>-0.155070</td>\n",
              "      <td>-0.027632</td>\n",
              "      <td>-0.168100</td>\n",
              "      <td>0.104950</td>\n",
              "      <td>0.031805</td>\n",
              "      <td>-0.033653</td>\n",
              "      <td>-0.015065</td>\n",
              "      <td>-0.040839</td>\n",
              "      <td>0.281882</td>\n",
              "    </tr>\n",
              "    <tr>\n",
              "      <th>Prop_Type_PrivateRoom</th>\n",
              "      <td>0.042474</td>\n",
              "      <td>0.045771</td>\n",
              "      <td>-0.122464</td>\n",
              "      <td>0.093758</td>\n",
              "      <td>0.008618</td>\n",
              "      <td>-0.957068</td>\n",
              "      <td>1.000000</td>\n",
              "      <td>-0.137946</td>\n",
              "      <td>0.022597</td>\n",
              "      <td>0.161342</td>\n",
              "      <td>-0.099936</td>\n",
              "      <td>-0.041537</td>\n",
              "      <td>0.014580</td>\n",
              "      <td>0.020725</td>\n",
              "      <td>0.037728</td>\n",
              "      <td>-0.265290</td>\n",
              "    </tr>\n",
              "    <tr>\n",
              "      <th>Prop_Type_SharedRoom</th>\n",
              "      <td>0.037320</td>\n",
              "      <td>-0.028757</td>\n",
              "      <td>-0.000778</td>\n",
              "      <td>0.028200</td>\n",
              "      <td>-0.002268</td>\n",
              "      <td>-0.155070</td>\n",
              "      <td>-0.137946</td>\n",
              "      <td>1.000000</td>\n",
              "      <td>0.017403</td>\n",
              "      <td>0.024502</td>\n",
              "      <td>-0.018005</td>\n",
              "      <td>0.032888</td>\n",
              "      <td>0.065296</td>\n",
              "      <td>-0.019160</td>\n",
              "      <td>0.010958</td>\n",
              "      <td>-0.059014</td>\n",
              "    </tr>\n",
              "    <tr>\n",
              "      <th>Latitude</th>\n",
              "      <td>0.335282</td>\n",
              "      <td>-0.672552</td>\n",
              "      <td>0.597610</td>\n",
              "      <td>0.016509</td>\n",
              "      <td>-0.195252</td>\n",
              "      <td>-0.027632</td>\n",
              "      <td>0.022597</td>\n",
              "      <td>0.017403</td>\n",
              "      <td>1.000000</td>\n",
              "      <td>0.085304</td>\n",
              "      <td>0.036295</td>\n",
              "      <td>0.042976</td>\n",
              "      <td>-0.020068</td>\n",
              "      <td>-0.007500</td>\n",
              "      <td>-0.018449</td>\n",
              "      <td>0.030502</td>\n",
              "    </tr>\n",
              "    <tr>\n",
              "      <th>Longitude</th>\n",
              "      <td>0.217558</td>\n",
              "      <td>-0.012797</td>\n",
              "      <td>-0.413461</td>\n",
              "      <td>0.629884</td>\n",
              "      <td>-0.302985</td>\n",
              "      <td>-0.168100</td>\n",
              "      <td>0.161342</td>\n",
              "      <td>0.024502</td>\n",
              "      <td>0.085304</td>\n",
              "      <td>1.000000</td>\n",
              "      <td>-0.080927</td>\n",
              "      <td>-0.037452</td>\n",
              "      <td>0.112270</td>\n",
              "      <td>0.051610</td>\n",
              "      <td>0.159286</td>\n",
              "      <td>-0.148285</td>\n",
              "    </tr>\n",
              "    <tr>\n",
              "      <th>Min_Nights</th>\n",
              "      <td>-0.030946</td>\n",
              "      <td>-0.041289</td>\n",
              "      <td>0.088125</td>\n",
              "      <td>-0.052819</td>\n",
              "      <td>-0.012591</td>\n",
              "      <td>0.104950</td>\n",
              "      <td>-0.099936</td>\n",
              "      <td>-0.018005</td>\n",
              "      <td>0.036295</td>\n",
              "      <td>-0.080927</td>\n",
              "      <td>1.000000</td>\n",
              "      <td>0.290019</td>\n",
              "      <td>0.145113</td>\n",
              "      <td>-0.103869</td>\n",
              "      <td>-0.174619</td>\n",
              "      <td>0.039057</td>\n",
              "    </tr>\n",
              "    <tr>\n",
              "      <th>Host_Listing_Cnt</th>\n",
              "      <td>-0.014473</td>\n",
              "      <td>-0.080360</td>\n",
              "      <td>0.097128</td>\n",
              "      <td>-0.016458</td>\n",
              "      <td>-0.006635</td>\n",
              "      <td>0.031805</td>\n",
              "      <td>-0.041537</td>\n",
              "      <td>0.032888</td>\n",
              "      <td>0.042976</td>\n",
              "      <td>-0.037452</td>\n",
              "      <td>0.290019</td>\n",
              "      <td>1.000000</td>\n",
              "      <td>0.243086</td>\n",
              "      <td>-0.057381</td>\n",
              "      <td>-0.060093</td>\n",
              "      <td>0.009522</td>\n",
              "    </tr>\n",
              "    <tr>\n",
              "      <th>Days_Available</th>\n",
              "      <td>0.071283</td>\n",
              "      <td>-0.056271</td>\n",
              "      <td>-0.049467</td>\n",
              "      <td>0.107925</td>\n",
              "      <td>0.068460</td>\n",
              "      <td>-0.033653</td>\n",
              "      <td>0.014580</td>\n",
              "      <td>0.065296</td>\n",
              "      <td>-0.020068</td>\n",
              "      <td>0.112270</td>\n",
              "      <td>0.145113</td>\n",
              "      <td>0.243086</td>\n",
              "      <td>1.000000</td>\n",
              "      <td>0.211686</td>\n",
              "      <td>0.187735</td>\n",
              "      <td>0.063643</td>\n",
              "    </tr>\n",
              "    <tr>\n",
              "      <th>Review_Cnt</th>\n",
              "      <td>0.009990</td>\n",
              "      <td>0.000181</td>\n",
              "      <td>-0.031302</td>\n",
              "      <td>0.038217</td>\n",
              "      <td>0.015022</td>\n",
              "      <td>-0.015065</td>\n",
              "      <td>0.020725</td>\n",
              "      <td>-0.019160</td>\n",
              "      <td>-0.007500</td>\n",
              "      <td>0.051610</td>\n",
              "      <td>-0.103869</td>\n",
              "      <td>-0.057381</td>\n",
              "      <td>0.211686</td>\n",
              "      <td>1.000000</td>\n",
              "      <td>0.551385</td>\n",
              "      <td>-0.031455</td>\n",
              "    </tr>\n",
              "    <tr>\n",
              "      <th>Reviews30d</th>\n",
              "      <td>0.040278</td>\n",
              "      <td>-0.040126</td>\n",
              "      <td>-0.065982</td>\n",
              "      <td>0.133921</td>\n",
              "      <td>0.028858</td>\n",
              "      <td>-0.040839</td>\n",
              "      <td>0.037728</td>\n",
              "      <td>0.010958</td>\n",
              "      <td>-0.018449</td>\n",
              "      <td>0.159286</td>\n",
              "      <td>-0.174619</td>\n",
              "      <td>-0.060093</td>\n",
              "      <td>0.187735</td>\n",
              "      <td>0.551385</td>\n",
              "      <td>1.000000</td>\n",
              "      <td>-0.033185</td>\n",
              "    </tr>\n",
              "    <tr>\n",
              "      <th>Price</th>\n",
              "      <td>-0.046793</td>\n",
              "      <td>-0.083735</td>\n",
              "      <td>0.158574</td>\n",
              "      <td>-0.084382</td>\n",
              "      <td>-0.024241</td>\n",
              "      <td>0.281882</td>\n",
              "      <td>-0.265290</td>\n",
              "      <td>-0.059014</td>\n",
              "      <td>0.030502</td>\n",
              "      <td>-0.148285</td>\n",
              "      <td>0.039057</td>\n",
              "      <td>0.009522</td>\n",
              "      <td>0.063643</td>\n",
              "      <td>-0.031455</td>\n",
              "      <td>-0.033185</td>\n",
              "      <td>1.000000</td>\n",
              "    </tr>\n",
              "  </tbody>\n",
              "</table>\n",
              "</div>\n",
              "      <button class=\"colab-df-convert\" onclick=\"convertToInteractive('df-ede8bb70-932a-46bc-97f8-5b739db27f27')\"\n",
              "              title=\"Convert this dataframe to an interactive table.\"\n",
              "              style=\"display:none;\">\n",
              "        \n",
              "  <svg xmlns=\"http://www.w3.org/2000/svg\" height=\"24px\"viewBox=\"0 0 24 24\"\n",
              "       width=\"24px\">\n",
              "    <path d=\"M0 0h24v24H0V0z\" fill=\"none\"/>\n",
              "    <path d=\"M18.56 5.44l.94 2.06.94-2.06 2.06-.94-2.06-.94-.94-2.06-.94 2.06-2.06.94zm-11 1L8.5 8.5l.94-2.06 2.06-.94-2.06-.94L8.5 2.5l-.94 2.06-2.06.94zm10 10l.94 2.06.94-2.06 2.06-.94-2.06-.94-.94-2.06-.94 2.06-2.06.94z\"/><path d=\"M17.41 7.96l-1.37-1.37c-.4-.4-.92-.59-1.43-.59-.52 0-1.04.2-1.43.59L10.3 9.45l-7.72 7.72c-.78.78-.78 2.05 0 2.83L4 21.41c.39.39.9.59 1.41.59.51 0 1.02-.2 1.41-.59l7.78-7.78 2.81-2.81c.8-.78.8-2.07 0-2.86zM5.41 20L4 18.59l7.72-7.72 1.47 1.35L5.41 20z\"/>\n",
              "  </svg>\n",
              "      </button>\n",
              "      \n",
              "  <style>\n",
              "    .colab-df-container {\n",
              "      display:flex;\n",
              "      flex-wrap:wrap;\n",
              "      gap: 12px;\n",
              "    }\n",
              "\n",
              "    .colab-df-convert {\n",
              "      background-color: #E8F0FE;\n",
              "      border: none;\n",
              "      border-radius: 50%;\n",
              "      cursor: pointer;\n",
              "      display: none;\n",
              "      fill: #1967D2;\n",
              "      height: 32px;\n",
              "      padding: 0 0 0 0;\n",
              "      width: 32px;\n",
              "    }\n",
              "\n",
              "    .colab-df-convert:hover {\n",
              "      background-color: #E2EBFA;\n",
              "      box-shadow: 0px 1px 2px rgba(60, 64, 67, 0.3), 0px 1px 3px 1px rgba(60, 64, 67, 0.15);\n",
              "      fill: #174EA6;\n",
              "    }\n",
              "\n",
              "    [theme=dark] .colab-df-convert {\n",
              "      background-color: #3B4455;\n",
              "      fill: #D2E3FC;\n",
              "    }\n",
              "\n",
              "    [theme=dark] .colab-df-convert:hover {\n",
              "      background-color: #434B5C;\n",
              "      box-shadow: 0px 1px 3px 1px rgba(0, 0, 0, 0.15);\n",
              "      filter: drop-shadow(0px 1px 2px rgba(0, 0, 0, 0.3));\n",
              "      fill: #FFFFFF;\n",
              "    }\n",
              "  </style>\n",
              "\n",
              "      <script>\n",
              "        const buttonEl =\n",
              "          document.querySelector('#df-ede8bb70-932a-46bc-97f8-5b739db27f27 button.colab-df-convert');\n",
              "        buttonEl.style.display =\n",
              "          google.colab.kernel.accessAllowed ? 'block' : 'none';\n",
              "\n",
              "        async function convertToInteractive(key) {\n",
              "          const element = document.querySelector('#df-ede8bb70-932a-46bc-97f8-5b739db27f27');\n",
              "          const dataTable =\n",
              "            await google.colab.kernel.invokeFunction('convertToInteractive',\n",
              "                                                     [key], {});\n",
              "          if (!dataTable) return;\n",
              "\n",
              "          const docLinkHtml = 'Like what you see? Visit the ' +\n",
              "            '<a target=\"_blank\" href=https://colab.research.google.com/notebooks/data_table.ipynb>data table notebook</a>'\n",
              "            + ' to learn more about interactive tables.';\n",
              "          element.innerHTML = '';\n",
              "          dataTable['output_type'] = 'display_data';\n",
              "          await google.colab.output.renderOutput(dataTable, element);\n",
              "          const docLink = document.createElement('div');\n",
              "          docLink.innerHTML = docLinkHtml;\n",
              "          element.appendChild(docLink);\n",
              "        }\n",
              "      </script>\n",
              "    </div>\n",
              "  </div>\n",
              "  "
            ]
          },
          "metadata": {},
          "execution_count": 16
        }
      ]
    },
    {
      "cell_type": "code",
      "source": [
        "# cores do gráfico de calor:\n",
        "\n",
        "# colors = sns.color_palette('light:blue', as_cmap= True)"
      ],
      "metadata": {
        "id": "qWDWOu9Yphv0"
      },
      "execution_count": 17,
      "outputs": []
    },
    {
      "cell_type": "code",
      "source": [
        "plt.figure(figsize= (16, 12))\n",
        "ax = sns.heatmap(air_bnb.corr().round(2), annot= True, cmap= 'coolwarm')"
      ],
      "metadata": {
        "colab": {
          "base_uri": "https://localhost:8080/",
          "height": 828
        },
        "id": "rCvYTzaKjwcn",
        "outputId": "f4b19377-84c7-4546-beab-27abb3e0d25e"
      },
      "execution_count": 18,
      "outputs": [
        {
          "output_type": "display_data",
          "data": {
            "text/plain": [
              "<Figure size 1152x864 with 2 Axes>"
            ],
            "image/png": "[encoded data removed]"
          },
          "metadata": {}
        }
      ]
    },
    {
      "cell_type": "markdown",
      "source": [
        "# Análises gráficas"
      ],
      "metadata": {
        "id": "-tPfAkp1q4OV"
      }
    },
    {
      "cell_type": "markdown",
      "source": [
        "## Distribuição da variável Price"
      ],
      "metadata": {
        "id": "fUaWQf7RsBT3"
      }
    },
    {
      "cell_type": "code",
      "source": [
        "plt.figure(figsize= (15, 12))\n",
        "ax = sns.distplot(air_bnb['Price'], bins= 50)\n",
        "plt.show()"
      ],
      "metadata": {
        "colab": {
          "base_uri": "https://localhost:8080/",
          "height": 775
        },
        "id": "_bz-1pmRJM12",
        "outputId": "a67f7946-7ffb-4502-fa14-f835a2c4d924"
      },
      "execution_count": 19,
      "outputs": [
        {
          "output_type": "stream",
          "name": "stderr",
          "text": [
            "/usr/local/lib/python3.8/dist-packages/seaborn/distributions.py:2619: FutureWarning: `distplot` is a deprecated function and will be removed in a future version. Please adapt your code to use either `displot` (a figure-level function with similar flexibility) or `histplot` (an axes-level function for histograms).\n",
            "  warnings.warn(msg, FutureWarning)\n"
          ]
        },
        {
          "output_type": "display_data",
          "data": {
            "text/plain": [
              "<Figure size 1080x864 with 1 Axes>"
            ],
            "image/png": "[encoded data removed]"
          },
          "metadata": {}
        }
      ]
    },
    {
      "cell_type": "markdown",
      "source": [
        "## Pairplot da variável Price"
      ],
      "metadata": {
        "id": "-2D1vM-mK1V2"
      }
    },
    {
      "cell_type": "code",
      "source": [
        "ax = sns.pairplot(\n",
        "    data= air_bnb, y_vars= 'Price', \n",
        "    x_vars=['Min_Nights', 'Host_Listing_Cnt', 'Days_Available', 'Review_Cnt', 'Reviews30d'], \n",
        "    kind= 'reg',\n",
        "    plot_kws= {'line_kws': {'color': 'red'}}\n",
        ")"
      ],
      "metadata": {
        "colab": {
          "base_uri": "https://localhost:8080/",
          "height": 195
        },
        "id": "l8PRPdU_K3K8",
        "outputId": "0975db08-8ae0-44ab-bfc0-9884f88299ec"
      },
      "execution_count": 20,
      "outputs": [
        {
          "output_type": "display_data",
          "data": {
            "text/plain": [
              "<Figure size 900x180 with 5 Axes>"
            ],
            "image/png": "[encoded data removed]"
          },
          "metadata": {}
        }
      ]
    },
    {
      "cell_type": "markdown",
      "source": [
        "# Modelo de Regressão Linear"
      ],
      "metadata": {
        "id": "JifcfytAPhI6"
      }
    },
    {
      "cell_type": "code",
      "source": [
        "from sklearn.model_selection import train_test_split"
      ],
      "metadata": {
        "id": "NzwwC-ggLeCr"
      },
      "execution_count": 21,
      "outputs": []
    },
    {
      "cell_type": "markdown",
      "source": [
        "## Instanciando a variável dependente (y)"
      ],
      "metadata": {
        "id": "FIQrLrA3P4Ps"
      }
    },
    {
      "cell_type": "code",
      "source": [
        "y = air_bnb['Price']"
      ],
      "metadata": {
        "id": "de-tUucZP0OO"
      },
      "execution_count": 22,
      "outputs": []
    },
    {
      "cell_type": "markdown",
      "source": [
        "## Instanciando dataframe com as variáveis indepentes (X)"
      ],
      "metadata": {
        "id": "uz4Gp0xcQEoq"
      }
    },
    {
      "cell_type": "code",
      "source": [
        "air_bnb.columns"
      ],
      "metadata": {
        "colab": {
          "base_uri": "https://localhost:8080/"
        },
        "id": "LJc01yrkQNOu",
        "outputId": "584c237b-61aa-4888-b42f-ab8e668c90bc"
      },
      "execution_count": 23,
      "outputs": [
        {
          "output_type": "execute_result",
          "data": {
            "text/plain": [
              "Index(['Boroughs_Bronx', 'Boroughs_Brooklyn', 'Boroughs_Manhattan',\n",
              "       'Boroughs_Queens', 'Boroughs_Staten Island', 'Prop_Type_EntireHome',\n",
              "       'Prop_Type_PrivateRoom', 'Prop_Type_SharedRoom', 'Latitude',\n",
              "       'Longitude', 'Min_Nights', 'Host_Listing_Cnt', 'Days_Available',\n",
              "       'Review_Cnt', 'Reviews30d', 'Price'],\n",
              "      dtype='object')"
            ]
          },
          "metadata": {},
          "execution_count": 23
        }
      ]
    },
    {
      "cell_type": "code",
      "source": [
        "X = air_bnb[\n",
        "    [\n",
        "        'Boroughs_Bronx', 'Boroughs_Brooklyn', 'Boroughs_Manhattan',\n",
        "       'Boroughs_Queens', 'Boroughs_Staten Island', 'Prop_Type_EntireHome',\n",
        "       'Prop_Type_PrivateRoom', 'Prop_Type_SharedRoom', 'Min_Nights',\n",
        "       'Host_Listing_Cnt', 'Days_Available', 'Review_Cnt', 'Reviews30d'\n",
        "    ]\n",
        "]"
      ],
      "metadata": {
        "id": "hZzRJMJgP_3X"
      },
      "execution_count": 24,
      "outputs": []
    },
    {
      "cell_type": "markdown",
      "source": [
        "## Criando os dados de treino e teste"
      ],
      "metadata": {
        "id": "WtjOYrFiQcLN"
      }
    },
    {
      "cell_type": "code",
      "source": [
        "X_train, X_test, y_train, y_test = train_test_split(X, y, test_size= 0.3, random_state= 101)"
      ],
      "metadata": {
        "id": "5Lc-IF--QYJm"
      },
      "execution_count": 25,
      "outputs": []
    },
    {
      "cell_type": "markdown",
      "source": [
        "## Definindo o modelo"
      ],
      "metadata": {
        "id": "B6r0oAxgQ31W"
      }
    },
    {
      "cell_type": "code",
      "source": [
        "from sklearn.linear_model import LinearRegression\n",
        "from sklearn import metrics"
      ],
      "metadata": {
        "id": "pEoDMJoVQ1Fp"
      },
      "execution_count": 26,
      "outputs": []
    },
    {
      "cell_type": "markdown",
      "source": [
        "### Instanciando a classe LinearRegression()"
      ],
      "metadata": {
        "id": "pitcAPxnRT8R"
      }
    },
    {
      "cell_type": "code",
      "source": [
        "model = LinearRegression()"
      ],
      "metadata": {
        "id": "pgDAWz2_RgdN"
      },
      "execution_count": 27,
      "outputs": []
    },
    {
      "cell_type": "markdown",
      "source": [
        "### Estimação do modelo"
      ],
      "metadata": {
        "id": "PJNSA30sRlsd"
      }
    },
    {
      "cell_type": "code",
      "source": [
        "model.fit(X_train, y_train)"
      ],
      "metadata": {
        "colab": {
          "base_uri": "https://localhost:8080/"
        },
        "id": "Sk1oAHa-RRWn",
        "outputId": "820666e8-ac75-4e8a-b65d-87f20c8df60c"
      },
      "execution_count": 28,
      "outputs": [
        {
          "output_type": "execute_result",
          "data": {
            "text/plain": [
              "LinearRegression()"
            ]
          },
          "metadata": {},
          "execution_count": 28
        }
      ]
    },
    {
      "cell_type": "markdown",
      "source": [
        "### Obtendo o R² do modelo estimado de treino"
      ],
      "metadata": {
        "id": "FHjAgUM0Rrxs"
      }
    },
    {
      "cell_type": "code",
      "source": [
        "f'R²: {model.score(X_train, y_train).round(2)}'"
      ],
      "metadata": {
        "colab": {
          "base_uri": "https://localhost:8080/",
          "height": 35
        },
        "id": "zr9NDSHlRfdT",
        "outputId": "a3a0b007-1013-4c90-f5af-bd8e65f1c3e0"
      },
      "execution_count": 29,
      "outputs": [
        {
          "output_type": "execute_result",
          "data": {
            "text/plain": [
              "'R²: 0.1'"
            ],
            "application/vnd.google.colaboratory.intrinsic+json": {
              "type": "string"
            }
          },
          "metadata": {},
          "execution_count": 29
        }
      ]
    },
    {
      "cell_type": "markdown",
      "source": [
        "### Gerando previsões para os dados de teste"
      ],
      "metadata": {
        "id": "wqUvoL7vYDk-"
      }
    },
    {
      "cell_type": "code",
      "source": [
        "y_predict = model.predict(X_test)"
      ],
      "metadata": {
        "id": "ULxU2YvlR-Qd"
      },
      "execution_count": 30,
      "outputs": []
    },
    {
      "cell_type": "markdown",
      "source": [
        "### Obtendo o R² e RSME para as previsões do"
      ],
      "metadata": {
        "id": "MvgmVG3ZYMpJ"
      }
    },
    {
      "cell_type": "code",
      "source": [
        "f'R²: {metrics.r2_score(y_test, y_predict). round(2)}'"
      ],
      "metadata": {
        "colab": {
          "base_uri": "https://localhost:8080/",
          "height": 35
        },
        "id": "eRKuFSHRSlea",
        "outputId": "d5284b0b-f1a7-48c4-9aed-78e52f55438e"
      },
      "execution_count": 31,
      "outputs": [
        {
          "output_type": "execute_result",
          "data": {
            "text/plain": [
              "'R²: 0.13'"
            ],
            "application/vnd.google.colaboratory.intrinsic+json": {
              "type": "string"
            }
          },
          "metadata": {},
          "execution_count": 31
        }
      ]
    },
    {
      "cell_type": "code",
      "source": [
        "f'RSME: {np.sqrt(metrics.mean_squared_error(y_test, y_predict)).round(2)}'"
      ],
      "metadata": {
        "colab": {
          "base_uri": "https://localhost:8080/",
          "height": 35
        },
        "id": "4UoGcyJ8YfZM",
        "outputId": "9e08eadc-6aa0-47ec-dbd5-f92f61c2e55a"
      },
      "execution_count": 32,
      "outputs": [
        {
          "output_type": "execute_result",
          "data": {
            "text/plain": [
              "'RSME: 160.98'"
            ],
            "application/vnd.google.colaboratory.intrinsic+json": {
              "type": "string"
            }
          },
          "metadata": {},
          "execution_count": 32
        }
      ]
    },
    {
      "cell_type": "markdown",
      "source": [
        "# Coeficientes do modelo"
      ],
      "metadata": {
        "id": "V-LISxWFZkoA"
      }
    },
    {
      "cell_type": "code",
      "source": [
        "index= ['Intercept', 'Boroughs_Bronx', 'Boroughs_Brooklyn', 'Boroughs_Manhattan',\n",
        "       'Boroughs_Queens', 'Boroughs_Staten Island', 'Prop_Type_EntireHome',\n",
        "       'Prop_Type_PrivateRoom', 'Prop_Type_SharedRoom', 'Min_Nights',\n",
        "       'Host_Listing_Cnt', 'Days_Available', 'Review_Cnt', 'Reviews30d']"
      ],
      "metadata": {
        "id": "NE4Eja75au6I"
      },
      "execution_count": 33,
      "outputs": []
    },
    {
      "cell_type": "code",
      "source": [
        "coefs = pd.DataFrame(np.append(model.intercept_, model.coef_), index= index)\n",
        "coefs.columns = ['Parâmetros']\n",
        "coefs"
      ],
      "metadata": {
        "colab": {
          "base_uri": "https://localhost:8080/",
          "height": 488
        },
        "id": "C4cF0904ZmUQ",
        "outputId": "a24d5c23-1af3-4bad-f028-61187bdef25e"
      },
      "execution_count": 34,
      "outputs": [
        {
          "output_type": "execute_result",
          "data": {
            "text/plain": [
              "                        Parâmetros\n",
              "Intercept                78.389208\n",
              "Boroughs_Bronx          -24.143999\n",
              "Boroughs_Brooklyn        10.984824\n",
              "Boroughs_Manhattan       58.359391\n",
              "Boroughs_Queens         -11.208770\n",
              "Boroughs_Staten Island  -33.991445\n",
              "Prop_Type_EntireHome     78.867793\n",
              "Prop_Type_PrivateRoom   -25.041955\n",
              "Prop_Type_SharedRoom    -53.825838\n",
              "Min_Nights               -0.452884\n",
              "Host_Listing_Cnt         -0.847073\n",
              "Days_Available            0.166892\n",
              "Review_Cnt               -0.177645\n",
              "Reviews30d               -1.250845"
            ],
            "text/html": [
              "\n",
              "  <div id=\"df-85140eab-696e-4e5a-982a-4ae8bcfbfaf2\">\n",
              "    <div class=\"colab-df-container\">\n",
              "      <div>\n",
              "<style scoped>\n",
              "    .dataframe tbody tr th:only-of-type {\n",
              "        vertical-align: middle;\n",
              "    }\n",
              "\n",
              "    .dataframe tbody tr th {\n",
              "        vertical-align: top;\n",
              "    }\n",
              "\n",
              "    .dataframe thead th {\n",
              "        text-align: right;\n",
              "    }\n",
              "</style>\n",
              "<table border=\"1\" class=\"dataframe\">\n",
              "  <thead>\n",
              "    <tr style=\"text-align: right;\">\n",
              "      <th></th>\n",
              "      <th>Parâmetros</th>\n",
              "    </tr>\n",
              "  </thead>\n",
              "  <tbody>\n",
              "    <tr>\n",
              "      <th>Intercept</th>\n",
              "      <td>78.389208</td>\n",
              "    </tr>\n",
              "    <tr>\n",
              "      <th>Boroughs_Bronx</th>\n",
              "      <td>-24.143999</td>\n",
              "    </tr>\n",
              "    <tr>\n",
              "      <th>Boroughs_Brooklyn</th>\n",
              "      <td>10.984824</td>\n",
              "    </tr>\n",
              "    <tr>\n",
              "      <th>Boroughs_Manhattan</th>\n",
              "      <td>58.359391</td>\n",
              "    </tr>\n",
              "    <tr>\n",
              "      <th>Boroughs_Queens</th>\n",
              "      <td>-11.208770</td>\n",
              "    </tr>\n",
              "    <tr>\n",
              "      <th>Boroughs_Staten Island</th>\n",
              "      <td>-33.991445</td>\n",
              "    </tr>\n",
              "    <tr>\n",
              "      <th>Prop_Type_EntireHome</th>\n",
              "      <td>78.867793</td>\n",
              "    </tr>\n",
              "    <tr>\n",
              "      <th>Prop_Type_PrivateRoom</th>\n",
              "      <td>-25.041955</td>\n",
              "    </tr>\n",
              "    <tr>\n",
              "      <th>Prop_Type_SharedRoom</th>\n",
              "      <td>-53.825838</td>\n",
              "    </tr>\n",
              "    <tr>\n",
              "      <th>Min_Nights</th>\n",
              "      <td>-0.452884</td>\n",
              "    </tr>\n",
              "    <tr>\n",
              "      <th>Host_Listing_Cnt</th>\n",
              "      <td>-0.847073</td>\n",
              "    </tr>\n",
              "    <tr>\n",
              "      <th>Days_Available</th>\n",
              "      <td>0.166892</td>\n",
              "    </tr>\n",
              "    <tr>\n",
              "      <th>Review_Cnt</th>\n",
              "      <td>-0.177645</td>\n",
              "    </tr>\n",
              "    <tr>\n",
              "      <th>Reviews30d</th>\n",
              "      <td>-1.250845</td>\n",
              "    </tr>\n",
              "  </tbody>\n",
              "</table>\n",
              "</div>\n",
              "      <button class=\"colab-df-convert\" onclick=\"convertToInteractive('df-85140eab-696e-4e5a-982a-4ae8bcfbfaf2')\"\n",
              "              title=\"Convert this dataframe to an interactive table.\"\n",
              "              style=\"display:none;\">\n",
              "        \n",
              "  <svg xmlns=\"http://www.w3.org/2000/svg\" height=\"24px\"viewBox=\"0 0 24 24\"\n",
              "       width=\"24px\">\n",
              "    <path d=\"M0 0h24v24H0V0z\" fill=\"none\"/>\n",
              "    <path d=\"M18.56 5.44l.94 2.06.94-2.06 2.06-.94-2.06-.94-.94-2.06-.94 2.06-2.06.94zm-11 1L8.5 8.5l.94-2.06 2.06-.94-2.06-.94L8.5 2.5l-.94 2.06-2.06.94zm10 10l.94 2.06.94-2.06 2.06-.94-2.06-.94-.94-2.06-.94 2.06-2.06.94z\"/><path d=\"M17.41 7.96l-1.37-1.37c-.4-.4-.92-.59-1.43-.59-.52 0-1.04.2-1.43.59L10.3 9.45l-7.72 7.72c-.78.78-.78 2.05 0 2.83L4 21.41c.39.39.9.59 1.41.59.51 0 1.02-.2 1.41-.59l7.78-7.78 2.81-2.81c.8-.78.8-2.07 0-2.86zM5.41 20L4 18.59l7.72-7.72 1.47 1.35L5.41 20z\"/>\n",
              "  </svg>\n",
              "      </button>\n",
              "      \n",
              "  <style>\n",
              "    .colab-df-container {\n",
              "      display:flex;\n",
              "      flex-wrap:wrap;\n",
              "      gap: 12px;\n",
              "    }\n",
              "\n",
              "    .colab-df-convert {\n",
              "      background-color: #E8F0FE;\n",
              "      border: none;\n",
              "      border-radius: 50%;\n",
              "      cursor: pointer;\n",
              "      display: none;\n",
              "      fill: #1967D2;\n",
              "      height: 32px;\n",
              "      padding: 0 0 0 0;\n",
              "      width: 32px;\n",
              "    }\n",
              "\n",
              "    .colab-df-convert:hover {\n",
              "      background-color: #E2EBFA;\n",
              "      box-shadow: 0px 1px 2px rgba(60, 64, 67, 0.3), 0px 1px 3px 1px rgba(60, 64, 67, 0.15);\n",
              "      fill: #174EA6;\n",
              "    }\n",
              "\n",
              "    [theme=dark] .colab-df-convert {\n",
              "      background-color: #3B4455;\n",
              "      fill: #D2E3FC;\n",
              "    }\n",
              "\n",
              "    [theme=dark] .colab-df-convert:hover {\n",
              "      background-color: #434B5C;\n",
              "      box-shadow: 0px 1px 3px 1px rgba(0, 0, 0, 0.15);\n",
              "      filter: drop-shadow(0px 1px 2px rgba(0, 0, 0, 0.3));\n",
              "      fill: #FFFFFF;\n",
              "    }\n",
              "  </style>\n",
              "\n",
              "      <script>\n",
              "        const buttonEl =\n",
              "          document.querySelector('#df-85140eab-696e-4e5a-982a-4ae8bcfbfaf2 button.colab-df-convert');\n",
              "        buttonEl.style.display =\n",
              "          google.colab.kernel.accessAllowed ? 'block' : 'none';\n",
              "\n",
              "        async function convertToInteractive(key) {\n",
              "          const element = document.querySelector('#df-85140eab-696e-4e5a-982a-4ae8bcfbfaf2');\n",
              "          const dataTable =\n",
              "            await google.colab.kernel.invokeFunction('convertToInteractive',\n",
              "                                                     [key], {});\n",
              "          if (!dataTable) return;\n",
              "\n",
              "          const docLinkHtml = 'Like what you see? Visit the ' +\n",
              "            '<a target=\"_blank\" href=https://colab.research.google.com/notebooks/data_table.ipynb>data table notebook</a>'\n",
              "            + ' to learn more about interactive tables.';\n",
              "          element.innerHTML = '';\n",
              "          dataTable['output_type'] = 'display_data';\n",
              "          await google.colab.output.renderOutput(dataTable, element);\n",
              "          const docLink = document.createElement('div');\n",
              "          docLink.innerHTML = docLinkHtml;\n",
              "          element.appendChild(docLink);\n",
              "        }\n",
              "      </script>\n",
              "    </div>\n",
              "  </div>\n",
              "  "
            ]
          },
          "metadata": {},
          "execution_count": 34
        }
      ]
    },
    {
      "cell_type": "markdown",
      "source": [
        "# Testando um novo modelo"
      ],
      "metadata": {
        "id": "CV4yxT4THgOA"
      }
    },
    {
      "cell_type": "markdown",
      "source": [
        "Uma possibilidade de tentar melhorar o modelo é remover os outliers."
      ],
      "metadata": {
        "id": "UwWAzX5kHi8Q"
      }
    },
    {
      "cell_type": "code",
      "source": [
        "sns.boxplot(air_bnb['Price'])"
      ],
      "metadata": {
        "colab": {
          "base_uri": "https://localhost:8080/",
          "height": 357
        },
        "id": "JLDd8bSvHia8",
        "outputId": "e30a72fb-5916-408e-80df-b491631ab60c"
      },
      "execution_count": 35,
      "outputs": [
        {
          "output_type": "stream",
          "name": "stderr",
          "text": [
            "/usr/local/lib/python3.8/dist-packages/seaborn/_decorators.py:36: FutureWarning: Pass the following variable as a keyword arg: x. From version 0.12, the only valid positional argument will be `data`, and passing other arguments without an explicit keyword will result in an error or misinterpretation.\n",
            "  warnings.warn(\n"
          ]
        },
        {
          "output_type": "execute_result",
          "data": {
            "text/plain": [
              "<matplotlib.axes._subplots.AxesSubplot at 0x7fe13caa2220>"
            ]
          },
          "metadata": {},
          "execution_count": 35
        },
        {
          "output_type": "display_data",
          "data": {
            "text/plain": [
              "<Figure size 432x288 with 1 Axes>"
            ],
            "image/png": "[encoded data removed]"
          },
          "metadata": {}
        }
      ]
    },
    {
      "cell_type": "markdown",
      "source": [
        "Definição dos quartis, intervalo interquatídico e outros parâmetros:"
      ],
      "metadata": {
        "id": "_KU0jRnSKbyb"
      }
    },
    {
      "cell_type": "code",
      "source": [
        "prices = air_bnb['Price']"
      ],
      "metadata": {
        "id": "jFtRqR95Kt8V"
      },
      "execution_count": 36,
      "outputs": []
    },
    {
      "cell_type": "code",
      "source": [
        "Q1 = prices.quantile(.25)\n",
        "Q3 = prices.quantile(.75)\n",
        "IIQ = Q3 - Q1\n",
        "inferior = Q1 - (1.5 * IIQ)\n",
        "superior = Q3 + (1.5 * IIQ)"
      ],
      "metadata": {
        "id": "9sJCb0C-Krh4"
      },
      "execution_count": 37,
      "outputs": []
    },
    {
      "cell_type": "markdown",
      "source": [
        "Remoção dos dados discrepantes:"
      ],
      "metadata": {
        "id": "TtPrVrkBLGug"
      }
    },
    {
      "cell_type": "code",
      "source": [
        "air_bnb = air_bnb.loc[(prices >= inferior) & (prices <= superior)]"
      ],
      "metadata": {
        "id": "B4PboN9bLFzN"
      },
      "execution_count": 38,
      "outputs": []
    },
    {
      "cell_type": "code",
      "source": [
        "sns.boxplot(air_bnb['Price'])"
      ],
      "metadata": {
        "colab": {
          "base_uri": "https://localhost:8080/",
          "height": 357
        },
        "id": "ahwm5WvWLkb_",
        "outputId": "cac61135-2983-4825-c59b-c499ab29d7c2"
      },
      "execution_count": 39,
      "outputs": [
        {
          "output_type": "stream",
          "name": "stderr",
          "text": [
            "/usr/local/lib/python3.8/dist-packages/seaborn/_decorators.py:36: FutureWarning: Pass the following variable as a keyword arg: x. From version 0.12, the only valid positional argument will be `data`, and passing other arguments without an explicit keyword will result in an error or misinterpretation.\n",
            "  warnings.warn(\n"
          ]
        },
        {
          "output_type": "execute_result",
          "data": {
            "text/plain": [
              "<matplotlib.axes._subplots.AxesSubplot at 0x7fe13ca7ea00>"
            ]
          },
          "metadata": {},
          "execution_count": 39
        },
        {
          "output_type": "display_data",
          "data": {
            "text/plain": [
              "<Figure size 432x288 with 1 Axes>"
            ],
            "image/png": "[encoded data removed]"
          },
          "metadata": {}
        }
      ]
    },
    {
      "cell_type": "markdown",
      "source": [
        "## Novo modelo"
      ],
      "metadata": {
        "id": "IvuNGruoLxMz"
      }
    },
    {
      "cell_type": "markdown",
      "source": [
        "O novo modelo utiliza os dados após a retirada dos *outliers* da variável preço."
      ],
      "metadata": {
        "id": "-opzZEN2HtBY"
      }
    },
    {
      "cell_type": "code",
      "source": [
        "air_bnb.columns"
      ],
      "metadata": {
        "colab": {
          "base_uri": "https://localhost:8080/"
        },
        "id": "jJ8ZxQ_xL1UE",
        "outputId": "d6a9fc23-abaa-41e3-b1b5-9dde59c08c7e"
      },
      "execution_count": 40,
      "outputs": [
        {
          "output_type": "execute_result",
          "data": {
            "text/plain": [
              "Index(['Boroughs_Bronx', 'Boroughs_Brooklyn', 'Boroughs_Manhattan',\n",
              "       'Boroughs_Queens', 'Boroughs_Staten Island', 'Prop_Type_EntireHome',\n",
              "       'Prop_Type_PrivateRoom', 'Prop_Type_SharedRoom', 'Latitude',\n",
              "       'Longitude', 'Min_Nights', 'Host_Listing_Cnt', 'Days_Available',\n",
              "       'Review_Cnt', 'Reviews30d', 'Price'],\n",
              "      dtype='object')"
            ]
          },
          "metadata": {},
          "execution_count": 40
        }
      ]
    },
    {
      "cell_type": "markdown",
      "source": [
        "* Instancia-se a variável X:"
      ],
      "metadata": {
        "id": "tCnz7W7LH32p"
      }
    },
    {
      "cell_type": "code",
      "source": [
        "X = air_bnb[\n",
        "    [\n",
        "      'Boroughs_Bronx', 'Boroughs_Brooklyn', 'Boroughs_Manhattan',\n",
        "       'Boroughs_Queens', 'Boroughs_Staten Island', 'Prop_Type_EntireHome',\n",
        "       'Prop_Type_PrivateRoom', 'Prop_Type_SharedRoom', 'Latitude',\n",
        "       'Longitude', 'Min_Nights', 'Host_Listing_Cnt', 'Days_Available',\n",
        "       'Review_Cnt', 'Reviews30d'  \n",
        "    ]\n",
        "]"
      ],
      "metadata": {
        "id": "xoYc21WRLvC6"
      },
      "execution_count": 41,
      "outputs": []
    },
    {
      "cell_type": "markdown",
      "source": [
        "* E a variável y:"
      ],
      "metadata": {
        "id": "hQzaQuY0H8jk"
      }
    },
    {
      "cell_type": "code",
      "source": [
        "y = air_bnb['Price']"
      ],
      "metadata": {
        "id": "HwJ5WTwJL-_8"
      },
      "execution_count": 42,
      "outputs": []
    },
    {
      "cell_type": "markdown",
      "source": [
        "* Os dados de treino e teste também são definidos:"
      ],
      "metadata": {
        "id": "cuRj41O-H-iw"
      }
    },
    {
      "cell_type": "code",
      "source": [
        "X_train, X_test, y_train, y_test = train_test_split(X, y, test_size= 0.3, random_state= 42)"
      ],
      "metadata": {
        "id": "IhV4gxwOMDx7"
      },
      "execution_count": 103,
      "outputs": []
    },
    {
      "cell_type": "markdown",
      "source": [
        "* Instancia-se a classe *LinearRegression*:"
      ],
      "metadata": {
        "id": "_t-2eAvBIKhW"
      }
    },
    {
      "cell_type": "code",
      "source": [
        "lr = LinearRegression()"
      ],
      "metadata": {
        "id": "GZKCsLoyNaGp"
      },
      "execution_count": 104,
      "outputs": []
    },
    {
      "cell_type": "markdown",
      "source": [
        "* Treina-se o modelo:"
      ],
      "metadata": {
        "id": "Wl5_coBMIP2I"
      }
    },
    {
      "cell_type": "code",
      "source": [
        "lr.fit(X_train, y_train)"
      ],
      "metadata": {
        "colab": {
          "base_uri": "https://localhost:8080/"
        },
        "id": "nqA_UxarNcgZ",
        "outputId": "684856fb-1776-4e46-ed3f-44360cf1b87f"
      },
      "execution_count": 105,
      "outputs": [
        {
          "output_type": "execute_result",
          "data": {
            "text/plain": [
              "LinearRegression()"
            ]
          },
          "metadata": {},
          "execution_count": 105
        }
      ]
    },
    {
      "cell_type": "markdown",
      "source": [
        "* O R² de treino é determinado:"
      ],
      "metadata": {
        "id": "_4fe8YT8IZ_G"
      }
    },
    {
      "cell_type": "code",
      "source": [
        "f'O R² de treino é: {lr.score(X_train, y_train).round(2)}'"
      ],
      "metadata": {
        "colab": {
          "base_uri": "https://localhost:8080/",
          "height": 35
        },
        "id": "uOzvO9ZbNf35",
        "outputId": "00624537-c4b0-4ba6-85a2-c7a0b581662d"
      },
      "execution_count": 106,
      "outputs": [
        {
          "output_type": "execute_result",
          "data": {
            "text/plain": [
              "'O R² de treino é: 0.49'"
            ],
            "application/vnd.google.colaboratory.intrinsic+json": {
              "type": "string"
            }
          },
          "metadata": {},
          "execution_count": 106
        }
      ]
    },
    {
      "cell_type": "markdown",
      "source": [
        "* E as predições são realizadas passando o X_test:"
      ],
      "metadata": {
        "id": "NmiDX0_bIeB9"
      }
    },
    {
      "cell_type": "code",
      "source": [
        "y_predict = lr.predict(X_test)"
      ],
      "metadata": {
        "id": "SYAwYxMeOBqR"
      },
      "execution_count": 107,
      "outputs": []
    },
    {
      "cell_type": "markdown",
      "source": [
        "* O R² do modelo preditivo é determinado:"
      ],
      "metadata": {
        "id": "nClNDt0AIqM4"
      }
    },
    {
      "cell_type": "code",
      "source": [
        "f'O R² do modelo preditivo é: {metrics.r2_score(y_test, y_predict).round(2)}'"
      ],
      "metadata": {
        "colab": {
          "base_uri": "https://localhost:8080/",
          "height": 35
        },
        "id": "4DuKmu0HPiAM",
        "outputId": "fdd51f6c-6c1e-4b41-d3a6-26239cb2f334"
      },
      "execution_count": 108,
      "outputs": [
        {
          "output_type": "execute_result",
          "data": {
            "text/plain": [
              "'O R² do modelo preditivo é: 0.5'"
            ],
            "application/vnd.google.colaboratory.intrinsic+json": {
              "type": "string"
            }
          },
          "metadata": {},
          "execution_count": 108
        }
      ]
    },
    {
      "cell_type": "markdown",
      "source": [
        "Observa-se uma melhora considerável quando comparamos o 1º modelo com este. A remoção dos *outliers*, imóveis com preços elevados, pareceu ajustar melhor os dados para definição do modelo preditivo."
      ],
      "metadata": {
        "id": "44NtCyyyIt_V"
      }
    },
    {
      "cell_type": "code",
      "source": [
        "sns.scatterplot(x= y_test, y= y_predict)"
      ],
      "metadata": {
        "colab": {
          "base_uri": "https://localhost:8080/",
          "height": 302
        },
        "id": "wEPnekisPw_K",
        "outputId": "02db71cf-651e-4352-87f4-53fff9d4e028"
      },
      "execution_count": 109,
      "outputs": [
        {
          "output_type": "execute_result",
          "data": {
            "text/plain": [
              "<matplotlib.axes._subplots.AxesSubplot at 0x7fe141788700>"
            ]
          },
          "metadata": {},
          "execution_count": 109
        },
        {
          "output_type": "display_data",
          "data": {
            "text/plain": [
              "<Figure size 432x288 with 1 Axes>"
            ],
            "image/png": "[encoded data removed]"
          },
          "metadata": {}
        }
      ]
    },
    {
      "cell_type": "markdown",
      "source": [
        "* Intercepto e coeficientes de determinação:"
      ],
      "metadata": {
        "id": "Aoq2cVJ5JGFF"
      }
    },
    {
      "cell_type": "code",
      "source": [
        "X.columns"
      ],
      "metadata": {
        "colab": {
          "base_uri": "https://localhost:8080/"
        },
        "id": "z1cbQFgnJRJI",
        "outputId": "b9d2c532-255c-433a-dc22-601e07f129ea"
      },
      "execution_count": 110,
      "outputs": [
        {
          "output_type": "execute_result",
          "data": {
            "text/plain": [
              "Index(['Boroughs_Bronx', 'Boroughs_Brooklyn', 'Boroughs_Manhattan',\n",
              "       'Boroughs_Queens', 'Boroughs_Staten Island', 'Prop_Type_EntireHome',\n",
              "       'Prop_Type_PrivateRoom', 'Prop_Type_SharedRoom', 'Latitude',\n",
              "       'Longitude', 'Min_Nights', 'Host_Listing_Cnt', 'Days_Available',\n",
              "       'Review_Cnt', 'Reviews30d'],\n",
              "      dtype='object')"
            ]
          },
          "metadata": {},
          "execution_count": 110
        }
      ]
    },
    {
      "cell_type": "code",
      "source": [
        "index = ['Intercept', 'Boroughs_Bronx', 'Boroughs_Brooklyn', 'Boroughs_Manhattan',\n",
        "          'Boroughs_Queens', 'Boroughs_Staten Island', 'Prop_Type_EntireHome',\n",
        "          'Prop_Type_PrivateRoom', 'Prop_Type_SharedRoom', 'Latitude',\n",
        "          'Longitude', 'Min_Nights', 'Host_Listing_Cnt', 'Days_Available',\n",
        "          'Review_Cnt', 'Reviews30d']"
      ],
      "metadata": {
        "id": "B7ifl3CEJNQL"
      },
      "execution_count": 111,
      "outputs": []
    },
    {
      "cell_type": "code",
      "source": [
        "pd.DataFrame(np.append(lr.intercept_, lr.coef_), index= index)"
      ],
      "metadata": {
        "colab": {
          "base_uri": "https://localhost:8080/",
          "height": 551
        },
        "id": "TopnysA8JLVT",
        "outputId": "e0003bcb-91ad-4e75-bd7b-008b075d00ab"
      },
      "execution_count": 112,
      "outputs": [
        {
          "output_type": "execute_result",
          "data": {
            "text/plain": [
              "                                   0\n",
              "Intercept              -17555.009006\n",
              "Boroughs_Bronx              8.200420\n",
              "Boroughs_Brooklyn           4.979085\n",
              "Boroughs_Manhattan         33.732920\n",
              "Boroughs_Queens            16.773849\n",
              "Boroughs_Staten Island    -63.686274\n",
              "Prop_Type_EntireHome       58.799263\n",
              "Prop_Type_PrivateRoom     -15.852405\n",
              "Prop_Type_SharedRoom      -42.946859\n",
              "Latitude                  -61.350633\n",
              "Longitude                -272.205406\n",
              "Min_Nights                 -0.493296\n",
              "Host_Listing_Cnt           -0.130300\n",
              "Days_Available              0.056928\n",
              "Review_Cnt                 -0.040281\n",
              "Reviews30d                  0.124474"
            ],
            "text/html": [
              "\n",
              "  <div id=\"df-ffab957d-86f9-4dc5-a8d8-334f0f18e94e\">\n",
              "    <div class=\"colab-df-container\">\n",
              "      <div>\n",
              "<style scoped>\n",
              "    .dataframe tbody tr th:only-of-type {\n",
              "        vertical-align: middle;\n",
              "    }\n",
              "\n",
              "    .dataframe tbody tr th {\n",
              "        vertical-align: top;\n",
              "    }\n",
              "\n",
              "    .dataframe thead th {\n",
              "        text-align: right;\n",
              "    }\n",
              "</style>\n",
              "<table border=\"1\" class=\"dataframe\">\n",
              "  <thead>\n",
              "    <tr style=\"text-align: right;\">\n",
              "      <th></th>\n",
              "      <th>0</th>\n",
              "    </tr>\n",
              "  </thead>\n",
              "  <tbody>\n",
              "    <tr>\n",
              "      <th>Intercept</th>\n",
              "      <td>-17555.009006</td>\n",
              "    </tr>\n",
              "    <tr>\n",
              "      <th>Boroughs_Bronx</th>\n",
              "      <td>8.200420</td>\n",
              "    </tr>\n",
              "    <tr>\n",
              "      <th>Boroughs_Brooklyn</th>\n",
              "      <td>4.979085</td>\n",
              "    </tr>\n",
              "    <tr>\n",
              "      <th>Boroughs_Manhattan</th>\n",
              "      <td>33.732920</td>\n",
              "    </tr>\n",
              "    <tr>\n",
              "      <th>Boroughs_Queens</th>\n",
              "      <td>16.773849</td>\n",
              "    </tr>\n",
              "    <tr>\n",
              "      <th>Boroughs_Staten Island</th>\n",
              "      <td>-63.686274</td>\n",
              "    </tr>\n",
              "    <tr>\n",
              "      <th>Prop_Type_EntireHome</th>\n",
              "      <td>58.799263</td>\n",
              "    </tr>\n",
              "    <tr>\n",
              "      <th>Prop_Type_PrivateRoom</th>\n",
              "      <td>-15.852405</td>\n",
              "    </tr>\n",
              "    <tr>\n",
              "      <th>Prop_Type_SharedRoom</th>\n",
              "      <td>-42.946859</td>\n",
              "    </tr>\n",
              "    <tr>\n",
              "      <th>Latitude</th>\n",
              "      <td>-61.350633</td>\n",
              "    </tr>\n",
              "    <tr>\n",
              "      <th>Longitude</th>\n",
              "      <td>-272.205406</td>\n",
              "    </tr>\n",
              "    <tr>\n",
              "      <th>Min_Nights</th>\n",
              "      <td>-0.493296</td>\n",
              "    </tr>\n",
              "    <tr>\n",
              "      <th>Host_Listing_Cnt</th>\n",
              "      <td>-0.130300</td>\n",
              "    </tr>\n",
              "    <tr>\n",
              "      <th>Days_Available</th>\n",
              "      <td>0.056928</td>\n",
              "    </tr>\n",
              "    <tr>\n",
              "      <th>Review_Cnt</th>\n",
              "      <td>-0.040281</td>\n",
              "    </tr>\n",
              "    <tr>\n",
              "      <th>Reviews30d</th>\n",
              "      <td>0.124474</td>\n",
              "    </tr>\n",
              "  </tbody>\n",
              "</table>\n",
              "</div>\n",
              "      <button class=\"colab-df-convert\" onclick=\"convertToInteractive('df-ffab957d-86f9-4dc5-a8d8-334f0f18e94e')\"\n",
              "              title=\"Convert this dataframe to an interactive table.\"\n",
              "              style=\"display:none;\">\n",
              "        \n",
              "  <svg xmlns=\"http://www.w3.org/2000/svg\" height=\"24px\"viewBox=\"0 0 24 24\"\n",
              "       width=\"24px\">\n",
              "    <path d=\"M0 0h24v24H0V0z\" fill=\"none\"/>\n",
              "    <path d=\"M18.56 5.44l.94 2.06.94-2.06 2.06-.94-2.06-.94-.94-2.06-.94 2.06-2.06.94zm-11 1L8.5 8.5l.94-2.06 2.06-.94-2.06-.94L8.5 2.5l-.94 2.06-2.06.94zm10 10l.94 2.06.94-2.06 2.06-.94-2.06-.94-.94-2.06-.94 2.06-2.06.94z\"/><path d=\"M17.41 7.96l-1.37-1.37c-.4-.4-.92-.59-1.43-.59-.52 0-1.04.2-1.43.59L10.3 9.45l-7.72 7.72c-.78.78-.78 2.05 0 2.83L4 21.41c.39.39.9.59 1.41.59.51 0 1.02-.2 1.41-.59l7.78-7.78 2.81-2.81c.8-.78.8-2.07 0-2.86zM5.41 20L4 18.59l7.72-7.72 1.47 1.35L5.41 20z\"/>\n",
              "  </svg>\n",
              "      </button>\n",
              "      \n",
              "  <style>\n",
              "    .colab-df-container {\n",
              "      display:flex;\n",
              "      flex-wrap:wrap;\n",
              "      gap: 12px;\n",
              "    }\n",
              "\n",
              "    .colab-df-convert {\n",
              "      background-color: #E8F0FE;\n",
              "      border: none;\n",
              "      border-radius: 50%;\n",
              "      cursor: pointer;\n",
              "      display: none;\n",
              "      fill: #1967D2;\n",
              "      height: 32px;\n",
              "      padding: 0 0 0 0;\n",
              "      width: 32px;\n",
              "    }\n",
              "\n",
              "    .colab-df-convert:hover {\n",
              "      background-color: #E2EBFA;\n",
              "      box-shadow: 0px 1px 2px rgba(60, 64, 67, 0.3), 0px 1px 3px 1px rgba(60, 64, 67, 0.15);\n",
              "      fill: #174EA6;\n",
              "    }\n",
              "\n",
              "    [theme=dark] .colab-df-convert {\n",
              "      background-color: #3B4455;\n",
              "      fill: #D2E3FC;\n",
              "    }\n",
              "\n",
              "    [theme=dark] .colab-df-convert:hover {\n",
              "      background-color: #434B5C;\n",
              "      box-shadow: 0px 1px 3px 1px rgba(0, 0, 0, 0.15);\n",
              "      filter: drop-shadow(0px 1px 2px rgba(0, 0, 0, 0.3));\n",
              "      fill: #FFFFFF;\n",
              "    }\n",
              "  </style>\n",
              "\n",
              "      <script>\n",
              "        const buttonEl =\n",
              "          document.querySelector('#df-ffab957d-86f9-4dc5-a8d8-334f0f18e94e button.colab-df-convert');\n",
              "        buttonEl.style.display =\n",
              "          google.colab.kernel.accessAllowed ? 'block' : 'none';\n",
              "\n",
              "        async function convertToInteractive(key) {\n",
              "          const element = document.querySelector('#df-ffab957d-86f9-4dc5-a8d8-334f0f18e94e');\n",
              "          const dataTable =\n",
              "            await google.colab.kernel.invokeFunction('convertToInteractive',\n",
              "                                                     [key], {});\n",
              "          if (!dataTable) return;\n",
              "\n",
              "          const docLinkHtml = 'Like what you see? Visit the ' +\n",
              "            '<a target=\"_blank\" href=https://colab.research.google.com/notebooks/data_table.ipynb>data table notebook</a>'\n",
              "            + ' to learn more about interactive tables.';\n",
              "          element.innerHTML = '';\n",
              "          dataTable['output_type'] = 'display_data';\n",
              "          await google.colab.output.renderOutput(dataTable, element);\n",
              "          const docLink = document.createElement('div');\n",
              "          docLink.innerHTML = docLinkHtml;\n",
              "          element.appendChild(docLink);\n",
              "        }\n",
              "      </script>\n",
              "    </div>\n",
              "  </div>\n",
              "  "
            ]
          },
          "metadata": {},
          "execution_count": 112
        }
      ]
    }
  ]
}