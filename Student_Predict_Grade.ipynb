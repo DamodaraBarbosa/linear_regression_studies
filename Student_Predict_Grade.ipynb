{
  "nbformat": 4,
  "nbformat_minor": 0,
  "metadata": {
    "colab": {
      "provenance": [],
      "mount_file_id": "14ymOzQATIaaAYrshJNwRQ2eMWgEw_J7X",
      "authorship_tag": "ABX9TyPd3EmEl9EL4+QAx4mrTYs6",
      "include_colab_link": true
    },
    "kernelspec": {
      "name": "python3",
      "display_name": "Python 3"
    },
    "language_info": {
      "name": "python"
    }
  },
  "cells": [
    {
      "cell_type": "markdown",
      "metadata": {
        "id": "view-in-github",
        "colab_type": "text"
      },
      "source": [
        "<a href=\"https://colab.research.google.com/github/DamodaraBarbosa/linear_regression_studies/blob/main/Student_Predict_Grade.ipynb\" target=\"_parent\"><img src=\"https://colab.research.google.com/assets/colab-badge.svg\" alt=\"Open In Colab\"/></a>"
      ]
    },
    {
      "cell_type": "markdown",
      "source": [
        "Importando as bibliotecas"
      ],
      "metadata": {
        "id": "ygbOER6LgN-Q"
      }
    },
    {
      "cell_type": "code",
      "execution_count": 2,
      "metadata": {
        "id": "XNaB1U1cgEhz"
      },
      "outputs": [],
      "source": [
        "import pandas as pd\n",
        "import numpy as np\n",
        "import matplotlib.pyplot as plt\n",
        "import seaborn as sns\n",
        "import plotly.express as px"
      ]
    },
    {
      "cell_type": "code",
      "source": [
        "sns.set()"
      ],
      "metadata": {
        "id": "8kYotYJ-12gq"
      },
      "execution_count": 17,
      "outputs": []
    },
    {
      "cell_type": "markdown",
      "source": [
        "# Carregando os dados em um dataframe"
      ],
      "metadata": {
        "id": "RjKWlLaQgQzE"
      }
    },
    {
      "cell_type": "code",
      "source": [
        "data = pd.read_csv('/content/drive/MyDrive/PracticingDataLinearRegression/student-mat.csv')\n",
        "data.head()"
      ],
      "metadata": {
        "colab": {
          "base_uri": "https://localhost:8080/",
          "height": 232
        },
        "id": "pQHzruKvgS0T",
        "outputId": "921cfe68-a85f-403b-8936-b80a6ec66e97"
      },
      "execution_count": 9,
      "outputs": [
        {
          "output_type": "execute_result",
          "data": {
            "text/plain": [
              "  school sex  age address famsize Pstatus  Medu  Fedu     Mjob      Fjob  ...  \\\n",
              "0     GP   F   18       U     GT3       A     4     4  at_home   teacher  ...   \n",
              "1     GP   F   17       U     GT3       T     1     1  at_home     other  ...   \n",
              "2     GP   F   15       U     LE3       T     1     1  at_home     other  ...   \n",
              "3     GP   F   15       U     GT3       T     4     2   health  services  ...   \n",
              "4     GP   F   16       U     GT3       T     3     3    other     other  ...   \n",
              "\n",
              "  famrel freetime  goout  Dalc  Walc health absences  G1  G2  G3  \n",
              "0      4        3      4     1     1      3        6   5   6   6  \n",
              "1      5        3      3     1     1      3        4   5   5   6  \n",
              "2      4        3      2     2     3      3       10   7   8  10  \n",
              "3      3        2      2     1     1      5        2  15  14  15  \n",
              "4      4        3      2     1     2      5        4   6  10  10  \n",
              "\n",
              "[5 rows x 33 columns]"
            ],
            "text/html": [
              "\n",
              "  <div id=\"df-d574ed65-4f00-4d97-b168-ddc5510fcb3c\">\n",
              "    <div class=\"colab-df-container\">\n",
              "      <div>\n",
              "<style scoped>\n",
              "    .dataframe tbody tr th:only-of-type {\n",
              "        vertical-align: middle;\n",
              "    }\n",
              "\n",
              "    .dataframe tbody tr th {\n",
              "        vertical-align: top;\n",
              "    }\n",
              "\n",
              "    .dataframe thead th {\n",
              "        text-align: right;\n",
              "    }\n",
              "</style>\n",
              "<table border=\"1\" class=\"dataframe\">\n",
              "  <thead>\n",
              "    <tr style=\"text-align: right;\">\n",
              "      <th></th>\n",
              "      <th>school</th>\n",
              "      <th>sex</th>\n",
              "      <th>age</th>\n",
              "      <th>address</th>\n",
              "      <th>famsize</th>\n",
              "      <th>Pstatus</th>\n",
              "      <th>Medu</th>\n",
              "      <th>Fedu</th>\n",
              "      <th>Mjob</th>\n",
              "      <th>Fjob</th>\n",
              "      <th>...</th>\n",
              "      <th>famrel</th>\n",
              "      <th>freetime</th>\n",
              "      <th>goout</th>\n",
              "      <th>Dalc</th>\n",
              "      <th>Walc</th>\n",
              "      <th>health</th>\n",
              "      <th>absences</th>\n",
              "      <th>G1</th>\n",
              "      <th>G2</th>\n",
              "      <th>G3</th>\n",
              "    </tr>\n",
              "  </thead>\n",
              "  <tbody>\n",
              "    <tr>\n",
              "      <th>0</th>\n",
              "      <td>GP</td>\n",
              "      <td>F</td>\n",
              "      <td>18</td>\n",
              "      <td>U</td>\n",
              "      <td>GT3</td>\n",
              "      <td>A</td>\n",
              "      <td>4</td>\n",
              "      <td>4</td>\n",
              "      <td>at_home</td>\n",
              "      <td>teacher</td>\n",
              "      <td>...</td>\n",
              "      <td>4</td>\n",
              "      <td>3</td>\n",
              "      <td>4</td>\n",
              "      <td>1</td>\n",
              "      <td>1</td>\n",
              "      <td>3</td>\n",
              "      <td>6</td>\n",
              "      <td>5</td>\n",
              "      <td>6</td>\n",
              "      <td>6</td>\n",
              "    </tr>\n",
              "    <tr>\n",
              "      <th>1</th>\n",
              "      <td>GP</td>\n",
              "      <td>F</td>\n",
              "      <td>17</td>\n",
              "      <td>U</td>\n",
              "      <td>GT3</td>\n",
              "      <td>T</td>\n",
              "      <td>1</td>\n",
              "      <td>1</td>\n",
              "      <td>at_home</td>\n",
              "      <td>other</td>\n",
              "      <td>...</td>\n",
              "      <td>5</td>\n",
              "      <td>3</td>\n",
              "      <td>3</td>\n",
              "      <td>1</td>\n",
              "      <td>1</td>\n",
              "      <td>3</td>\n",
              "      <td>4</td>\n",
              "      <td>5</td>\n",
              "      <td>5</td>\n",
              "      <td>6</td>\n",
              "    </tr>\n",
              "    <tr>\n",
              "      <th>2</th>\n",
              "      <td>GP</td>\n",
              "      <td>F</td>\n",
              "      <td>15</td>\n",
              "      <td>U</td>\n",
              "      <td>LE3</td>\n",
              "      <td>T</td>\n",
              "      <td>1</td>\n",
              "      <td>1</td>\n",
              "      <td>at_home</td>\n",
              "      <td>other</td>\n",
              "      <td>...</td>\n",
              "      <td>4</td>\n",
              "      <td>3</td>\n",
              "      <td>2</td>\n",
              "      <td>2</td>\n",
              "      <td>3</td>\n",
              "      <td>3</td>\n",
              "      <td>10</td>\n",
              "      <td>7</td>\n",
              "      <td>8</td>\n",
              "      <td>10</td>\n",
              "    </tr>\n",
              "    <tr>\n",
              "      <th>3</th>\n",
              "      <td>GP</td>\n",
              "      <td>F</td>\n",
              "      <td>15</td>\n",
              "      <td>U</td>\n",
              "      <td>GT3</td>\n",
              "      <td>T</td>\n",
              "      <td>4</td>\n",
              "      <td>2</td>\n",
              "      <td>health</td>\n",
              "      <td>services</td>\n",
              "      <td>...</td>\n",
              "      <td>3</td>\n",
              "      <td>2</td>\n",
              "      <td>2</td>\n",
              "      <td>1</td>\n",
              "      <td>1</td>\n",
              "      <td>5</td>\n",
              "      <td>2</td>\n",
              "      <td>15</td>\n",
              "      <td>14</td>\n",
              "      <td>15</td>\n",
              "    </tr>\n",
              "    <tr>\n",
              "      <th>4</th>\n",
              "      <td>GP</td>\n",
              "      <td>F</td>\n",
              "      <td>16</td>\n",
              "      <td>U</td>\n",
              "      <td>GT3</td>\n",
              "      <td>T</td>\n",
              "      <td>3</td>\n",
              "      <td>3</td>\n",
              "      <td>other</td>\n",
              "      <td>other</td>\n",
              "      <td>...</td>\n",
              "      <td>4</td>\n",
              "      <td>3</td>\n",
              "      <td>2</td>\n",
              "      <td>1</td>\n",
              "      <td>2</td>\n",
              "      <td>5</td>\n",
              "      <td>4</td>\n",
              "      <td>6</td>\n",
              "      <td>10</td>\n",
              "      <td>10</td>\n",
              "    </tr>\n",
              "  </tbody>\n",
              "</table>\n",
              "<p>5 rows × 33 columns</p>\n",
              "</div>\n",
              "      <button class=\"colab-df-convert\" onclick=\"convertToInteractive('df-d574ed65-4f00-4d97-b168-ddc5510fcb3c')\"\n",
              "              title=\"Convert this dataframe to an interactive table.\"\n",
              "              style=\"display:none;\">\n",
              "        \n",
              "  <svg xmlns=\"http://www.w3.org/2000/svg\" height=\"24px\"viewBox=\"0 0 24 24\"\n",
              "       width=\"24px\">\n",
              "    <path d=\"M0 0h24v24H0V0z\" fill=\"none\"/>\n",
              "    <path d=\"M18.56 5.44l.94 2.06.94-2.06 2.06-.94-2.06-.94-.94-2.06-.94 2.06-2.06.94zm-11 1L8.5 8.5l.94-2.06 2.06-.94-2.06-.94L8.5 2.5l-.94 2.06-2.06.94zm10 10l.94 2.06.94-2.06 2.06-.94-2.06-.94-.94-2.06-.94 2.06-2.06.94z\"/><path d=\"M17.41 7.96l-1.37-1.37c-.4-.4-.92-.59-1.43-.59-.52 0-1.04.2-1.43.59L10.3 9.45l-7.72 7.72c-.78.78-.78 2.05 0 2.83L4 21.41c.39.39.9.59 1.41.59.51 0 1.02-.2 1.41-.59l7.78-7.78 2.81-2.81c.8-.78.8-2.07 0-2.86zM5.41 20L4 18.59l7.72-7.72 1.47 1.35L5.41 20z\"/>\n",
              "  </svg>\n",
              "      </button>\n",
              "      \n",
              "  <style>\n",
              "    .colab-df-container {\n",
              "      display:flex;\n",
              "      flex-wrap:wrap;\n",
              "      gap: 12px;\n",
              "    }\n",
              "\n",
              "    .colab-df-convert {\n",
              "      background-color: #E8F0FE;\n",
              "      border: none;\n",
              "      border-radius: 50%;\n",
              "      cursor: pointer;\n",
              "      display: none;\n",
              "      fill: #1967D2;\n",
              "      height: 32px;\n",
              "      padding: 0 0 0 0;\n",
              "      width: 32px;\n",
              "    }\n",
              "\n",
              "    .colab-df-convert:hover {\n",
              "      background-color: #E2EBFA;\n",
              "      box-shadow: 0px 1px 2px rgba(60, 64, 67, 0.3), 0px 1px 3px 1px rgba(60, 64, 67, 0.15);\n",
              "      fill: #174EA6;\n",
              "    }\n",
              "\n",
              "    [theme=dark] .colab-df-convert {\n",
              "      background-color: #3B4455;\n",
              "      fill: #D2E3FC;\n",
              "    }\n",
              "\n",
              "    [theme=dark] .colab-df-convert:hover {\n",
              "      background-color: #434B5C;\n",
              "      box-shadow: 0px 1px 3px 1px rgba(0, 0, 0, 0.15);\n",
              "      filter: drop-shadow(0px 1px 2px rgba(0, 0, 0, 0.3));\n",
              "      fill: #FFFFFF;\n",
              "    }\n",
              "  </style>\n",
              "\n",
              "      <script>\n",
              "        const buttonEl =\n",
              "          document.querySelector('#df-d574ed65-4f00-4d97-b168-ddc5510fcb3c button.colab-df-convert');\n",
              "        buttonEl.style.display =\n",
              "          google.colab.kernel.accessAllowed ? 'block' : 'none';\n",
              "\n",
              "        async function convertToInteractive(key) {\n",
              "          const element = document.querySelector('#df-d574ed65-4f00-4d97-b168-ddc5510fcb3c');\n",
              "          const dataTable =\n",
              "            await google.colab.kernel.invokeFunction('convertToInteractive',\n",
              "                                                     [key], {});\n",
              "          if (!dataTable) return;\n",
              "\n",
              "          const docLinkHtml = 'Like what you see? Visit the ' +\n",
              "            '<a target=\"_blank\" href=https://colab.research.google.com/notebooks/data_table.ipynb>data table notebook</a>'\n",
              "            + ' to learn more about interactive tables.';\n",
              "          element.innerHTML = '';\n",
              "          dataTable['output_type'] = 'display_data';\n",
              "          await google.colab.output.renderOutput(dataTable, element);\n",
              "          const docLink = document.createElement('div');\n",
              "          docLink.innerHTML = docLinkHtml;\n",
              "          element.appendChild(docLink);\n",
              "        }\n",
              "      </script>\n",
              "    </div>\n",
              "  </div>\n",
              "  "
            ]
          },
          "metadata": {},
          "execution_count": 9
        },
        {
          "output_type": "stream",
          "name": "stdout",
          "text": [
            "Warning: Total number of columns (33) exceeds max_columns (20) limiting to first (20) columns.\n"
          ]
        }
      ]
    },
    {
      "cell_type": "code",
      "source": [
        "data.info()"
      ],
      "metadata": {
        "colab": {
          "base_uri": "https://localhost:8080/"
        },
        "id": "aPoHKOQlgnzH",
        "outputId": "29084cd4-a00c-4c3f-a2ae-a9b67a0bfd3a"
      },
      "execution_count": 10,
      "outputs": [
        {
          "output_type": "stream",
          "name": "stdout",
          "text": [
            "<class 'pandas.core.frame.DataFrame'>\n",
            "RangeIndex: 395 entries, 0 to 394\n",
            "Data columns (total 33 columns):\n",
            " #   Column      Non-Null Count  Dtype \n",
            "---  ------      --------------  ----- \n",
            " 0   school      395 non-null    object\n",
            " 1   sex         395 non-null    object\n",
            " 2   age         395 non-null    int64 \n",
            " 3   address     395 non-null    object\n",
            " 4   famsize     395 non-null    object\n",
            " 5   Pstatus     395 non-null    object\n",
            " 6   Medu        395 non-null    int64 \n",
            " 7   Fedu        395 non-null    int64 \n",
            " 8   Mjob        395 non-null    object\n",
            " 9   Fjob        395 non-null    object\n",
            " 10  reason      395 non-null    object\n",
            " 11  guardian    395 non-null    object\n",
            " 12  traveltime  395 non-null    int64 \n",
            " 13  studytime   395 non-null    int64 \n",
            " 14  failures    395 non-null    int64 \n",
            " 15  schoolsup   395 non-null    object\n",
            " 16  famsup      395 non-null    object\n",
            " 17  paid        395 non-null    object\n",
            " 18  activities  395 non-null    object\n",
            " 19  nursery     395 non-null    object\n",
            " 20  higher      395 non-null    object\n",
            " 21  internet    395 non-null    object\n",
            " 22  romantic    395 non-null    object\n",
            " 23  famrel      395 non-null    int64 \n",
            " 24  freetime    395 non-null    int64 \n",
            " 25  goout       395 non-null    int64 \n",
            " 26  Dalc        395 non-null    int64 \n",
            " 27  Walc        395 non-null    int64 \n",
            " 28  health      395 non-null    int64 \n",
            " 29  absences    395 non-null    int64 \n",
            " 30  G1          395 non-null    int64 \n",
            " 31  G2          395 non-null    int64 \n",
            " 32  G3          395 non-null    int64 \n",
            "dtypes: int64(16), object(17)\n",
            "memory usage: 102.0+ KB\n"
          ]
        }
      ]
    },
    {
      "cell_type": "markdown",
      "source": [
        "Já é possível notar que a base de dados não contém dados faltantes."
      ],
      "metadata": {
        "id": "eCim2GNI5hv2"
      }
    },
    {
      "cell_type": "code",
      "source": [
        "f'A base de dados contém {data.shape[1]} colunas e {data.shape[0]} linhas'"
      ],
      "metadata": {
        "colab": {
          "base_uri": "https://localhost:8080/",
          "height": 35
        },
        "id": "S91_ncezhAZ5",
        "outputId": "8306e653-a28f-474d-8a78-1b3a5b318f65"
      },
      "execution_count": 11,
      "outputs": [
        {
          "output_type": "execute_result",
          "data": {
            "text/plain": [
              "'A base de dados contém 33 colunas e 395 linhas'"
            ],
            "application/vnd.google.colaboratory.intrinsic+json": {
              "type": "string"
            }
          },
          "metadata": {},
          "execution_count": 11
        }
      ]
    },
    {
      "cell_type": "markdown",
      "source": [
        "# Descrição dos dados"
      ],
      "metadata": {
        "id": "cvBHRyPz0wQL"
      }
    },
    {
      "cell_type": "markdown",
      "source": [
        "Retirada de: https://www.kaggle.com/datasets/dipam7/student-grade-prediction?datasetId=52721&sortBy=voteCount"
      ],
      "metadata": {
        "id": "lpA2ZUD31cMA"
      }
    },
    {
      "cell_type": "markdown",
      "source": [
        "Data Set Information:\n",
        "This data approach student achievement in secondary education of two Portuguese schools. The data attributes include student grades, demographic, social and school-related features) and it was collected by using school reports and questionnaires. Two datasets are provided regarding the performance in two distinct subjects: Mathematics (mat) and Portuguese language (por). In [Cortez and Silva, 2008], the two datasets were modeled under binary/five-level classification and regression tasks. Important note: the target attribute G3 has a strong correlation with attributes G2 and G1. This occurs because G3 is the final year grade (issued at the 3rd period), while G1 and G2 correspond to the 1st and 2nd period grades. It is more difficult to predict G3 without G2 and G1, but such prediction is much more useful (see paper source for more details).\n",
        "\n",
        "Attribute Information:\n",
        "school - student's school (binary: 'GP' - Gabriel Pereira or 'MS' - Mousinho da Silveira)\n",
        "\n",
        "sex - student's sex (binary: 'F' - female or 'M' - male)\n",
        "\n",
        "age - student's age (numeric: from 15 to 22)\n",
        "\n",
        "address - student's home address type (binary: 'U' - urban or 'R' - rural)\n",
        "\n",
        "famsize - family size (binary: 'LE3' - less or equal to 3 or 'GT3' - greater \n",
        "than 3)\n",
        "\n",
        "Pstatus - parent's cohabitation status (binary: 'T' - living together or 'A' - apart)\n",
        "\n",
        "Medu - mother's education (numeric: 0 - none, 1 - primary education (4th grade), 2 â€“ 5th to 9th grade, 3 â€“ secondary education or 4 â€“ higher education)\n",
        "Fedu - father's education (numeric: 0 - none, 1 - primary education (4th grade), 2 â€“ 5th to 9th grade, 3 â€“ secondary education or 4 â€“ higher education)\n",
        "\n",
        "Mjob - mother's job (nominal: 'teacher', 'health' care related, civil 'services' (e.g. administrative or police), 'at_home' or 'other')\n",
        "\n",
        "Fjob - father's job (nominal: 'teacher', 'health' care related, civil 'services' (e.g. administrative or police), 'at_home' or 'other')\n",
        "\n",
        "reason - reason to choose this school (nominal: close to 'home', school 'reputation', 'course' preference or 'other')\n",
        "\n",
        "guardian - student's guardian (nominal: 'mother', 'father' or 'other')"
      ],
      "metadata": {
        "id": "UyQL3rLI0yld"
      }
    },
    {
      "cell_type": "markdown",
      "source": [
        "traveltime - home to school travel time (numeric: 1 - <15 min., 2 - 15 to 30 min., 3 - 30 min. to 1 hour, or 4 - >1 hour)\n",
        "\n",
        "studytime - weekly study time (numeric: 1 - <2 hours, 2 - 2 to 5 hours, 3 - 5 to 10 hours, or 4 - >10 hours)\n",
        "\n",
        "failures - number of past class failures (numeric: n if 1<=n<3, else 4)\n",
        "\n",
        "schoolsup - extra educational support (binary: yes or no)\n",
        "\n",
        "famsup - family educational support (binary: yes or no)\n",
        "\n",
        "paid - extra paid classes within the course subject (Math or Portuguese) (binary: yes or no)\n",
        "\n",
        "activities - extra-curricular activities (binary: yes or no)\n",
        "\n",
        "nursery - attended nursery school (binary: yes or no)\n",
        "\n",
        "higher - wants to take higher education (binary: yes or no)\n",
        "\n",
        "internet - Internet access at home (binary: yes or no)\n",
        "\n",
        "romantic - with a romantic relationship (binary: yes or no)\n",
        "\n",
        "famrel - quality of family relationships (numeric: from 1 - very bad to 5 - \n",
        "excellent)\n",
        "\n",
        "freetime - free time after school (numeric: from 1 - very low to 5 - very high)\n",
        "\n",
        "goout - going out with friends (numeric: from 1 - very low to 5 - very high)\n",
        "\n",
        "Dalc - workday alcohol consumption (numeric: from 1 - very low to 5 - very high)\n",
        "\n",
        "Walc - weekend alcohol consumption (numeric: from 1 - very low to 5 - very high)\n",
        "\n",
        "health - current health status (numeric: from 1 - very bad to 5 - very good)\n",
        "\n",
        "\n",
        "absences - number of school absences (numeric: from 0 to 93)\n",
        "\n",
        "these grades are related with the course subject, Math or Portuguese:\n",
        "\n",
        "G1 - first period grade (numeric: from 0 to 20)\n",
        "\n",
        "G2 - second period grade (numeric: from 0 to 20)\n",
        "\n",
        "G3 - final grade (numeric: from 0 to 20, output target)"
      ],
      "metadata": {
        "id": "uV5z5cPQ1MpP"
      }
    },
    {
      "cell_type": "markdown",
      "source": [
        "# Análise exploratória das variáveis"
      ],
      "metadata": {
        "id": "Hi6sKtNZ0Dnr"
      }
    },
    {
      "cell_type": "markdown",
      "source": [
        "## Coluna `school`"
      ],
      "metadata": {
        "id": "b4MGzYz70dlu"
      }
    },
    {
      "cell_type": "code",
      "source": [
        "data['school'].unique()"
      ],
      "metadata": {
        "colab": {
          "base_uri": "https://localhost:8080/"
        },
        "id": "uIUN7PoJzN6W",
        "outputId": "4796cdc5-3e61-4762-ade2-29caaf76c9e5"
      },
      "execution_count": 13,
      "outputs": [
        {
          "output_type": "execute_result",
          "data": {
            "text/plain": [
              "array(['GP', 'MS'], dtype=object)"
            ]
          },
          "metadata": {},
          "execution_count": 13
        }
      ]
    },
    {
      "cell_type": "markdown",
      "source": [
        "A base de dados contém informações de apenas duas escolas:\n",
        "* GP - Gabriel Pereira;\n",
        "* MS - Mousinha da Silveira."
      ],
      "metadata": {
        "id": "q7OXar0s1-r-"
      }
    },
    {
      "cell_type": "code",
      "source": [
        "plt.figure(figsize= (12, 10))\n",
        "bars = plt.bar(data['school'].value_counts().keys(), data['school'].value_counts().values, color= ['r', 'g'])\n",
        "\n",
        "for bar in bars:\n",
        "  plt.text(bar.get_x() + 0.36, bar.get_height() + 2, bar.get_height(), fontsize= 14)\n",
        "\n",
        "plt.xlabel('Escolas')\n",
        "plt.title('Alunos para cada escola', fontsize= 15)\n",
        "plt.show()"
      ],
      "metadata": {
        "colab": {
          "base_uri": "https://localhost:8080/",
          "height": 629
        },
        "id": "PtKDaABq0ku3",
        "outputId": "e207374f-4130-41a2-e175-fd35cdce54ac"
      },
      "execution_count": 48,
      "outputs": [
        {
          "output_type": "display_data",
          "data": {
            "text/plain": [
              "<Figure size 864x720 with 1 Axes>"
            ],
            "image/png": "[encoded data removed]"
          },
          "metadata": {}
        }
      ]
    },
    {
      "cell_type": "markdown",
      "source": [
        "## Coluna `sex` "
      ],
      "metadata": {
        "id": "mPuQ2oeQ5opK"
      }
    },
    {
      "cell_type": "code",
      "source": [
        "data['sex'].unique()"
      ],
      "metadata": {
        "colab": {
          "base_uri": "https://localhost:8080/"
        },
        "id": "WtzwiJi_1mgP",
        "outputId": "a9a26acf-84ae-4106-c3a3-0b2b593fad88"
      },
      "execution_count": 39,
      "outputs": [
        {
          "output_type": "execute_result",
          "data": {
            "text/plain": [
              "array(['F', 'M'], dtype=object)"
            ]
          },
          "metadata": {},
          "execution_count": 39
        }
      ]
    },
    {
      "cell_type": "code",
      "source": [
        "plt.figure(figsize= (12, 10))\n",
        "bars = plt.bar(data['sex'].value_counts().keys(), data['sex'].value_counts().values, color= ['pink', 'b'])\n",
        "\n",
        "for bar in bars:\n",
        "  plt.text(bar.get_x() + 0.36, bar.get_height() + 2, bar.get_height(), fontsize= 14)\n",
        "\n",
        "plt.ylim([0, 250]) # define o limite do eixo y do gráfico\n",
        "plt.title('Quantidade de indivíduos por sexo', fontsize= 15)\n",
        "plt.ylabel('Sexo')\n",
        "plt.show()"
      ],
      "metadata": {
        "colab": {
          "base_uri": "https://localhost:8080/",
          "height": 613
        },
        "id": "GkhaOT016U0r",
        "outputId": "bed39590-e37e-4b9e-ee7b-b1fca68aaa65"
      },
      "execution_count": 53,
      "outputs": [
        {
          "output_type": "display_data",
          "data": {
            "text/plain": [
              "<Figure size 864x720 with 1 Axes>"
            ],
            "image/png": "[encoded data removed]"
          },
          "metadata": {}
        }
      ]
    },
    {
      "cell_type": "markdown",
      "source": [
        "## Coluna `age`"
      ],
      "metadata": {
        "id": "vzE3Q3T07uYp"
      }
    },
    {
      "cell_type": "code",
      "source": [
        "data['age'].unique()"
      ],
      "metadata": {
        "colab": {
          "base_uri": "https://localhost:8080/"
        },
        "id": "pKys3ZX16mgW",
        "outputId": "719d053d-964a-441d-c432-a1fe170a194e"
      },
      "execution_count": 49,
      "outputs": [
        {
          "output_type": "execute_result",
          "data": {
            "text/plain": [
              "array([18, 17, 15, 16, 19, 22, 20, 21])"
            ]
          },
          "metadata": {},
          "execution_count": 49
        }
      ]
    },
    {
      "cell_type": "code",
      "source": [
        "plt.figure(figsize= (12, 10))\n",
        "bars = plt.bar(\n",
        "    data['age'].value_counts().sort_index().keys(), \n",
        "    data['age'].value_counts().sort_index().values,\n",
        "    color= ['y', 'g', 'b', 'r', 'gray']\n",
        ")\n",
        "\n",
        "for bar in bars:\n",
        "  plt.text(bar.get_x() + 0.25, bar.get_height() + 2, bar.get_height(), fontsize= 12)\n",
        "\n",
        "plt.ylim([0, 120])\n",
        "plt.title('Quantidade de indivíduos por idade', fontsize= 15)\n",
        "plt.xlabel('Idade')\n",
        "plt.show()"
      ],
      "metadata": {
        "colab": {
          "base_uri": "https://localhost:8080/",
          "height": 630
        },
        "id": "mY83eJnn7906",
        "outputId": "1bf204b8-c06d-4be7-dad7-9c4ad7956da2"
      },
      "execution_count": 62,
      "outputs": [
        {
          "output_type": "display_data",
          "data": {
            "text/plain": [
              "<Figure size 864x720 with 1 Axes>"
            ],
            "image/png": "[encoded data removed]"
          },
          "metadata": {}
        }
      ]
    },
    {
      "cell_type": "code",
      "source": [
        "plt.figure(figsize= (12, 10))\n",
        "ax = sns.histplot(data= data, x= 'age', kde= True)\n",
        "ax.set_title('Distribuição de frequência da variável age', fontsize= 15)\n",
        "plt.show()"
      ],
      "metadata": {
        "colab": {
          "base_uri": "https://localhost:8080/",
          "height": 630
        },
        "id": "FrBk3rJl7xys",
        "outputId": "b05ad5a7-cd23-4ce4-edf0-0e5cdfb9a38a"
      },
      "execution_count": 63,
      "outputs": [
        {
          "output_type": "display_data",
          "data": {
            "text/plain": [
              "<Figure size 864x720 with 1 Axes>"
            ],
            "image/png": "[encoded data removed]"
          },
          "metadata": {}
        }
      ]
    },
    {
      "cell_type": "markdown",
      "source": [
        "## Coluna `address`"
      ],
      "metadata": {
        "id": "bURlTfcf-NFi"
      }
    },
    {
      "cell_type": "code",
      "source": [
        "data['address'].unique()"
      ],
      "metadata": {
        "colab": {
          "base_uri": "https://localhost:8080/"
        },
        "id": "35bq-NZr731I",
        "outputId": "a9af7b2f-65ef-4eb1-e8e9-abfd5897cd0a"
      },
      "execution_count": 65,
      "outputs": [
        {
          "output_type": "execute_result",
          "data": {
            "text/plain": [
              "array(['U', 'R'], dtype=object)"
            ]
          },
          "metadata": {},
          "execution_count": 65
        }
      ]
    },
    {
      "cell_type": "markdown",
      "source": [
        "A variável `address` contém apenas dois valores:\n",
        "* U - para urbano;\n",
        "* R - para rural."
      ],
      "metadata": {
        "id": "t5dIQSoP-fLr"
      }
    },
    {
      "cell_type": "code",
      "source": [
        "plt.figure(figsize= (12, 10))\n",
        "bars = plt.bar(data['address'].value_counts().keys(), data['address'].value_counts().values, color= ['gray', 'g'])\n",
        "\n",
        "for bar in bars:\n",
        "  plt.text(bar.get_x() + 0.36, bar.get_height() + 2, bar.get_height(), fontsize= 12)\n",
        "\n",
        "plt.title('Quantidade de indivíduos por zona', fontsize= 15)\n",
        "plt.xlabel('Zona')\n",
        "plt.show()"
      ],
      "metadata": {
        "colab": {
          "base_uri": "https://localhost:8080/",
          "height": 630
        },
        "id": "8nxYaImv-Scy",
        "outputId": "d47934dd-8bff-421c-b0e1-112426540ba8"
      },
      "execution_count": 71,
      "outputs": [
        {
          "output_type": "display_data",
          "data": {
            "text/plain": [
              "<Figure size 864x720 with 1 Axes>"
            ],
            "image/png": "[encoded data removed]"
          },
          "metadata": {}
        }
      ]
    },
    {
      "cell_type": "markdown",
      "source": [
        "## Coluna `famsize`"
      ],
      "metadata": {
        "id": "eVPZly3g_qZq"
      }
    },
    {
      "cell_type": "code",
      "source": [
        "data['famsize'].unique()"
      ],
      "metadata": {
        "colab": {
          "base_uri": "https://localhost:8080/"
        },
        "id": "uF1VhCF6_Kwo",
        "outputId": "f285505f-64dc-4492-a635-8098da4171f9"
      },
      "execution_count": 72,
      "outputs": [
        {
          "output_type": "execute_result",
          "data": {
            "text/plain": [
              "array(['GT3', 'LE3'], dtype=object)"
            ]
          },
          "metadata": {},
          "execution_count": 72
        }
      ]
    },
    {
      "cell_type": "markdown",
      "source": [
        "A variável `famsize` contém dois tipos de dados:\n",
        "* GT3 - maior do que 3 integrantes;\n",
        "* LE3 - menor ou iguala 3 integrandes."
      ],
      "metadata": {
        "id": "neilv_s8_w-u"
      }
    },
    {
      "cell_type": "code",
      "source": [
        "plt.figure(figsize= (12, 10))\n",
        "bars = plt.bar(data['famsize'].value_counts().keys(), data['famsize'].value_counts().values, color= ['r', 'g'])\n",
        "\n",
        "for bar in bars:\n",
        "  plt.text(bar.get_x() + 0.36, bar.get_height() + 2, bar.get_height(), fontsize= 14)\n",
        "\n",
        "plt.title('Indivíduos por tamanho da família', fontsize= 15)\n",
        "plt.xlabel('famsize')\n",
        "plt.show()"
      ],
      "metadata": {
        "colab": {
          "base_uri": "https://localhost:8080/",
          "height": 630
        },
        "id": "ce5a--FB_wJP",
        "outputId": "ac74e4dd-14bf-4a5e-b153-c29e642dfde4"
      },
      "execution_count": 78,
      "outputs": [
        {
          "output_type": "display_data",
          "data": {
            "text/plain": [
              "<Figure size 864x720 with 1 Axes>"
            ],
            "image/png": "[encoded data removed]"
          },
          "metadata": {}
        }
      ]
    },
    {
      "cell_type": "markdown",
      "source": [
        "## Coluna `Pstatus`"
      ],
      "metadata": {
        "id": "bw4oIkNnAi0_"
      }
    },
    {
      "cell_type": "markdown",
      "source": [
        "Indica o *status* de relacionamento entre os pais do indivíduo."
      ],
      "metadata": {
        "id": "aib2kU4VAm1v"
      }
    },
    {
      "cell_type": "code",
      "source": [
        "data['Pstatus'].unique()"
      ],
      "metadata": {
        "colab": {
          "base_uri": "https://localhost:8080/"
        },
        "id": "Yqy3M5ytAQnV",
        "outputId": "cd65a3af-9007-469d-b7df-09ba9a6a44b1"
      },
      "execution_count": 74,
      "outputs": [
        {
          "output_type": "execute_result",
          "data": {
            "text/plain": [
              "array(['A', 'T'], dtype=object)"
            ]
          },
          "metadata": {},
          "execution_count": 74
        }
      ]
    },
    {
      "cell_type": "markdown",
      "source": [
        "Em que:\n",
        "* A - *apart*, ou seja, separados;\n",
        "* T - *living together*, ou seja, vivendo juntos."
      ],
      "metadata": {
        "id": "w2nCha8cAwaN"
      }
    },
    {
      "cell_type": "code",
      "source": [
        "plt.figure(figsize= (12, 10))\n",
        "bars = plt.bar(data['Pstatus'].value_counts().keys(), data['Pstatus'].value_counts().values, color= ['g', 'r'])\n",
        "\n",
        "for bar in bars:\n",
        "  plt.text(bar.get_x() + 0.36, bar.get_height() + 2, bar.get_height(), fontsize= 14)\n",
        "\n",
        "plt.title('Quantidade de indivíduos por status do relacionamento dos pais', fontsize= 15)\n",
        "plt.xlabel('Pstatus')\n",
        "plt.show()"
      ],
      "metadata": {
        "colab": {
          "base_uri": "https://localhost:8080/",
          "height": 630
        },
        "id": "Y--FtfWSAvas",
        "outputId": "d420036f-3e1f-4ac6-e10d-986774292044"
      },
      "execution_count": 77,
      "outputs": [
        {
          "output_type": "display_data",
          "data": {
            "text/plain": [
              "<Figure size 864x720 with 1 Axes>"
            ],
            "image/png": "[encoded data removed]"
          },
          "metadata": {}
        }
      ]
    },
    {
      "cell_type": "code",
      "source": [
        "data.columns"
      ],
      "metadata": {
        "colab": {
          "base_uri": "https://localhost:8080/"
        },
        "id": "9tIo53GaCFc6",
        "outputId": "3e7a14a9-e0d4-4470-9976-22a73bf719a6"
      },
      "execution_count": 79,
      "outputs": [
        {
          "output_type": "execute_result",
          "data": {
            "text/plain": [
              "Index(['school', 'sex', 'age', 'address', 'famsize', 'Pstatus', 'Medu', 'Fedu',\n",
              "       'Mjob', 'Fjob', 'reason', 'guardian', 'traveltime', 'studytime',\n",
              "       'failures', 'schoolsup', 'famsup', 'paid', 'activities', 'nursery',\n",
              "       'higher', 'internet', 'romantic', 'famrel', 'freetime', 'goout', 'Dalc',\n",
              "       'Walc', 'health', 'absences', 'G1', 'G2', 'G3'],\n",
              "      dtype='object')"
            ]
          },
          "metadata": {},
          "execution_count": 79
        }
      ]
    },
    {
      "cell_type": "markdown",
      "source": [
        "## Coluna `Medu`"
      ],
      "metadata": {
        "id": "R9VYqULJCejD"
      }
    },
    {
      "cell_type": "markdown",
      "source": [
        "Informa o grau de escolaridade da mãe do indivíduo."
      ],
      "metadata": {
        "id": "beuGfkFUCgOG"
      }
    },
    {
      "cell_type": "code",
      "source": [
        "data['Medu'].unique()"
      ],
      "metadata": {
        "colab": {
          "base_uri": "https://localhost:8080/"
        },
        "id": "MCViylZdCaZm",
        "outputId": "9a0f3474-c923-4dc4-cc80-10ba6e0dbfa6"
      },
      "execution_count": 81,
      "outputs": [
        {
          "output_type": "execute_result",
          "data": {
            "text/plain": [
              "array([4, 1, 3, 2, 0])"
            ]
          },
          "metadata": {},
          "execution_count": 81
        }
      ]
    },
    {
      "cell_type": "code",
      "source": [],
      "metadata": {
        "id": "bqcgkPdqCr2y"
      },
      "execution_count": null,
      "outputs": []
    }
  ]
}