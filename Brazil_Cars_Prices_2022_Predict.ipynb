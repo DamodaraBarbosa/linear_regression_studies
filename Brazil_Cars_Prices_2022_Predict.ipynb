{
  "nbformat": 4,
  "nbformat_minor": 0,
  "metadata": {
    "colab": {
      "provenance": [],
      "mount_file_id": "1Ap1zn9j_aKfb-G6a-BhiGTjr7Ie36xug",
      "authorship_tag": "ABX9TyMuDG/tLSRLbQhJVlj5aH91",
      "include_colab_link": true
    },
    "kernelspec": {
      "name": "python3",
      "display_name": "Python 3"
    },
    "language_info": {
      "name": "python"
    }
  },
  "cells": [
    {
      "cell_type": "markdown",
      "metadata": {
        "id": "view-in-github",
        "colab_type": "text"
      },
      "source": [
        "<a href=\"https://colab.research.google.com/github/DamodaraBarbosa/linear_regression_studies/blob/main/Brazil_Cars_Prices_2022_Predict.ipynb\" target=\"_parent\"><img src=\"https://colab.research.google.com/assets/colab-badge.svg\" alt=\"Open In Colab\"/></a>"
      ]
    },
    {
      "cell_type": "markdown",
      "source": [
        "Importando as bibliotecas"
      ],
      "metadata": {
        "id": "l7pib_re8nan"
      }
    },
    {
      "cell_type": "code",
      "execution_count": 1,
      "metadata": {
        "id": "jx7jylXT6t-X"
      },
      "outputs": [],
      "source": [
        "import pandas as pd\n",
        "import numpy as np\n",
        "import matplotlib.pyplot as plt\n",
        "import seaborn as sns\n",
        "import plotly.express as px"
      ]
    },
    {
      "cell_type": "markdown",
      "source": [
        "# Carregando a base de dados em um dataframe"
      ],
      "metadata": {
        "id": "fymHBfmC8xUg"
      }
    },
    {
      "cell_type": "code",
      "source": [
        "cars = pd.read_csv('/content/drive/MyDrive/PracticingDataLinearRegression/fipe_2022.csv')\n",
        "cars.head()"
      ],
      "metadata": {
        "colab": {
          "base_uri": "https://localhost:8080/",
          "height": 206
        },
        "id": "nyDsFFIz8uy4",
        "outputId": "76256aff-fafe-477f-abfc-32d9839510ca"
      },
      "execution_count": 2,
      "outputs": [
        {
          "output_type": "execute_result",
          "data": {
            "text/plain": [
              "   year_of_reference month_of_reference fipe_code authentication  brand  \\\n",
              "0               2022            January  038001-6     vwmrywl5qs  Acura   \n",
              "1               2022            January  038001-6     t9mt723qhz  Acura   \n",
              "2               2022            January  038001-6     tr5wv4z21g  Acura   \n",
              "3               2022            January  038001-6     s2xxsjz3mt  Acura   \n",
              "4               2022            January  038001-6     rtm9gj7zk8  Acura   \n",
              "\n",
              "     model      fuel    gear  engine_size  year_model  avg_price_brl  \\\n",
              "0  NSX 3.0  Gasoline  manual          3.0        1995        43779.0   \n",
              "1  NSX 3.0  Gasoline  manual          3.0        1994        42244.0   \n",
              "2  NSX 3.0  Gasoline  manual          3.0        1993        40841.0   \n",
              "3  NSX 3.0  Gasoline  manual          3.0        1992        39028.0   \n",
              "4  NSX 3.0  Gasoline  manual          3.0        1991        35678.0   \n",
              "\n",
              "   age_years  \n",
              "0         28  \n",
              "1         29  \n",
              "2         30  \n",
              "3         31  \n",
              "4         32  "
            ],
            "text/html": [
              "\n",
              "  <div id=\"df-57bd4fbc-5f1f-4391-9d81-8aba95582155\">\n",
              "    <div class=\"colab-df-container\">\n",
              "      <div>\n",
              "<style scoped>\n",
              "    .dataframe tbody tr th:only-of-type {\n",
              "        vertical-align: middle;\n",
              "    }\n",
              "\n",
              "    .dataframe tbody tr th {\n",
              "        vertical-align: top;\n",
              "    }\n",
              "\n",
              "    .dataframe thead th {\n",
              "        text-align: right;\n",
              "    }\n",
              "</style>\n",
              "<table border=\"1\" class=\"dataframe\">\n",
              "  <thead>\n",
              "    <tr style=\"text-align: right;\">\n",
              "      <th></th>\n",
              "      <th>year_of_reference</th>\n",
              "      <th>month_of_reference</th>\n",
              "      <th>fipe_code</th>\n",
              "      <th>authentication</th>\n",
              "      <th>brand</th>\n",
              "      <th>model</th>\n",
              "      <th>fuel</th>\n",
              "      <th>gear</th>\n",
              "      <th>engine_size</th>\n",
              "      <th>year_model</th>\n",
              "      <th>avg_price_brl</th>\n",
              "      <th>age_years</th>\n",
              "    </tr>\n",
              "  </thead>\n",
              "  <tbody>\n",
              "    <tr>\n",
              "      <th>0</th>\n",
              "      <td>2022</td>\n",
              "      <td>January</td>\n",
              "      <td>038001-6</td>\n",
              "      <td>vwmrywl5qs</td>\n",
              "      <td>Acura</td>\n",
              "      <td>NSX 3.0</td>\n",
              "      <td>Gasoline</td>\n",
              "      <td>manual</td>\n",
              "      <td>3.0</td>\n",
              "      <td>1995</td>\n",
              "      <td>43779.0</td>\n",
              "      <td>28</td>\n",
              "    </tr>\n",
              "    <tr>\n",
              "      <th>1</th>\n",
              "      <td>2022</td>\n",
              "      <td>January</td>\n",
              "      <td>038001-6</td>\n",
              "      <td>t9mt723qhz</td>\n",
              "      <td>Acura</td>\n",
              "      <td>NSX 3.0</td>\n",
              "      <td>Gasoline</td>\n",
              "      <td>manual</td>\n",
              "      <td>3.0</td>\n",
              "      <td>1994</td>\n",
              "      <td>42244.0</td>\n",
              "      <td>29</td>\n",
              "    </tr>\n",
              "    <tr>\n",
              "      <th>2</th>\n",
              "      <td>2022</td>\n",
              "      <td>January</td>\n",
              "      <td>038001-6</td>\n",
              "      <td>tr5wv4z21g</td>\n",
              "      <td>Acura</td>\n",
              "      <td>NSX 3.0</td>\n",
              "      <td>Gasoline</td>\n",
              "      <td>manual</td>\n",
              "      <td>3.0</td>\n",
              "      <td>1993</td>\n",
              "      <td>40841.0</td>\n",
              "      <td>30</td>\n",
              "    </tr>\n",
              "    <tr>\n",
              "      <th>3</th>\n",
              "      <td>2022</td>\n",
              "      <td>January</td>\n",
              "      <td>038001-6</td>\n",
              "      <td>s2xxsjz3mt</td>\n",
              "      <td>Acura</td>\n",
              "      <td>NSX 3.0</td>\n",
              "      <td>Gasoline</td>\n",
              "      <td>manual</td>\n",
              "      <td>3.0</td>\n",
              "      <td>1992</td>\n",
              "      <td>39028.0</td>\n",
              "      <td>31</td>\n",
              "    </tr>\n",
              "    <tr>\n",
              "      <th>4</th>\n",
              "      <td>2022</td>\n",
              "      <td>January</td>\n",
              "      <td>038001-6</td>\n",
              "      <td>rtm9gj7zk8</td>\n",
              "      <td>Acura</td>\n",
              "      <td>NSX 3.0</td>\n",
              "      <td>Gasoline</td>\n",
              "      <td>manual</td>\n",
              "      <td>3.0</td>\n",
              "      <td>1991</td>\n",
              "      <td>35678.0</td>\n",
              "      <td>32</td>\n",
              "    </tr>\n",
              "  </tbody>\n",
              "</table>\n",
              "</div>\n",
              "      <button class=\"colab-df-convert\" onclick=\"convertToInteractive('df-57bd4fbc-5f1f-4391-9d81-8aba95582155')\"\n",
              "              title=\"Convert this dataframe to an interactive table.\"\n",
              "              style=\"display:none;\">\n",
              "        \n",
              "  <svg xmlns=\"http://www.w3.org/2000/svg\" height=\"24px\"viewBox=\"0 0 24 24\"\n",
              "       width=\"24px\">\n",
              "    <path d=\"M0 0h24v24H0V0z\" fill=\"none\"/>\n",
              "    <path d=\"M18.56 5.44l.94 2.06.94-2.06 2.06-.94-2.06-.94-.94-2.06-.94 2.06-2.06.94zm-11 1L8.5 8.5l.94-2.06 2.06-.94-2.06-.94L8.5 2.5l-.94 2.06-2.06.94zm10 10l.94 2.06.94-2.06 2.06-.94-2.06-.94-.94-2.06-.94 2.06-2.06.94z\"/><path d=\"M17.41 7.96l-1.37-1.37c-.4-.4-.92-.59-1.43-.59-.52 0-1.04.2-1.43.59L10.3 9.45l-7.72 7.72c-.78.78-.78 2.05 0 2.83L4 21.41c.39.39.9.59 1.41.59.51 0 1.02-.2 1.41-.59l7.78-7.78 2.81-2.81c.8-.78.8-2.07 0-2.86zM5.41 20L4 18.59l7.72-7.72 1.47 1.35L5.41 20z\"/>\n",
              "  </svg>\n",
              "      </button>\n",
              "      \n",
              "  <style>\n",
              "    .colab-df-container {\n",
              "      display:flex;\n",
              "      flex-wrap:wrap;\n",
              "      gap: 12px;\n",
              "    }\n",
              "\n",
              "    .colab-df-convert {\n",
              "      background-color: #E8F0FE;\n",
              "      border: none;\n",
              "      border-radius: 50%;\n",
              "      cursor: pointer;\n",
              "      display: none;\n",
              "      fill: #1967D2;\n",
              "      height: 32px;\n",
              "      padding: 0 0 0 0;\n",
              "      width: 32px;\n",
              "    }\n",
              "\n",
              "    .colab-df-convert:hover {\n",
              "      background-color: #E2EBFA;\n",
              "      box-shadow: 0px 1px 2px rgba(60, 64, 67, 0.3), 0px 1px 3px 1px rgba(60, 64, 67, 0.15);\n",
              "      fill: #174EA6;\n",
              "    }\n",
              "\n",
              "    [theme=dark] .colab-df-convert {\n",
              "      background-color: #3B4455;\n",
              "      fill: #D2E3FC;\n",
              "    }\n",
              "\n",
              "    [theme=dark] .colab-df-convert:hover {\n",
              "      background-color: #434B5C;\n",
              "      box-shadow: 0px 1px 3px 1px rgba(0, 0, 0, 0.15);\n",
              "      filter: drop-shadow(0px 1px 2px rgba(0, 0, 0, 0.3));\n",
              "      fill: #FFFFFF;\n",
              "    }\n",
              "  </style>\n",
              "\n",
              "      <script>\n",
              "        const buttonEl =\n",
              "          document.querySelector('#df-57bd4fbc-5f1f-4391-9d81-8aba95582155 button.colab-df-convert');\n",
              "        buttonEl.style.display =\n",
              "          google.colab.kernel.accessAllowed ? 'block' : 'none';\n",
              "\n",
              "        async function convertToInteractive(key) {\n",
              "          const element = document.querySelector('#df-57bd4fbc-5f1f-4391-9d81-8aba95582155');\n",
              "          const dataTable =\n",
              "            await google.colab.kernel.invokeFunction('convertToInteractive',\n",
              "                                                     [key], {});\n",
              "          if (!dataTable) return;\n",
              "\n",
              "          const docLinkHtml = 'Like what you see? Visit the ' +\n",
              "            '<a target=\"_blank\" href=https://colab.research.google.com/notebooks/data_table.ipynb>data table notebook</a>'\n",
              "            + ' to learn more about interactive tables.';\n",
              "          element.innerHTML = '';\n",
              "          dataTable['output_type'] = 'display_data';\n",
              "          await google.colab.output.renderOutput(dataTable, element);\n",
              "          const docLink = document.createElement('div');\n",
              "          docLink.innerHTML = docLinkHtml;\n",
              "          element.appendChild(docLink);\n",
              "        }\n",
              "      </script>\n",
              "    </div>\n",
              "  </div>\n",
              "  "
            ]
          },
          "metadata": {},
          "execution_count": 2
        }
      ]
    },
    {
      "cell_type": "markdown",
      "source": [
        "As dimensões do *dataframe*: "
      ],
      "metadata": {
        "id": "-y1_r2xt9RAf"
      }
    },
    {
      "cell_type": "code",
      "source": [
        "cars.shape"
      ],
      "metadata": {
        "colab": {
          "base_uri": "https://localhost:8080/"
        },
        "id": "0ECDQGks8_nr",
        "outputId": "512d3b6b-4d67-4e59-d171-196c714a3c45"
      },
      "execution_count": 3,
      "outputs": [
        {
          "output_type": "execute_result",
          "data": {
            "text/plain": [
              "(290275, 12)"
            ]
          },
          "metadata": {},
          "execution_count": 3
        }
      ]
    },
    {
      "cell_type": "markdown",
      "source": [
        "Algumas informações sobre o *dataframe*:"
      ],
      "metadata": {
        "id": "uQ4mHMj39U00"
      }
    },
    {
      "cell_type": "code",
      "source": [
        "cars.info()"
      ],
      "metadata": {
        "colab": {
          "base_uri": "https://localhost:8080/"
        },
        "id": "ohfQKqtH9P5g",
        "outputId": "fd2abe0c-5051-4bb4-aa25-5577211c2af6"
      },
      "execution_count": 4,
      "outputs": [
        {
          "output_type": "stream",
          "name": "stdout",
          "text": [
            "<class 'pandas.core.frame.DataFrame'>\n",
            "RangeIndex: 290275 entries, 0 to 290274\n",
            "Data columns (total 12 columns):\n",
            " #   Column              Non-Null Count   Dtype  \n",
            "---  ------              --------------   -----  \n",
            " 0   year_of_reference   290275 non-null  int64  \n",
            " 1   month_of_reference  290275 non-null  object \n",
            " 2   fipe_code           290275 non-null  object \n",
            " 3   authentication      290275 non-null  object \n",
            " 4   brand               290275 non-null  object \n",
            " 5   model               290275 non-null  object \n",
            " 6   fuel                290275 non-null  object \n",
            " 7   gear                290275 non-null  object \n",
            " 8   engine_size         290275 non-null  float64\n",
            " 9   year_model          290275 non-null  int64  \n",
            " 10  avg_price_brl       290275 non-null  float64\n",
            " 11  age_years           290275 non-null  int64  \n",
            "dtypes: float64(2), int64(3), object(7)\n",
            "memory usage: 26.6+ MB\n"
          ]
        }
      ]
    },
    {
      "cell_type": "markdown",
      "source": [
        "# Dados únicos em cada coluna"
      ],
      "metadata": {
        "id": "o2aiZOcX94tm"
      }
    },
    {
      "cell_type": "markdown",
      "source": [
        "Por se tratar de uma base de dados que contém carros, há informações sobre modelos, marcas, tipo de motor, combustíveis entre outros dados que precisam ser conhecidos."
      ],
      "metadata": {
        "id": "nXmcTpaT-AgZ"
      }
    },
    {
      "cell_type": "code",
      "source": [
        "cars.columns"
      ],
      "metadata": {
        "colab": {
          "base_uri": "https://localhost:8080/"
        },
        "id": "TyAFAWpp-RK4",
        "outputId": "cb64ffb1-f6a3-4e96-90b9-d9dedf246cd8"
      },
      "execution_count": 5,
      "outputs": [
        {
          "output_type": "execute_result",
          "data": {
            "text/plain": [
              "Index(['year_of_reference', 'month_of_reference', 'fipe_code',\n",
              "       'authentication', 'brand', 'model', 'fuel', 'gear', 'engine_size',\n",
              "       'year_model', 'avg_price_brl', 'age_years'],\n",
              "      dtype='object')"
            ]
          },
          "metadata": {},
          "execution_count": 5
        }
      ]
    },
    {
      "cell_type": "markdown",
      "source": [
        "## Coluna `year_of_reference`"
      ],
      "metadata": {
        "id": "m4Fc6mG7-M94"
      }
    },
    {
      "cell_type": "code",
      "source": [
        "cars['year_of_reference'].unique()"
      ],
      "metadata": {
        "colab": {
          "base_uri": "https://localhost:8080/"
        },
        "id": "EltHyYsZ91Q0",
        "outputId": "c5d11623-3f84-4e55-a704-d599bf626b61"
      },
      "execution_count": 6,
      "outputs": [
        {
          "output_type": "execute_result",
          "data": {
            "text/plain": [
              "array([2022])"
            ]
          },
          "metadata": {},
          "execution_count": 6
        }
      ]
    },
    {
      "cell_type": "markdown",
      "source": [
        "Por se tratar de vendas referentes ao ano de 2022, nesta coluna há apenas 2022. Certamente é uma coluna que será eliminada do *dataframe* posteriormente."
      ],
      "metadata": {
        "id": "kM9PrZiU-au6"
      }
    },
    {
      "cell_type": "markdown",
      "source": [
        "## Coluna `month_of_reference`"
      ],
      "metadata": {
        "id": "i4r_rJ7n_G7U"
      }
    },
    {
      "cell_type": "code",
      "source": [
        "cars['month_of_reference'].unique()"
      ],
      "metadata": {
        "colab": {
          "base_uri": "https://localhost:8080/"
        },
        "id": "BbbSSS47-Yzf",
        "outputId": "de22f472-1086-4b76-a126-49c4d92857c5"
      },
      "execution_count": 7,
      "outputs": [
        {
          "output_type": "execute_result",
          "data": {
            "text/plain": [
              "array(['January', 'February', 'March', 'April', 'May', 'June', 'July',\n",
              "       'August', 'September', 'October', 'November', 'December'],\n",
              "      dtype=object)"
            ]
          },
          "metadata": {},
          "execution_count": 7
        }
      ]
    },
    {
      "cell_type": "markdown",
      "source": [
        "## Coluna `fipe_code`"
      ],
      "metadata": {
        "id": "eEsZnkuu_KA6"
      }
    },
    {
      "cell_type": "code",
      "source": [
        "cars['fipe_code'].unique()"
      ],
      "metadata": {
        "colab": {
          "base_uri": "https://localhost:8080/"
        },
        "id": "piePGz8j-rjq",
        "outputId": "7ab26ad9-5352-4dfb-d79e-b6194be013e6"
      },
      "execution_count": 8,
      "outputs": [
        {
          "output_type": "execute_result",
          "data": {
            "text/plain": [
              "array(['038001-6', '038002-4', '038003-2', ..., '005534-4', '005535-2',\n",
              "       '005536-0'], dtype=object)"
            ]
          },
          "metadata": {},
          "execution_count": 8
        }
      ]
    },
    {
      "cell_type": "code",
      "source": [
        "f'São ao todo {len(cars[\"fipe_code\"].unique())} códigos FIPE diferentes.'"
      ],
      "metadata": {
        "colab": {
          "base_uri": "https://localhost:8080/",
          "height": 35
        },
        "id": "QldMIHgE_RoD",
        "outputId": "049cdbdb-e643-441f-c9d3-eb4595fcf300"
      },
      "execution_count": 9,
      "outputs": [
        {
          "output_type": "execute_result",
          "data": {
            "text/plain": [
              "'São ao todo 5903 códigos FIPE diferentes.'"
            ],
            "application/vnd.google.colaboratory.intrinsic+json": {
              "type": "string"
            }
          },
          "metadata": {},
          "execution_count": 9
        }
      ]
    },
    {
      "cell_type": "markdown",
      "source": [
        "* O que é o código FIPE?"
      ],
      "metadata": {
        "id": "FNadCk1e_oY9"
      }
    },
    {
      "cell_type": "markdown",
      "source": [
        "\"O código FIPE é um número atrelado a cada versão específica de um modelo dentro da tabela FIPE.\"\n",
        "\n",
        "Fonte: https://www.karvi.com.br/blog/tabela-fipe-como-consultar/#:~:text=O%20c%C3%B3digo%20FIPE%20%C3%A9%20um,%C3%A9%20formado%20por%20sete%20n%C3%BAmeros."
      ],
      "metadata": {
        "id": "G7uRouLF_rNP"
      }
    },
    {
      "cell_type": "markdown",
      "source": [
        "## Coluna `authentication`"
      ],
      "metadata": {
        "id": "Zk0Z1wBx_4mr"
      }
    },
    {
      "cell_type": "code",
      "source": [
        "cars['authentication'].unique()"
      ],
      "metadata": {
        "colab": {
          "base_uri": "https://localhost:8080/"
        },
        "id": "M45-S-pC_feT",
        "outputId": "7cbca097-dad0-4790-c5d9-d86c2b369843"
      },
      "execution_count": 10,
      "outputs": [
        {
          "output_type": "execute_result",
          "data": {
            "text/plain": [
              "array(['vwmrywl5qs', 't9mt723qhz', 'tr5wv4z21g', ..., 'lh98rfxnhy18',\n",
              "       'k9dtwsps5sy1', 'j7gt9020nqvt'], dtype=object)"
            ]
          },
          "metadata": {},
          "execution_count": 10
        }
      ]
    },
    {
      "cell_type": "code",
      "source": [
        "f'São ao todo {len(cars[\"authentication\"].unique())} códigos de autenticação diferentes.'"
      ],
      "metadata": {
        "colab": {
          "base_uri": "https://localhost:8080/",
          "height": 35
        },
        "id": "gB5imdKl__hR",
        "outputId": "c22119b6-0f32-47fe-81be-983ffc2e2a53"
      },
      "execution_count": 11,
      "outputs": [
        {
          "output_type": "execute_result",
          "data": {
            "text/plain": [
              "'São ao todo 290273 códigos de autenticação diferentes.'"
            ],
            "application/vnd.google.colaboratory.intrinsic+json": {
              "type": "string"
            }
          },
          "metadata": {},
          "execution_count": 11
        }
      ]
    },
    {
      "cell_type": "markdown",
      "source": [
        "Ou seja, para cada transação há um código específico de autenticação."
      ],
      "metadata": {
        "id": "isnTWCAjAP_a"
      }
    },
    {
      "cell_type": "markdown",
      "source": [
        "## Coluna `brand`"
      ],
      "metadata": {
        "id": "5jLG6hGkAWvb"
      }
    },
    {
      "cell_type": "code",
      "source": [
        "cars['brand'].unique()"
      ],
      "metadata": {
        "colab": {
          "base_uri": "https://localhost:8080/"
        },
        "id": "-97tGyuvALyx",
        "outputId": "c57802e2-9468-4a2f-a3c0-0ec84d206d9e"
      },
      "execution_count": 12,
      "outputs": [
        {
          "output_type": "execute_result",
          "data": {
            "text/plain": [
              "array(['Acura', 'Agrale', 'Alfa Romeo', 'AM Gen', 'Asia Motors',\n",
              "       'ASTON MARTIN', 'Audi', 'Baby', 'BMW', 'BRM', 'CAB Motors',\n",
              "       'Cadillac', 'CBT Jipe', 'CHANA', 'CHANGAN', 'Caoa Chery',\n",
              "       'GM - Chevrolet', 'Chrysler', 'Citroën', 'Cross Lander', 'Daewoo',\n",
              "       'Daihatsu', 'Dodge', 'EFFA', 'Engesa', 'Envemo', 'Ferrari', 'Fiat',\n",
              "       'Fibravan', 'Ford', 'FOTON', 'Fyber', 'GEELY', 'GREAT WALL',\n",
              "       'HAFEI', 'Honda', 'Hyundai', 'Isuzu', 'IVECO', 'JAC', 'Jaguar',\n",
              "       'Jeep', 'JINBEI', 'JPX', 'Kia Motors', 'Lada', 'Land Rover',\n",
              "       'Lexus', 'LIFAN', 'LOBINI', 'Lotus', 'Mahindra', 'Maserati',\n",
              "       'Matra', 'Mazda', 'Mclaren', 'Mercedes-Benz', 'Mercury', 'MG',\n",
              "       'MINI', 'Mitsubishi', 'Nissan', 'Peugeot', 'Plymouth', 'Pontiac',\n",
              "       'Porsche', 'RAM', 'RELY', 'Renault', 'Rolls-Royce', 'Rover',\n",
              "       'Saab', 'Saturn', 'Seat', 'SHINERAY', 'smart', 'SSANGYONG',\n",
              "       'Subaru', 'Suzuki', 'TAC', 'Toyota', 'Troller', 'VW - VolksWagen',\n",
              "       'Volvo', 'Wake', 'Walk'], dtype=object)"
            ]
          },
          "metadata": {},
          "execution_count": 12
        }
      ]
    },
    {
      "cell_type": "code",
      "source": [
        "f'São ao todo {len(cars[\"brand\"].unique())} marcas diferentes presentes na tabela.'"
      ],
      "metadata": {
        "colab": {
          "base_uri": "https://localhost:8080/",
          "height": 35
        },
        "id": "gfGokxurAeS5",
        "outputId": "ab51d1f5-b1ac-4974-9ed1-94f16beb8e6c"
      },
      "execution_count": 13,
      "outputs": [
        {
          "output_type": "execute_result",
          "data": {
            "text/plain": [
              "'São ao todo 86 marcas diferentes presentes na tabela.'"
            ],
            "application/vnd.google.colaboratory.intrinsic+json": {
              "type": "string"
            }
          },
          "metadata": {},
          "execution_count": 13
        }
      ]
    },
    {
      "cell_type": "markdown",
      "source": [
        "## Coluna `model` "
      ],
      "metadata": {
        "id": "G2dyKeprA5I3"
      }
    },
    {
      "cell_type": "code",
      "source": [
        "cars['model'].unique()"
      ],
      "metadata": {
        "colab": {
          "base_uri": "https://localhost:8080/"
        },
        "id": "fBMiU7E7Ay6T",
        "outputId": "28652039-859c-4a4b-e217-beb735d86946"
      },
      "execution_count": 14,
      "outputs": [
        {
          "output_type": "execute_result",
          "data": {
            "text/plain": [
              "array(['NSX 3.0', 'Legend 3.2/3.5', 'Integra GS 1.8', ...,\n",
              "       'C-200 AMG Line EQ Boost 1.5 TB (Hib.)',\n",
              "       'CLASSIC LARAMIE 5.7 CD V8 4X4 Aut.',\n",
              "       'CLASSIC LARAMIE NIGHT ED. 5.7 4X4 Aut.'], dtype=object)"
            ]
          },
          "metadata": {},
          "execution_count": 14
        }
      ]
    },
    {
      "cell_type": "code",
      "source": [
        "f'São ao todo {len(cars[\"model\"].unique())} modelos de carros diferentes presentes na tabela.'"
      ],
      "metadata": {
        "colab": {
          "base_uri": "https://localhost:8080/",
          "height": 35
        },
        "id": "CA13xncgA_00",
        "outputId": "a0c83cbe-68b7-42ae-b38d-c45959c7f27f"
      },
      "execution_count": 15,
      "outputs": [
        {
          "output_type": "execute_result",
          "data": {
            "text/plain": [
              "'São ao todo 6064 modelos de carros diferentes presentes na tabela.'"
            ],
            "application/vnd.google.colaboratory.intrinsic+json": {
              "type": "string"
            }
          },
          "metadata": {},
          "execution_count": 15
        }
      ]
    },
    {
      "cell_type": "markdown",
      "source": [
        "Apesar de o modelo ser uma variável importante na determinação do preço de um carro, a grande quantidade de modelos no banco de dados talvez torne-a uma variável que não poderá ser inserida no modelo preditivo."
      ],
      "metadata": {
        "id": "TxnbS0b9BNVd"
      }
    },
    {
      "cell_type": "markdown",
      "source": [
        "## Coluna `fuel`"
      ],
      "metadata": {
        "id": "SOPsXrgQBhF1"
      }
    },
    {
      "cell_type": "code",
      "source": [
        "cars['fuel'].unique()"
      ],
      "metadata": {
        "colab": {
          "base_uri": "https://localhost:8080/"
        },
        "id": "RJXOjwgNBMcN",
        "outputId": "2c522f47-20d1-4c7c-9386-5551a20ba222"
      },
      "execution_count": 16,
      "outputs": [
        {
          "output_type": "execute_result",
          "data": {
            "text/plain": [
              "array(['Gasoline', 'Diesel', 'Alcohol'], dtype=object)"
            ]
          },
          "metadata": {},
          "execution_count": 16
        }
      ]
    },
    {
      "cell_type": "markdown",
      "source": [
        "## Coluna `gear`"
      ],
      "metadata": {
        "id": "94eqIQzMBwwj"
      }
    },
    {
      "cell_type": "code",
      "source": [
        "cars['gear'].unique()"
      ],
      "metadata": {
        "colab": {
          "base_uri": "https://localhost:8080/"
        },
        "id": "yvhAZQ3-Bkso",
        "outputId": "f6980c14-0e09-4424-ae35-4b9f0ac73bd8"
      },
      "execution_count": 17,
      "outputs": [
        {
          "output_type": "execute_result",
          "data": {
            "text/plain": [
              "array(['manual', 'automatic'], dtype=object)"
            ]
          },
          "metadata": {},
          "execution_count": 17
        }
      ]
    },
    {
      "cell_type": "markdown",
      "source": [
        "## Coluna `engine_size`"
      ],
      "metadata": {
        "id": "SfxGdXBlC1ML"
      }
    },
    {
      "cell_type": "code",
      "source": [
        "cars['engine_size'].unique()"
      ],
      "metadata": {
        "colab": {
          "base_uri": "https://localhost:8080/"
        },
        "id": "IQL9y9GLB1ED",
        "outputId": "64711de1-a60d-475f-d315-888aab9d6791"
      },
      "execution_count": 18,
      "outputs": [
        {
          "output_type": "execute_result",
          "data": {
            "text/plain": [
              "array([3. , 3.2, 1.8, 2.8, 2. , 1.7, 2.5, 6.5, 2.7, 4. , 2.2, 4.7, 6. ,\n",
              "       2.6, 4.2, 2.4, 1.6, 3.6, 5.2, 5. , 1.4, 6.3, 2.9, 1.9, 3.8, 3.5,\n",
              "       5.4, 4.4, 5.6, 4.8, 1.5, 6.6, 2.3, 4.9, 4.6, 1. , 1.3, 1.1, 4.1,\n",
              "       4.3, 3.9, 2.1, 5.7, 3.1, 6.2, 1.2, 3.3, 6.1, 5.9, 6.7, 3.4, 5.5,\n",
              "       4.5, 0.7, 5.8, 3.7])"
            ]
          },
          "metadata": {},
          "execution_count": 18
        }
      ]
    },
    {
      "cell_type": "markdown",
      "source": [
        "## Coluna `year_model`"
      ],
      "metadata": {
        "id": "_9PrbFHWDDdy"
      }
    },
    {
      "cell_type": "code",
      "source": [
        "cars['year_model'].unique()"
      ],
      "metadata": {
        "colab": {
          "base_uri": "https://localhost:8080/"
        },
        "id": "bvvtVf4lDDS1",
        "outputId": "5a52449b-f4c5-4e59-d7ee-9198614d00c2"
      },
      "execution_count": 19,
      "outputs": [
        {
          "output_type": "execute_result",
          "data": {
            "text/plain": [
              "array([1995, 1994, 1993, 1992, 1991, 1998, 1997, 1996, 2007, 2006, 2005,\n",
              "       2004, 2011, 2010, 2009, 2008, 2015, 2014, 2013, 2012, 2023, 2022,\n",
              "       2021, 2020, 2019, 2018, 2017, 2016, 1999, 2002, 2001, 2000, 2003,\n",
              "       1990, 1989, 1988, 1987, 1986, 1985])"
            ]
          },
          "metadata": {},
          "execution_count": 19
        }
      ]
    },
    {
      "cell_type": "markdown",
      "source": [
        "A presença de dados com a idade dos carros pode tornar a coluna `year_model` redundante. Portanto, esta pode ser eleminada posteriormente do *dataframe*."
      ],
      "metadata": {
        "id": "dQZfSXJjDiXC"
      }
    },
    {
      "cell_type": "markdown",
      "source": [
        "## Coluna `avg_price_brl`"
      ],
      "metadata": {
        "id": "7Gw37l-zDKUg"
      }
    },
    {
      "cell_type": "code",
      "source": [
        "cars['avg_price_brl'].unique()"
      ],
      "metadata": {
        "colab": {
          "base_uri": "https://localhost:8080/"
        },
        "id": "cGeOodIuC6AE",
        "outputId": "d1ecf724-0311-4166-a480-e269e19c3cdf"
      },
      "execution_count": 20,
      "outputs": [
        {
          "output_type": "execute_result",
          "data": {
            "text/plain": [
              "array([ 43779.,  42244.,  40841., ..., 237721.,  71892.,  50257.])"
            ]
          },
          "metadata": {},
          "execution_count": 20
        }
      ]
    },
    {
      "cell_type": "markdown",
      "source": [
        "## Coluna `age_years`"
      ],
      "metadata": {
        "id": "thvV5cYjDZtp"
      }
    },
    {
      "cell_type": "code",
      "source": [
        "cars['age_years'].unique()"
      ],
      "metadata": {
        "colab": {
          "base_uri": "https://localhost:8080/"
        },
        "id": "tNbwkvb_DTk-",
        "outputId": "a84ea897-5293-42e1-f777-e8cb24c47274"
      },
      "execution_count": 21,
      "outputs": [
        {
          "output_type": "execute_result",
          "data": {
            "text/plain": [
              "array([28, 29, 30, 31, 32, 25, 26, 27, 16, 17, 18, 19, 12, 13, 14, 15,  8,\n",
              "        9, 10, 11,  0,  1,  2,  3,  4,  5,  6,  7, 24, 21, 22, 23, 20, 33,\n",
              "       34, 35, 36, 37, 38])"
            ]
          },
          "metadata": {},
          "execution_count": 21
        }
      ]
    },
    {
      "cell_type": "markdown",
      "source": [
        "# Tratamentos da base de dados"
      ],
      "metadata": {
        "id": "vVySa9bXEO35"
      }
    },
    {
      "cell_type": "code",
      "source": [
        "cars.columns"
      ],
      "metadata": {
        "colab": {
          "base_uri": "https://localhost:8080/"
        },
        "id": "9_r8z2WaF0i1",
        "outputId": "37e65b92-b382-4a86-bb6e-a967de9da30c"
      },
      "execution_count": 22,
      "outputs": [
        {
          "output_type": "execute_result",
          "data": {
            "text/plain": [
              "Index(['year_of_reference', 'month_of_reference', 'fipe_code',\n",
              "       'authentication', 'brand', 'model', 'fuel', 'gear', 'engine_size',\n",
              "       'year_model', 'avg_price_brl', 'age_years'],\n",
              "      dtype='object')"
            ]
          },
          "metadata": {},
          "execution_count": 22
        }
      ]
    },
    {
      "cell_type": "markdown",
      "source": [
        "* Eliminação da coluna `year_of_reference`, `fipe_code` e `authentication`:"
      ],
      "metadata": {
        "id": "My3teoVjF16f"
      }
    },
    {
      "cell_type": "code",
      "source": [
        "cars.drop(['year_of_reference', 'fipe_code', 'authentication'], axis= 1, inplace= True)"
      ],
      "metadata": {
        "id": "A1u0cS2gF9tA"
      },
      "execution_count": 23,
      "outputs": []
    },
    {
      "cell_type": "markdown",
      "source": [
        "# Codificando as variáveis categóricas"
      ],
      "metadata": {
        "id": "h-FFVRerHUoA"
      }
    },
    {
      "cell_type": "markdown",
      "source": [
        "Para facilitar o trabalho é necessário instalar a biblioteca:"
      ],
      "metadata": {
        "id": "ZKuyX6dsHYuZ"
      }
    },
    {
      "cell_type": "code",
      "source": [
        "!pip install category_encoders"
      ],
      "metadata": {
        "colab": {
          "base_uri": "https://localhost:8080/"
        },
        "id": "KMWhNOR2HdW5",
        "outputId": "7376b697-b9fa-4fa6-bfba-daf23a5b9d22"
      },
      "execution_count": 25,
      "outputs": [
        {
          "output_type": "stream",
          "name": "stdout",
          "text": [
            "Looking in indexes: https://pypi.org/simple, https://us-python.pkg.dev/colab-wheels/public/simple/\n",
            "Collecting category_encoders\n",
            "  Downloading category_encoders-2.5.1.post0-py2.py3-none-any.whl (72 kB)\n",
            "\u001b[K     |████████████████████████████████| 72 kB 775 kB/s \n",
            "\u001b[?25hRequirement already satisfied: numpy>=1.14.0 in /usr/local/lib/python3.8/dist-packages (from category_encoders) (1.21.6)\n",
            "Requirement already satisfied: scikit-learn>=0.20.0 in /usr/local/lib/python3.8/dist-packages (from category_encoders) (1.0.2)\n",
            "Requirement already satisfied: scipy>=1.0.0 in /usr/local/lib/python3.8/dist-packages (from category_encoders) (1.7.3)\n",
            "Requirement already satisfied: pandas>=1.0.5 in /usr/local/lib/python3.8/dist-packages (from category_encoders) (1.3.5)\n",
            "Requirement already satisfied: statsmodels>=0.9.0 in /usr/local/lib/python3.8/dist-packages (from category_encoders) (0.12.2)\n",
            "Requirement already satisfied: patsy>=0.5.1 in /usr/local/lib/python3.8/dist-packages (from category_encoders) (0.5.3)\n",
            "Requirement already satisfied: pytz>=2017.3 in /usr/local/lib/python3.8/dist-packages (from pandas>=1.0.5->category_encoders) (2022.6)\n",
            "Requirement already satisfied: python-dateutil>=2.7.3 in /usr/local/lib/python3.8/dist-packages (from pandas>=1.0.5->category_encoders) (2.8.2)\n",
            "Requirement already satisfied: six in /usr/local/lib/python3.8/dist-packages (from patsy>=0.5.1->category_encoders) (1.15.0)\n",
            "Requirement already satisfied: threadpoolctl>=2.0.0 in /usr/local/lib/python3.8/dist-packages (from scikit-learn>=0.20.0->category_encoders) (3.1.0)\n",
            "Requirement already satisfied: joblib>=0.11 in /usr/local/lib/python3.8/dist-packages (from scikit-learn>=0.20.0->category_encoders) (1.2.0)\n",
            "Installing collected packages: category-encoders\n",
            "Successfully installed category-encoders-2.5.1.post0\n"
          ]
        }
      ]
    },
    {
      "cell_type": "markdown",
      "source": [
        "A ferramenta usada deve ser importada:"
      ],
      "metadata": {
        "id": "ej4VYtE6HlG3"
      }
    },
    {
      "cell_type": "code",
      "source": [
        "from category_encoders.one_hot import OneHotEncoder"
      ],
      "metadata": {
        "id": "zSN164q9Hkm2"
      },
      "execution_count": 28,
      "outputs": []
    },
    {
      "cell_type": "code",
      "source": [
        "cars.columns"
      ],
      "metadata": {
        "colab": {
          "base_uri": "https://localhost:8080/"
        },
        "id": "WjvDuShEIZPs",
        "outputId": "273cc509-4842-4c5d-f42f-e2aa529bae1a"
      },
      "execution_count": 29,
      "outputs": [
        {
          "output_type": "execute_result",
          "data": {
            "text/plain": [
              "Index(['month_of_reference', 'brand', 'model', 'fuel', 'gear', 'engine_size',\n",
              "       'year_model', 'avg_price_brl', 'age_years'],\n",
              "      dtype='object')"
            ]
          },
          "metadata": {},
          "execution_count": 29
        }
      ]
    },
    {
      "cell_type": "code",
      "source": [
        "one_hot_encoder = OneHotEncoder(cols= ['month_of_reference'])"
      ],
      "metadata": {
        "id": "xLo5Y0W8HtjB"
      },
      "execution_count": 39,
      "outputs": []
    },
    {
      "cell_type": "code",
      "source": [
        "encoding = one_hot_encoder.fit_transform(cars[['month_of_reference']])"
      ],
      "metadata": {
        "id": "JG9C_QOuIh9h"
      },
      "execution_count": 40,
      "outputs": []
    },
    {
      "cell_type": "code",
      "source": [
        "encoding.columns = one_hot_encoder.get_feature_names(['month_of_reference'])"
      ],
      "metadata": {
        "colab": {
          "base_uri": "https://localhost:8080/",
          "height": 165
        },
        "id": "qUK_m1AfKz3T",
        "outputId": "ea30949e-62b0-41dc-a098-bd0901339588"
      },
      "execution_count": 44,
      "outputs": [
        {
          "output_type": "error",
          "ename": "TypeError",
          "evalue": "ignored",
          "traceback": [
            "\u001b[0;31m---------------------------------------------------------------------------\u001b[0m",
            "\u001b[0;31mTypeError\u001b[0m                                 Traceback (most recent call last)",
            "\u001b[0;32m<ipython-input-44-1ba15eacb66e>\u001b[0m in \u001b[0;36m<module>\u001b[0;34m\u001b[0m\n\u001b[0;32m----> 1\u001b[0;31m \u001b[0mencoding\u001b[0m\u001b[0;34m.\u001b[0m\u001b[0mcolumns\u001b[0m \u001b[0;34m=\u001b[0m \u001b[0mone_hot_encoder\u001b[0m\u001b[0;34m.\u001b[0m\u001b[0mget_feature_names\u001b[0m\u001b[0;34m(\u001b[0m\u001b[0;34m[\u001b[0m\u001b[0;34m'month_of_reference'\u001b[0m\u001b[0;34m]\u001b[0m\u001b[0;34m)\u001b[0m\u001b[0;34m\u001b[0m\u001b[0;34m\u001b[0m\u001b[0m\n\u001b[0m",
            "\u001b[0;31mTypeError\u001b[0m: get_feature_names() takes 1 positional argument but 2 were given"
          ]
        }
      ]
    },
    {
      "cell_type": "code",
      "source": [
        "encoding"
      ],
      "metadata": {
        "id": "u796zIKsLIDD"
      },
      "execution_count": null,
      "outputs": []
    },
    {
      "cell_type": "markdown",
      "source": [
        "# Análise de correlação das variáveis"
      ],
      "metadata": {
        "id": "msfSVVtdD3Fp"
      }
    },
    {
      "cell_type": "code",
      "source": [
        "cars.corr()"
      ],
      "metadata": {
        "id": "b9IDh2p7Df0d"
      },
      "execution_count": null,
      "outputs": []
    },
    {
      "cell_type": "code",
      "source": [],
      "metadata": {
        "id": "VUC5KRpGE2xZ"
      },
      "execution_count": null,
      "outputs": []
    }
  ]
}